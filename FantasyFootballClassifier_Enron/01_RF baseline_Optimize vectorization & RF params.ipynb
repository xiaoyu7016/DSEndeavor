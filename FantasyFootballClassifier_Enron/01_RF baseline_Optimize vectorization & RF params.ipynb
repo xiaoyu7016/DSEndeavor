{
 "cells": [
  {
   "cell_type": "code",
   "execution_count": 2,
   "metadata": {
    "collapsed": true
   },
   "outputs": [],
   "source": [
    "import pickle\n",
    "from datetime import datetime\n",
    "from pprint import pprint\n",
    "\n",
    "import pandas as pd\n",
    "import numpy as np\n",
    "import scipy as sp\n",
    "from sklearn.feature_extraction.text import CountVectorizer\n",
    "from sklearn.feature_extraction.text import TfidfTransformer\n",
    "from sklearn import ensemble\n",
    "from sklearn import metrics\n",
    "from sklearn.pipeline import Pipeline\n",
    "from sklearn.cross_validation import ShuffleSplit\n",
    "from sklearn.grid_search import GridSearchCV\n",
    "\n",
    "\n",
    "import matplotlib.pyplot as plt\n",
    "%matplotlib inline"
   ]
  },
  {
   "cell_type": "code",
   "execution_count": 3,
   "metadata": {
    "collapsed": false,
    "scrolled": true
   },
   "outputs": [
    {
     "data": {
      "text/html": [
       "<div>\n",
       "<table border=\"1\" class=\"dataframe\">\n",
       "  <thead>\n",
       "    <tr style=\"text-align: right;\">\n",
       "      <th></th>\n",
       "      <th>id</th>\n",
       "      <th>call</th>\n",
       "      <th>ex_tag</th>\n",
       "      <th>txt</th>\n",
       "    </tr>\n",
       "  </thead>\n",
       "  <tbody>\n",
       "    <tr>\n",
       "      <th>0</th>\n",
       "      <td>CTRL000000096</td>\n",
       "      <td>0</td>\n",
       "      <td>0</td>\n",
       "      <td>subject  fw  quality moves to utilize on your ...</td>\n",
       "    </tr>\n",
       "    <tr>\n",
       "      <th>1</th>\n",
       "      <td>CTRL000000097</td>\n",
       "      <td>0</td>\n",
       "      <td>0</td>\n",
       "      <td>subject  schedule confirmation from  guzman  m...</td>\n",
       "    </tr>\n",
       "    <tr>\n",
       "      <th>2</th>\n",
       "      <td>CTRL000000099</td>\n",
       "      <td>0</td>\n",
       "      <td>0</td>\n",
       "      <td>subject  emergency meeting from   williams iii...</td>\n",
       "    </tr>\n",
       "  </tbody>\n",
       "</table>\n",
       "</div>"
      ],
      "text/plain": [
       "              id  call  ex_tag  \\\n",
       "0  CTRL000000096     0       0   \n",
       "1  CTRL000000097     0       0   \n",
       "2  CTRL000000099     0       0   \n",
       "\n",
       "                                                 txt  \n",
       "0  subject  fw  quality moves to utilize on your ...  \n",
       "1  subject  schedule confirmation from  guzman  m...  \n",
       "2  subject  emergency meeting from   williams iii...  "
      ]
     },
     "execution_count": 3,
     "metadata": {},
     "output_type": "execute_result"
    }
   ],
   "source": [
    "# Read in data\n",
    "all_data_preprocessed_pkl = open(\"104K_data_preprocessed.pkl\",\"rb\")\n",
    "all_data = pickle.load(all_data_preprocessed_pkl)\n",
    "all_data[['call','ex_tag']] = all_data[['call','ex_tag']].astype('int')\n",
    "\n",
    "all_data[:3]"
   ]
  },
  {
   "cell_type": "markdown",
   "metadata": {},
   "source": [
    "## 1. Benchmark model\n",
    "(1) Bag-of-Word model: frequency count version\n",
    "\n",
    "(2) No tf-idf transformation\n",
    "\n",
    "(3) Default RandomForest classifier"
   ]
  },
  {
   "cell_type": "markdown",
   "metadata": {},
   "source": [
    "#### 1.1 Apply CountVectorizer with random choice of parameters\n",
    "Note: vectorized on the whole document space (train + test) to avoid different feature extraction"
   ]
  },
  {
   "cell_type": "code",
   "execution_count": 4,
   "metadata": {
    "collapsed": false
   },
   "outputs": [
    {
     "name": "stdout",
     "output_type": "stream",
     "text": [
      "0:02:07.877604\n",
      "(104541, 2000)\n"
     ]
    },
    {
     "data": {
      "text/plain": [
       "scipy.sparse.csr.csr_matrix"
      ]
     },
     "execution_count": 4,
     "metadata": {},
     "output_type": "execute_result"
    }
   ],
   "source": [
    "# Vectorization - count, random choice of parameters\n",
    "# timing\n",
    "start_time = datetime.today()\n",
    "\n",
    "# Instantiate CountVectorizer\n",
    "vectorizer = CountVectorizer(\n",
    "                             encoding='utf-8-sig',\n",
    "                             max_features = 2000,\n",
    "                             ngram_range = (1, 2),\n",
    "                             stop_words = 'english',\n",
    "                             max_df= .95,\n",
    "                             )\n",
    "vectorizer.fit(all_data['txt'])\n",
    "txt_BOW = vectorizer.transform(all_data['txt'])\n",
    "\n",
    "print (datetime.today() - start_time)\n",
    "# ~0:50 for (binary) uni-gram\n",
    "# 3:37 for tri-gram\n",
    "\n",
    "\n",
    "\n",
    "# See what's it like\n",
    "print (txt_BOW.shape)\n",
    "type(txt_BOW)"
   ]
  },
  {
   "cell_type": "markdown",
   "metadata": {},
   "source": [
    "#### 1.2 Split training and test set\n",
    "660 training doc; 330/330"
   ]
  },
  {
   "cell_type": "code",
   "execution_count": 5,
   "metadata": {
    "collapsed": false
   },
   "outputs": [
    {
     "name": "stdout",
     "output_type": "stream",
     "text": [
      "660\n",
      "['CTRL000052948', 'CTRL000053534', 'CTRL000054613']\n"
     ]
    }
   ],
   "source": [
    "# Get doc id for training set\n",
    "train_docid = []\n",
    "f_train_docid = open(\"train_id.txt\",\"r\")\n",
    "for line in f_train_docid:\n",
    "    file_name = line.lstrip().rstrip()\n",
    "    train_docid.append(file_name)\n",
    "f_train_docid.close()\n",
    "\n",
    "# See what's inside\n",
    "print(len(set(train_docid)))  # Check uniqueness\n",
    "print(train_docid[:3])\n",
    "\n",
    "train_mask = np.where([i in train_docid for i in all_data['id']])[0]\n",
    "test_mask = np.where([i not in train_docid for i in all_data['id']])[0]"
   ]
  },
  {
   "cell_type": "code",
   "execution_count": 6,
   "metadata": {
    "collapsed": false
   },
   "outputs": [
    {
     "name": "stdout",
     "output_type": "stream",
     "text": [
      "(660, 2000)\n",
      "(103881, 2000)\n",
      "(660,)\n",
      "(103881,)\n"
     ]
    }
   ],
   "source": [
    "X_train = txt_BOW[train_mask,:]\n",
    "X_test = txt_BOW[test_mask,]\n",
    "Y_train = all_data.iloc[train_mask,]['call']\n",
    "Y_test =  all_data.iloc[test_mask,]['call']\n",
    "\n",
    "print(X_train.shape)\n",
    "print(X_test.shape)\n",
    "print(Y_train.shape)\n",
    "print(Y_test.shape)"
   ]
  },
  {
   "cell_type": "markdown",
   "metadata": {},
   "source": [
    "#### 1.3 Predict with a default RandomForest classifier"
   ]
  },
  {
   "cell_type": "code",
   "execution_count": 7,
   "metadata": {
    "collapsed": true
   },
   "outputs": [],
   "source": [
    "# Initiate a classifier\n",
    "rf_default = ensemble.RandomForestClassifier(random_state = 1)\n",
    "\n",
    "# Train\n",
    "rf_default.fit(X_train,Y_train)\n",
    "\n",
    "# Predict\n",
    "pred_rf_default = rf_default.predict(X_test)"
   ]
  },
  {
   "cell_type": "code",
   "execution_count": 8,
   "metadata": {
    "collapsed": false
   },
   "outputs": [
    {
     "name": "stdout",
     "output_type": "stream",
     "text": [
      "Prediction - baseline\n",
      "[[ 1030 13957]\n",
      " [  628 88266]]\n",
      "\n",
      "Accuracy: 0.859599;\n",
      " Precision: 0.621230;\n",
      " Recall: 0.123761;\n",
      " f1 score: 0.123761\n"
     ]
    }
   ],
   "source": [
    "print (\"Prediction - baseline\")\n",
    "print (metrics.confusion_matrix(Y_test, pred_rf_default, labels = [1, 0]))\n",
    "print ()\n",
    "\n",
    "accuracy = (metrics.accuracy_score(Y_test, pred_rf_default))\n",
    "precision = (metrics.precision_score(Y_test, pred_rf_default, pos_label = 1, average = 'binary'))\n",
    "recall = (metrics.recall_score(Y_test, pred_rf_default, pos_label = 1, average = 'binary'))\n",
    "f1 = recall = (metrics.f1_score(Y_test, pred_rf_default, pos_label = 1, average = 'binary'))\n",
    "print (\"Accuracy: %f;\\n Precision: %f;\\n Recall: %f;\\n f1 score: %f\" %(accuracy, precision, recall, f1))"
   ]
  },
  {
   "cell_type": "code",
   "execution_count": 9,
   "metadata": {
    "collapsed": false
   },
   "outputs": [
    {
     "data": {
      "text/plain": [
       "<matplotlib.axes._subplots.AxesSubplot at 0x22930780>"
      ]
     },
     "execution_count": 9,
     "metadata": {},
     "output_type": "execute_result"
    },
    {
     "data": {
      "image/png": "[encoded data removed]",
      "text/plain": [
       "<matplotlib.figure.Figure at 0x4406e10>"
      ]
     },
     "metadata": {},
     "output_type": "display_data"
    }
   ],
   "source": [
    "feature_df = pd.DataFrame({\"Features\": vectorizer.get_feature_names(), \n",
    "                           \"Importance\": rf_default.feature_importances_\n",
    "                          })\n",
    "feature_df.sort_values('Importance', ascending = False)[:10].plot(x = 'Features', y = 'Importance', kind='bar')"
   ]
  },
  {
   "cell_type": "markdown",
   "metadata": {},
   "source": [
    "### 2. Optimize vectorizing process\n",
    "(1) Optimize parameters for CountVectorizer\n",
    "\n",
    "(2) Apply and optimize parameters for tf-idf transformation\n",
    "\n",
    "(3) Optimizae parameters for RandomForest classifier"
   ]
  },
  {
   "cell_type": "code",
   "execution_count": 9,
   "metadata": {
    "collapsed": true
   },
   "outputs": [],
   "source": [
    "# Parameters\n",
    "N_CORES = 1  \n",
    "CV_FOLDS = ShuffleSplit(all_data.shape[0], random_state = 1, n_iter = 10, test_size = 0.95)"
   ]
  },
  {
   "cell_type": "markdown",
   "metadata": {},
   "source": [
    "#### 2.1 Optimize parameters for CountVectorizer"
   ]
  },
  {
   "cell_type": "code",
   "execution_count": 10,
   "metadata": {
    "collapsed": false
   },
   "outputs": [],
   "source": [
    "# Create a pipeline: bag-of-word vectorizer -> default RandomForest classifier\n",
    "pipeline = Pipeline ([\n",
    "        ('vect_bow', CountVectorizer(encoding = 'utf-8-sig', stop_words = 'english', ngram_range = (1, 1))),\n",
    "        ('model_rf', ensemble.RandomForestClassifier(random_state = 1))\n",
    "    ])\n",
    "\n",
    "\n",
    "# Find best combination of number of features and range of n-gram\n",
    "parameters_1 = {\n",
    "    'vect_bow__binary': (False, True),\n",
    "    'vect_bow__max_features': (200, 2000, 5000),\n",
    "    'vect_bow__max_df': (0.95, 0.85)\n",
    "}\n",
    "\n",
    "\n",
    "# choose the best parameter combo to max f1 score\n",
    "grid_search_1 = GridSearchCV(pipeline, parameters_1, cv = CV_FOLDS, scoring = 'f1', n_jobs = N_CORES)  \n",
    "\n",
    "# scoring params:\n",
    "# precision\n",
    "# recall\n",
    "# roc_auc (<=> precision)\n",
    "# f1 - harmonic mean of precision and recall"
   ]
  },
  {
   "cell_type": "code",
   "execution_count": 11,
   "metadata": {
    "collapsed": false,
    "scrolled": true
   },
   "outputs": [
    {
     "name": "stdout",
     "output_type": "stream",
     "text": [
      "pipeline: ['vect_bow', 'model_rf']\n",
      "parameters:\n",
      "{'vect_bow__max_df': (0.95, 0.85), 'vect_bow__binary': (False, True), 'vect_bow__max_features': (200, 2000, 5000)}\n",
      "0:46:27.187297\n",
      "\n",
      "0.935400759542\n",
      "{'vect_bow__max_df': 0.95, 'vect_bow__binary': True, 'vect_bow__max_features': 5000}\n",
      "[mean: 0.90890, std: 0.00371, params: {'vect_bow__max_df': 0.95, 'vect_bow__binary': False, 'vect_bow__max_features': 200},\n",
      " mean: 0.92454, std: 0.00390, params: {'vect_bow__max_df': 0.95, 'vect_bow__binary': False, 'vect_bow__max_features': 2000},\n",
      " mean: 0.93154, std: 0.00303, params: {'vect_bow__max_df': 0.95, 'vect_bow__binary': False, 'vect_bow__max_features': 5000},\n",
      " mean: 0.90890, std: 0.00371, params: {'vect_bow__max_df': 0.85, 'vect_bow__binary': False, 'vect_bow__max_features': 200},\n",
      " mean: 0.92454, std: 0.00390, params: {'vect_bow__max_df': 0.85, 'vect_bow__binary': False, 'vect_bow__max_features': 2000},\n",
      " mean: 0.93154, std: 0.00303, params: {'vect_bow__max_df': 0.85, 'vect_bow__binary': False, 'vect_bow__max_features': 5000},\n",
      " mean: 0.90990, std: 0.00248, params: {'vect_bow__max_df': 0.95, 'vect_bow__binary': True, 'vect_bow__max_features': 200},\n",
      " mean: 0.93167, std: 0.00328, params: {'vect_bow__max_df': 0.95, 'vect_bow__binary': True, 'vect_bow__max_features': 2000},\n",
      " mean: 0.93540, std: 0.00313, params: {'vect_bow__max_df': 0.95, 'vect_bow__binary': True, 'vect_bow__max_features': 5000},\n",
      " mean: 0.90990, std: 0.00248, params: {'vect_bow__max_df': 0.85, 'vect_bow__binary': True, 'vect_bow__max_features': 200},\n",
      " mean: 0.93167, std: 0.00328, params: {'vect_bow__max_df': 0.85, 'vect_bow__binary': True, 'vect_bow__max_features': 2000},\n",
      " mean: 0.93540, std: 0.00313, params: {'vect_bow__max_df': 0.85, 'vect_bow__binary': True, 'vect_bow__max_features': 5000}]\n"
     ]
    }
   ],
   "source": [
    "print(\"pipeline:\", [name for name, _ in pipeline.steps])\n",
    "print(\"parameters:\")\n",
    "print(parameters_1)\n",
    "start_time = datetime.today() \n",
    "grid_search_1.fit(all_data['txt'], all_data['call'])\n",
    "print(datetime.today() - start_time)\n",
    "print()\n",
    "\n",
    "print(grid_search_1.best_score_)\n",
    "print(grid_search_1.best_params_)\n",
    "pprint(grid_search_1.grid_scores_)"
   ]
  },
  {
   "cell_type": "code",
   "execution_count": 14,
   "metadata": {
    "collapsed": false
   },
   "outputs": [],
   "source": [
    "{'vect_bow__max_df': 0.95, 'vect_bow__binary': True, 'vect_bow__max_features': 5000}\n",
    "\n",
    "# Keep best parameters\n",
    "BINARY_1 = grid_search_1.best_params_['vect_bow__binary']\n",
    "MAX_FEATURES_1 = grid_search_1.best_params_['vect_bow__max_features']\n",
    "MAX_DF_1 = grid_search_1.best_params_['vect_bow__max_df']\n",
    "\n",
    "# Keep best parameters for count frequency\n",
    "BINARY_2 = False\n",
    "MAX_FEATURES_2 = 5000\n",
    "MAX_DF_2 = 0.85"
   ]
  },
  {
   "cell_type": "markdown",
   "metadata": {},
   "source": [
    "#### 2.2 Apply and optimize parameters for tf-idf transformation"
   ]
  },
  {
   "cell_type": "code",
   "execution_count": 16,
   "metadata": {
    "collapsed": false
   },
   "outputs": [],
   "source": [
    "pipeline_2 = Pipeline([\n",
    "        ('vect_bow', CountVectorizer(encoding = 'utf-8-sig', \n",
    "                                     stop_words = 'english', \n",
    "                                     binary = BINARY_2,\n",
    "                                     max_df = MAX_DF_2, \n",
    "                                     max_features = MAX_FEATURES_2,\n",
    "                                     ngram_range = (1, 1))), # Use optimized feature just now\n",
    "        ('tfidf', TfidfTransformer()),\n",
    "        ('model_rf', ensemble.RandomForestClassifier(random_state = 1))\n",
    "    ])\n",
    "\n",
    "parameters_2 = {\n",
    "    'tfidf__use_idf': (False, True),\n",
    "    'tfidf__norm': ('l2', 'l1', None),\n",
    "    'tfidf__sublinear_tf': (False, True),\n",
    "}\n",
    "\n",
    "grid_search_2 = GridSearchCV(pipeline_2, parameters_2, cv = CV_FOLDS, scoring = 'f1', n_jobs = N_CORES) \n"
   ]
  },
  {
   "cell_type": "code",
   "execution_count": 17,
   "metadata": {
    "collapsed": false
   },
   "outputs": [
    {
     "name": "stdout",
     "output_type": "stream",
     "text": [
      "pipeline: ['vect_bow', 'tfidf', 'model_rf']\n",
      "parameters:\n",
      "{'tfidf__norm': ('l2', 'l1', None), 'tfidf__sublinear_tf': (False, True), 'tfidf__use_idf': (False, True)}\n",
      "\n",
      "0:48:11.530063\n",
      "\n",
      "0.932189641716\n",
      "{'tfidf__norm': None, 'tfidf__sublinear_tf': True, 'tfidf__use_idf': False}\n",
      "\n",
      "[mean: 0.92943, std: 0.00313, params: {'tfidf__norm': 'l2', 'tfidf__sublinear_tf': False, 'tfidf__use_idf': False},\n",
      " mean: 0.92815, std: 0.00306, params: {'tfidf__norm': 'l2', 'tfidf__sublinear_tf': False, 'tfidf__use_idf': True},\n",
      " mean: 0.92996, std: 0.00251, params: {'tfidf__norm': 'l2', 'tfidf__sublinear_tf': True, 'tfidf__use_idf': False},\n",
      " mean: 0.92919, std: 0.00208, params: {'tfidf__norm': 'l2', 'tfidf__sublinear_tf': True, 'tfidf__use_idf': True},\n",
      " mean: 0.92911, std: 0.00261, params: {'tfidf__norm': 'l1', 'tfidf__sublinear_tf': False, 'tfidf__use_idf': False},\n",
      " mean: 0.92798, std: 0.00313, params: {'tfidf__norm': 'l1', 'tfidf__sublinear_tf': False, 'tfidf__use_idf': True},\n",
      " mean: 0.92891, std: 0.00312, params: {'tfidf__norm': 'l1', 'tfidf__sublinear_tf': True, 'tfidf__use_idf': False},\n",
      " mean: 0.92878, std: 0.00317, params: {'tfidf__norm': 'l1', 'tfidf__sublinear_tf': True, 'tfidf__use_idf': True},\n",
      " mean: 0.93154, std: 0.00303, params: {'tfidf__norm': None, 'tfidf__sublinear_tf': False, 'tfidf__use_idf': False},\n",
      " mean: 0.93154, std: 0.00302, params: {'tfidf__norm': None, 'tfidf__sublinear_tf': False, 'tfidf__use_idf': True},\n",
      " mean: 0.93219, std: 0.00293, params: {'tfidf__norm': None, 'tfidf__sublinear_tf': True, 'tfidf__use_idf': False},\n",
      " mean: 0.93219, std: 0.00293, params: {'tfidf__norm': None, 'tfidf__sublinear_tf': True, 'tfidf__use_idf': True}]\n"
     ]
    }
   ],
   "source": [
    "print(\"pipeline:\", [name for name, _ in pipeline_2.steps])\n",
    "print(\"parameters:\")\n",
    "print(parameters_2)\n",
    "start_time = datetime.today()\n",
    "grid_search_2.fit(all_data['txt'], all_data['call'])\n",
    "print()\n",
    "\n",
    "print(datetime.today() - start_time)\n",
    "print()\n",
    "\n",
    "print(grid_search_2.best_score_)\n",
    "print(grid_search_2.best_params_)\n",
    "print()\n",
    "\n",
    "pprint(grid_search_2.grid_scores_)"
   ]
  },
  {
   "cell_type": "code",
   "execution_count": 18,
   "metadata": {
    "collapsed": true
   },
   "outputs": [],
   "source": [
    "# Keep best parameters\n",
    "SUBLINEAR_TF = grid_search_2.best_params_['tfidf__sublinear_tf']\n",
    "USE_IDF = grid_search_2.best_params_['tfidf__use_idf']\n",
    "NORM = grid_search_2.best_params_['tfidf__norm']"
   ]
  },
  {
   "cell_type": "markdown",
   "metadata": {},
   "source": [
    "#### 2.3 Optimize parameters for Randomforest"
   ]
  },
  {
   "cell_type": "code",
   "execution_count": 19,
   "metadata": {
    "collapsed": false
   },
   "outputs": [
    {
     "name": "stdout",
     "output_type": "stream",
     "text": [
      "0:00:45.838000\n",
      "(104541, 5000)\n"
     ]
    }
   ],
   "source": [
    "# Apply optimized transformation\n",
    "\n",
    "# timing\n",
    "start_time = datetime.today()\n",
    "\n",
    "# 1. Vectorize to count matrix\n",
    "vectorizer = CountVectorizer(\n",
    "                             encoding = 'utf-8-sig', \n",
    "                             stop_words = 'english', \n",
    "                             binary = BINARY,\n",
    "                             max_df = MAX_DF, \n",
    "                             max_features = MAX_FEATURES, \n",
    "                             ngram_range = (1, 1)\n",
    "                             )\n",
    "vectorizer.fit(all_data['txt'])\n",
    "txt_BOW = vectorizer.transform(all_data['txt'])\n",
    "\n",
    "\n",
    "\n",
    "# 2. Tf-idf transformation\n",
    "tfidf_transformer = TfidfTransformer(\n",
    "                                     sublinear_tf = SUBLINEAR_TF, \n",
    "                                     use_idf = USE_IDF, \n",
    "                                     norm = NORM)\n",
    "tfidf_transformer.fit(txt_BOW)\n",
    "txt_TFIDF = tfidf_transformer.transform(txt_BOW)\n",
    "\n",
    "# timing\n",
    "print (datetime.today() - start_time)\n",
    "\n",
    "# See what's it like\n",
    "print (txt_TFIDF.shape)"
   ]
  },
  {
   "cell_type": "code",
   "execution_count": 20,
   "metadata": {
    "collapsed": false
   },
   "outputs": [],
   "source": [
    "model_rf = ensemble.RandomForestClassifier(random_state = 1, n_jobs = N_CORES)\n",
    "\n",
    "parameters_rf = {\n",
    "    'n_estimators': (100, 200, 300),\n",
    "    'max_features': ('log2', 40, 'sqrt'),\n",
    "    'min_samples_leaf': (1, 10, 50)\n",
    "    \n",
    "    # 3 major attributes that affect a RF performance/processing time\n",
    "}\n",
    "\n",
    "grid_search_rf = GridSearchCV(model_rf, parameters_rf, cv = CV_FOLDS, scoring = 'f1')"
   ]
  },
  {
   "cell_type": "code",
   "execution_count": 21,
   "metadata": {
    "collapsed": false
   },
   "outputs": [
    {
     "name": "stderr",
     "output_type": "stream",
     "text": [
      "C:\\Users\\Yuwen Wang\\Anaconda3\\lib\\site-packages\\sklearn\\metrics\\classification.py:1074: UndefinedMetricWarning: F-score is ill-defined and being set to 0.0 due to no predicted samples.\n",
      "  'precision', 'predicted', average, warn_for)\n",
      "C:\\Users\\Yuwen Wang\\Anaconda3\\lib\\site-packages\\sklearn\\metrics\\classification.py:1074: UndefinedMetricWarning: F-score is ill-defined and being set to 0.0 due to no predicted samples.\n",
      "  'precision', 'predicted', average, warn_for)\n",
      "C:\\Users\\Yuwen Wang\\Anaconda3\\lib\\site-packages\\sklearn\\metrics\\classification.py:1074: UndefinedMetricWarning: F-score is ill-defined and being set to 0.0 due to no predicted samples.\n",
      "  'precision', 'predicted', average, warn_for)\n",
      "C:\\Users\\Yuwen Wang\\Anaconda3\\lib\\site-packages\\sklearn\\metrics\\classification.py:1074: UndefinedMetricWarning: F-score is ill-defined and being set to 0.0 due to no predicted samples.\n",
      "  'precision', 'predicted', average, warn_for)\n",
      "C:\\Users\\Yuwen Wang\\Anaconda3\\lib\\site-packages\\sklearn\\metrics\\classification.py:1074: UndefinedMetricWarning: F-score is ill-defined and being set to 0.0 due to no predicted samples.\n",
      "  'precision', 'predicted', average, warn_for)\n",
      "C:\\Users\\Yuwen Wang\\Anaconda3\\lib\\site-packages\\sklearn\\metrics\\classification.py:1074: UndefinedMetricWarning: F-score is ill-defined and being set to 0.0 due to no predicted samples.\n",
      "  'precision', 'predicted', average, warn_for)\n",
      "C:\\Users\\Yuwen Wang\\Anaconda3\\lib\\site-packages\\sklearn\\metrics\\classification.py:1074: UndefinedMetricWarning: F-score is ill-defined and being set to 0.0 due to no predicted samples.\n",
      "  'precision', 'predicted', average, warn_for)\n",
      "C:\\Users\\Yuwen Wang\\Anaconda3\\lib\\site-packages\\sklearn\\metrics\\classification.py:1074: UndefinedMetricWarning: F-score is ill-defined and being set to 0.0 due to no predicted samples.\n",
      "  'precision', 'predicted', average, warn_for)\n",
      "C:\\Users\\Yuwen Wang\\Anaconda3\\lib\\site-packages\\sklearn\\metrics\\classification.py:1074: UndefinedMetricWarning: F-score is ill-defined and being set to 0.0 due to no predicted samples.\n",
      "  'precision', 'predicted', average, warn_for)\n",
      "C:\\Users\\Yuwen Wang\\Anaconda3\\lib\\site-packages\\sklearn\\metrics\\classification.py:1074: UndefinedMetricWarning: F-score is ill-defined and being set to 0.0 due to no predicted samples.\n",
      "  'precision', 'predicted', average, warn_for)\n",
      "C:\\Users\\Yuwen Wang\\Anaconda3\\lib\\site-packages\\sklearn\\metrics\\classification.py:1074: UndefinedMetricWarning: F-score is ill-defined and being set to 0.0 due to no predicted samples.\n",
      "  'precision', 'predicted', average, warn_for)\n",
      "C:\\Users\\Yuwen Wang\\Anaconda3\\lib\\site-packages\\sklearn\\metrics\\classification.py:1074: UndefinedMetricWarning: F-score is ill-defined and being set to 0.0 due to no predicted samples.\n",
      "  'precision', 'predicted', average, warn_for)\n",
      "C:\\Users\\Yuwen Wang\\Anaconda3\\lib\\site-packages\\sklearn\\metrics\\classification.py:1074: UndefinedMetricWarning: F-score is ill-defined and being set to 0.0 due to no predicted samples.\n",
      "  'precision', 'predicted', average, warn_for)\n",
      "C:\\Users\\Yuwen Wang\\Anaconda3\\lib\\site-packages\\sklearn\\metrics\\classification.py:1074: UndefinedMetricWarning: F-score is ill-defined and being set to 0.0 due to no predicted samples.\n",
      "  'precision', 'predicted', average, warn_for)\n",
      "C:\\Users\\Yuwen Wang\\Anaconda3\\lib\\site-packages\\sklearn\\metrics\\classification.py:1074: UndefinedMetricWarning: F-score is ill-defined and being set to 0.0 due to no predicted samples.\n",
      "  'precision', 'predicted', average, warn_for)\n",
      "C:\\Users\\Yuwen Wang\\Anaconda3\\lib\\site-packages\\sklearn\\metrics\\classification.py:1074: UndefinedMetricWarning: F-score is ill-defined and being set to 0.0 due to no predicted samples.\n",
      "  'precision', 'predicted', average, warn_for)\n",
      "C:\\Users\\Yuwen Wang\\Anaconda3\\lib\\site-packages\\sklearn\\metrics\\classification.py:1074: UndefinedMetricWarning: F-score is ill-defined and being set to 0.0 due to no predicted samples.\n",
      "  'precision', 'predicted', average, warn_for)\n",
      "C:\\Users\\Yuwen Wang\\Anaconda3\\lib\\site-packages\\sklearn\\metrics\\classification.py:1074: UndefinedMetricWarning: F-score is ill-defined and being set to 0.0 due to no predicted samples.\n",
      "  'precision', 'predicted', average, warn_for)\n",
      "C:\\Users\\Yuwen Wang\\Anaconda3\\lib\\site-packages\\sklearn\\metrics\\classification.py:1074: UndefinedMetricWarning: F-score is ill-defined and being set to 0.0 due to no predicted samples.\n",
      "  'precision', 'predicted', average, warn_for)\n",
      "C:\\Users\\Yuwen Wang\\Anaconda3\\lib\\site-packages\\sklearn\\metrics\\classification.py:1074: UndefinedMetricWarning: F-score is ill-defined and being set to 0.0 due to no predicted samples.\n",
      "  'precision', 'predicted', average, warn_for)\n",
      "C:\\Users\\Yuwen Wang\\Anaconda3\\lib\\site-packages\\sklearn\\metrics\\classification.py:1074: UndefinedMetricWarning: F-score is ill-defined and being set to 0.0 due to no predicted samples.\n",
      "  'precision', 'predicted', average, warn_for)\n",
      "C:\\Users\\Yuwen Wang\\Anaconda3\\lib\\site-packages\\sklearn\\metrics\\classification.py:1074: UndefinedMetricWarning: F-score is ill-defined and being set to 0.0 due to no predicted samples.\n",
      "  'precision', 'predicted', average, warn_for)\n",
      "C:\\Users\\Yuwen Wang\\Anaconda3\\lib\\site-packages\\sklearn\\metrics\\classification.py:1074: UndefinedMetricWarning: F-score is ill-defined and being set to 0.0 due to no predicted samples.\n",
      "  'precision', 'predicted', average, warn_for)\n",
      "C:\\Users\\Yuwen Wang\\Anaconda3\\lib\\site-packages\\sklearn\\metrics\\classification.py:1074: UndefinedMetricWarning: F-score is ill-defined and being set to 0.0 due to no predicted samples.\n",
      "  'precision', 'predicted', average, warn_for)\n",
      "C:\\Users\\Yuwen Wang\\Anaconda3\\lib\\site-packages\\sklearn\\metrics\\classification.py:1074: UndefinedMetricWarning: F-score is ill-defined and being set to 0.0 due to no predicted samples.\n",
      "  'precision', 'predicted', average, warn_for)\n",
      "C:\\Users\\Yuwen Wang\\Anaconda3\\lib\\site-packages\\sklearn\\metrics\\classification.py:1074: UndefinedMetricWarning: F-score is ill-defined and being set to 0.0 due to no predicted samples.\n",
      "  'precision', 'predicted', average, warn_for)\n",
      "C:\\Users\\Yuwen Wang\\Anaconda3\\lib\\site-packages\\sklearn\\metrics\\classification.py:1074: UndefinedMetricWarning: F-score is ill-defined and being set to 0.0 due to no predicted samples.\n",
      "  'precision', 'predicted', average, warn_for)\n",
      "C:\\Users\\Yuwen Wang\\Anaconda3\\lib\\site-packages\\sklearn\\metrics\\classification.py:1074: UndefinedMetricWarning: F-score is ill-defined and being set to 0.0 due to no predicted samples.\n",
      "  'precision', 'predicted', average, warn_for)\n",
      "C:\\Users\\Yuwen Wang\\Anaconda3\\lib\\site-packages\\sklearn\\metrics\\classification.py:1074: UndefinedMetricWarning: F-score is ill-defined and being set to 0.0 due to no predicted samples.\n",
      "  'precision', 'predicted', average, warn_for)\n",
      "C:\\Users\\Yuwen Wang\\Anaconda3\\lib\\site-packages\\sklearn\\metrics\\classification.py:1074: UndefinedMetricWarning: F-score is ill-defined and being set to 0.0 due to no predicted samples.\n",
      "  'precision', 'predicted', average, warn_for)\n",
      "C:\\Users\\Yuwen Wang\\Anaconda3\\lib\\site-packages\\sklearn\\metrics\\classification.py:1074: UndefinedMetricWarning: F-score is ill-defined and being set to 0.0 due to no predicted samples.\n",
      "  'precision', 'predicted', average, warn_for)\n",
      "C:\\Users\\Yuwen Wang\\Anaconda3\\lib\\site-packages\\sklearn\\metrics\\classification.py:1074: UndefinedMetricWarning: F-score is ill-defined and being set to 0.0 due to no predicted samples.\n",
      "  'precision', 'predicted', average, warn_for)\n",
      "C:\\Users\\Yuwen Wang\\Anaconda3\\lib\\site-packages\\sklearn\\metrics\\classification.py:1074: UndefinedMetricWarning: F-score is ill-defined and being set to 0.0 due to no predicted samples.\n",
      "  'precision', 'predicted', average, warn_for)\n",
      "C:\\Users\\Yuwen Wang\\Anaconda3\\lib\\site-packages\\sklearn\\metrics\\classification.py:1074: UndefinedMetricWarning: F-score is ill-defined and being set to 0.0 due to no predicted samples.\n",
      "  'precision', 'predicted', average, warn_for)\n",
      "C:\\Users\\Yuwen Wang\\Anaconda3\\lib\\site-packages\\sklearn\\metrics\\classification.py:1074: UndefinedMetricWarning: F-score is ill-defined and being set to 0.0 due to no predicted samples.\n",
      "  'precision', 'predicted', average, warn_for)\n",
      "C:\\Users\\Yuwen Wang\\Anaconda3\\lib\\site-packages\\sklearn\\metrics\\classification.py:1074: UndefinedMetricWarning: F-score is ill-defined and being set to 0.0 due to no predicted samples.\n",
      "  'precision', 'predicted', average, warn_for)\n",
      "C:\\Users\\Yuwen Wang\\Anaconda3\\lib\\site-packages\\sklearn\\metrics\\classification.py:1074: UndefinedMetricWarning: F-score is ill-defined and being set to 0.0 due to no predicted samples.\n",
      "  'precision', 'predicted', average, warn_for)\n",
      "C:\\Users\\Yuwen Wang\\Anaconda3\\lib\\site-packages\\sklearn\\metrics\\classification.py:1074: UndefinedMetricWarning: F-score is ill-defined and being set to 0.0 due to no predicted samples.\n",
      "  'precision', 'predicted', average, warn_for)\n",
      "C:\\Users\\Yuwen Wang\\Anaconda3\\lib\\site-packages\\sklearn\\metrics\\classification.py:1074: UndefinedMetricWarning: F-score is ill-defined and being set to 0.0 due to no predicted samples.\n",
      "  'precision', 'predicted', average, warn_for)\n",
      "C:\\Users\\Yuwen Wang\\Anaconda3\\lib\\site-packages\\sklearn\\metrics\\classification.py:1074: UndefinedMetricWarning: F-score is ill-defined and being set to 0.0 due to no predicted samples.\n",
      "  'precision', 'predicted', average, warn_for)\n",
      "C:\\Users\\Yuwen Wang\\Anaconda3\\lib\\site-packages\\sklearn\\metrics\\classification.py:1074: UndefinedMetricWarning: F-score is ill-defined and being set to 0.0 due to no predicted samples.\n",
      "  'precision', 'predicted', average, warn_for)\n",
      "C:\\Users\\Yuwen Wang\\Anaconda3\\lib\\site-packages\\sklearn\\metrics\\classification.py:1074: UndefinedMetricWarning: F-score is ill-defined and being set to 0.0 due to no predicted samples.\n",
      "  'precision', 'predicted', average, warn_for)\n",
      "C:\\Users\\Yuwen Wang\\Anaconda3\\lib\\site-packages\\sklearn\\metrics\\classification.py:1074: UndefinedMetricWarning: F-score is ill-defined and being set to 0.0 due to no predicted samples.\n",
      "  'precision', 'predicted', average, warn_for)\n",
      "C:\\Users\\Yuwen Wang\\Anaconda3\\lib\\site-packages\\sklearn\\metrics\\classification.py:1074: UndefinedMetricWarning: F-score is ill-defined and being set to 0.0 due to no predicted samples.\n",
      "  'precision', 'predicted', average, warn_for)\n",
      "C:\\Users\\Yuwen Wang\\Anaconda3\\lib\\site-packages\\sklearn\\metrics\\classification.py:1074: UndefinedMetricWarning: F-score is ill-defined and being set to 0.0 due to no predicted samples.\n",
      "  'precision', 'predicted', average, warn_for)\n",
      "C:\\Users\\Yuwen Wang\\Anaconda3\\lib\\site-packages\\sklearn\\metrics\\classification.py:1074: UndefinedMetricWarning: F-score is ill-defined and being set to 0.0 due to no predicted samples.\n",
      "  'precision', 'predicted', average, warn_for)\n",
      "C:\\Users\\Yuwen Wang\\Anaconda3\\lib\\site-packages\\sklearn\\metrics\\classification.py:1074: UndefinedMetricWarning: F-score is ill-defined and being set to 0.0 due to no predicted samples.\n",
      "  'precision', 'predicted', average, warn_for)\n",
      "C:\\Users\\Yuwen Wang\\Anaconda3\\lib\\site-packages\\sklearn\\metrics\\classification.py:1074: UndefinedMetricWarning: F-score is ill-defined and being set to 0.0 due to no predicted samples.\n",
      "  'precision', 'predicted', average, warn_for)\n",
      "C:\\Users\\Yuwen Wang\\Anaconda3\\lib\\site-packages\\sklearn\\metrics\\classification.py:1074: UndefinedMetricWarning: F-score is ill-defined and being set to 0.0 due to no predicted samples.\n",
      "  'precision', 'predicted', average, warn_for)\n",
      "C:\\Users\\Yuwen Wang\\Anaconda3\\lib\\site-packages\\sklearn\\metrics\\classification.py:1074: UndefinedMetricWarning: F-score is ill-defined and being set to 0.0 due to no predicted samples.\n",
      "  'precision', 'predicted', average, warn_for)\n",
      "C:\\Users\\Yuwen Wang\\Anaconda3\\lib\\site-packages\\sklearn\\metrics\\classification.py:1074: UndefinedMetricWarning: F-score is ill-defined and being set to 0.0 due to no predicted samples.\n",
      "  'precision', 'predicted', average, warn_for)\n",
      "C:\\Users\\Yuwen Wang\\Anaconda3\\lib\\site-packages\\sklearn\\metrics\\classification.py:1074: UndefinedMetricWarning: F-score is ill-defined and being set to 0.0 due to no predicted samples.\n",
      "  'precision', 'predicted', average, warn_for)\n",
      "C:\\Users\\Yuwen Wang\\Anaconda3\\lib\\site-packages\\sklearn\\metrics\\classification.py:1074: UndefinedMetricWarning: F-score is ill-defined and being set to 0.0 due to no predicted samples.\n",
      "  'precision', 'predicted', average, warn_for)\n",
      "C:\\Users\\Yuwen Wang\\Anaconda3\\lib\\site-packages\\sklearn\\metrics\\classification.py:1074: UndefinedMetricWarning: F-score is ill-defined and being set to 0.0 due to no predicted samples.\n",
      "  'precision', 'predicted', average, warn_for)\n",
      "C:\\Users\\Yuwen Wang\\Anaconda3\\lib\\site-packages\\sklearn\\metrics\\classification.py:1074: UndefinedMetricWarning: F-score is ill-defined and being set to 0.0 due to no predicted samples.\n",
      "  'precision', 'predicted', average, warn_for)\n",
      "C:\\Users\\Yuwen Wang\\Anaconda3\\lib\\site-packages\\sklearn\\metrics\\classification.py:1074: UndefinedMetricWarning: F-score is ill-defined and being set to 0.0 due to no predicted samples.\n",
      "  'precision', 'predicted', average, warn_for)\n",
      "C:\\Users\\Yuwen Wang\\Anaconda3\\lib\\site-packages\\sklearn\\metrics\\classification.py:1074: UndefinedMetricWarning: F-score is ill-defined and being set to 0.0 due to no predicted samples.\n",
      "  'precision', 'predicted', average, warn_for)\n",
      "C:\\Users\\Yuwen Wang\\Anaconda3\\lib\\site-packages\\sklearn\\metrics\\classification.py:1074: UndefinedMetricWarning: F-score is ill-defined and being set to 0.0 due to no predicted samples.\n",
      "  'precision', 'predicted', average, warn_for)\n",
      "C:\\Users\\Yuwen Wang\\Anaconda3\\lib\\site-packages\\sklearn\\metrics\\classification.py:1074: UndefinedMetricWarning: F-score is ill-defined and being set to 0.0 due to no predicted samples.\n",
      "  'precision', 'predicted', average, warn_for)\n",
      "C:\\Users\\Yuwen Wang\\Anaconda3\\lib\\site-packages\\sklearn\\metrics\\classification.py:1074: UndefinedMetricWarning: F-score is ill-defined and being set to 0.0 due to no predicted samples.\n",
      "  'precision', 'predicted', average, warn_for)\n",
      "C:\\Users\\Yuwen Wang\\Anaconda3\\lib\\site-packages\\sklearn\\metrics\\classification.py:1074: UndefinedMetricWarning: F-score is ill-defined and being set to 0.0 due to no predicted samples.\n",
      "  'precision', 'predicted', average, warn_for)\n",
      "C:\\Users\\Yuwen Wang\\Anaconda3\\lib\\site-packages\\sklearn\\metrics\\classification.py:1074: UndefinedMetricWarning: F-score is ill-defined and being set to 0.0 due to no predicted samples.\n",
      "  'precision', 'predicted', average, warn_for)\n",
      "C:\\Users\\Yuwen Wang\\Anaconda3\\lib\\site-packages\\sklearn\\metrics\\classification.py:1074: UndefinedMetricWarning: F-score is ill-defined and being set to 0.0 due to no predicted samples.\n",
      "  'precision', 'predicted', average, warn_for)\n",
      "C:\\Users\\Yuwen Wang\\Anaconda3\\lib\\site-packages\\sklearn\\metrics\\classification.py:1074: UndefinedMetricWarning: F-score is ill-defined and being set to 0.0 due to no predicted samples.\n",
      "  'precision', 'predicted', average, warn_for)\n"
     ]
    },
    {
     "name": "stdout",
     "output_type": "stream",
     "text": [
      "0:26:00.422392\n",
      "\n",
      "0.939223980736\n",
      "{'max_features': 'sqrt', 'n_estimators': 200, 'min_samples_leaf': 1}\n",
      "\n",
      "[mean: 0.93076, std: 0.00217, params: {'max_features': 'log2', 'n_estimators': 100, 'min_samples_leaf': 1},\n",
      " mean: 0.93181, std: 0.00211, params: {'max_features': 'log2', 'n_estimators': 200, 'min_samples_leaf': 1},\n",
      " mean: 0.93203, std: 0.00221, params: {'max_features': 'log2', 'n_estimators': 300, 'min_samples_leaf': 1},\n",
      " mean: 0.02294, std: 0.01851, params: {'max_features': 'log2', 'n_estimators': 100, 'min_samples_leaf': 10},\n",
      " mean: 0.03039, std: 0.01934, params: {'max_features': 'log2', 'n_estimators': 200, 'min_samples_leaf': 10},\n",
      " mean: 0.03493, std: 0.01884, params: {'max_features': 'log2', 'n_estimators': 300, 'min_samples_leaf': 10},\n",
      " mean: 0.00000, std: 0.00000, params: {'max_features': 'log2', 'n_estimators': 100, 'min_samples_leaf': 50},\n",
      " mean: 0.00000, std: 0.00000, params: {'max_features': 'log2', 'n_estimators': 200, 'min_samples_leaf': 50},\n",
      " mean: 0.00000, std: 0.00000, params: {'max_features': 'log2', 'n_estimators': 300, 'min_samples_leaf': 50},\n",
      " mean: 0.93652, std: 0.00176, params: {'max_features': 40, 'n_estimators': 100, 'min_samples_leaf': 1},\n",
      " mean: 0.93693, std: 0.00203, params: {'max_features': 40, 'n_estimators': 200, 'min_samples_leaf': 1},\n",
      " mean: 0.93680, std: 0.00213, params: {'max_features': 40, 'n_estimators': 300, 'min_samples_leaf': 1},\n",
      " mean: 0.86323, std: 0.00862, params: {'max_features': 40, 'n_estimators': 100, 'min_samples_leaf': 10},\n",
      " mean: 0.86669, std: 0.00854, params: {'max_features': 40, 'n_estimators': 200, 'min_samples_leaf': 10},\n",
      " mean: 0.86870, std: 0.00674, params: {'max_features': 40, 'n_estimators': 300, 'min_samples_leaf': 10},\n",
      " mean: 0.00000, std: 0.00000, params: {'max_features': 40, 'n_estimators': 100, 'min_samples_leaf': 50},\n",
      " mean: 0.00000, std: 0.00000, params: {'max_features': 40, 'n_estimators': 200, 'min_samples_leaf': 50},\n",
      " mean: 0.00000, std: 0.00000, params: {'max_features': 40, 'n_estimators': 300, 'min_samples_leaf': 50},\n",
      " mean: 0.93853, std: 0.00256, params: {'max_features': 'sqrt', 'n_estimators': 100, 'min_samples_leaf': 1},\n",
      " mean: 0.93922, std: 0.00224, params: {'max_features': 'sqrt', 'n_estimators': 200, 'min_samples_leaf': 1},\n",
      " mean: 0.93911, std: 0.00235, params: {'max_features': 'sqrt', 'n_estimators': 300, 'min_samples_leaf': 1},\n",
      " mean: 0.88513, std: 0.00106, params: {'max_features': 'sqrt', 'n_estimators': 100, 'min_samples_leaf': 10},\n",
      " mean: 0.88585, std: 0.00090, params: {'max_features': 'sqrt', 'n_estimators': 200, 'min_samples_leaf': 10},\n",
      " mean: 0.88603, std: 0.00098, params: {'max_features': 'sqrt', 'n_estimators': 300, 'min_samples_leaf': 10},\n",
      " mean: 0.75250, std: 0.11360, params: {'max_features': 'sqrt', 'n_estimators': 100, 'min_samples_leaf': 50},\n",
      " mean: 0.78606, std: 0.03569, params: {'max_features': 'sqrt', 'n_estimators': 200, 'min_samples_leaf': 50},\n",
      " mean: 0.81601, std: 0.01450, params: {'max_features': 'sqrt', 'n_estimators': 300, 'min_samples_leaf': 50}]\n"
     ]
    }
   ],
   "source": [
    "start_time = datetime.today()\n",
    "grid_search_rf.fit(txt_TFIDF, all_data['call'])\n",
    "\n",
    "print(datetime.today() - start_time)\n",
    "print()\n",
    "\n",
    "print(grid_search_rf.best_score_)\n",
    "print(grid_search_rf.best_params_)\n",
    "print()\n",
    "\n",
    "pprint(grid_search_rf.grid_scores_)"
   ]
  },
  {
   "cell_type": "code",
   "execution_count": 22,
   "metadata": {
    "collapsed": false
   },
   "outputs": [],
   "source": [
    "# Keep best params\n",
    "N_ESTIMATORS = grid_search_rf.best_params_['n_estimators']\n",
    "MIN_SAMPLES_LEAF = grid_search_rf.best_params_['min_samples_leaf']\n",
    "MAX_FEATURES_RF = grid_search_rf.best_params_['max_features']"
   ]
  },
  {
   "cell_type": "code",
   "execution_count": 27,
   "metadata": {
    "collapsed": false
   },
   "outputs": [
    {
     "data": {
      "text/plain": [
       "200"
      ]
     },
     "execution_count": 27,
     "metadata": {},
     "output_type": "execute_result"
    }
   ],
   "source": [
    "# Keep best parameters for count frequency\n",
    "BINARY_2 = False\n",
    "MAX_FEATURES_2 = 5000\n",
    "MAX_DF_2 = 0.85\n",
    "'tfidf__norm': None, 'tfidf__sublinear_tf': True, 'tfidf__use_idf': False\n",
    "N_ESTIMATORS = 200\n",
    "MIN_SAMPLES_LEAF = 1\n",
    "MAX_FEATURES = 'sqrt'"
   ]
  },
  {
   "cell_type": "markdown",
   "metadata": {},
   "source": [
    "### 3. Apply optimized vectorizing and RandomForestClassifier"
   ]
  },
  {
   "cell_type": "code",
   "execution_count": 23,
   "metadata": {
    "collapsed": false
   },
   "outputs": [
    {
     "name": "stdout",
     "output_type": "stream",
     "text": [
      "(660, 5000)\n",
      "(103881, 5000)\n",
      "(660,)\n",
      "(103881,)\n"
     ]
    }
   ],
   "source": [
    "X_train = txt_TFIDF[train_mask,:]\n",
    "X_test = txt_TFIDF[test_mask,]\n",
    "Y_train = all_data.iloc[train_mask,]['call']\n",
    "Y_test =  all_data.iloc[test_mask,]['call']\n",
    "\n",
    "print(X_train.shape)\n",
    "print(X_test.shape)\n",
    "print(Y_train.shape)\n",
    "print(Y_test.shape)"
   ]
  },
  {
   "cell_type": "code",
   "execution_count": 24,
   "metadata": {
    "collapsed": false
   },
   "outputs": [],
   "source": [
    "rf_optimized = ensemble.RandomForestClassifier(\n",
    "                                               random_state = 1, \n",
    "                                               n_jobs = N_CORES,\n",
    "                                               n_estimators = N_ESTIMATORS,\n",
    "                                               min_samples_leaf = MIN_SAMPLES_LEAF,\n",
    "                                               max_features = MAX_FEATURES_RF\n",
    "                                               )\n",
    "rf_optimized.fit(X_train, Y_train)\n",
    "pred_rf_optimized = rf_optimized.predict(X_test)"
   ]
  },
  {
   "cell_type": "code",
   "execution_count": 25,
   "metadata": {
    "collapsed": false
   },
   "outputs": [
    {
     "name": "stdout",
     "output_type": "stream",
     "text": [
      "Prediction - optimized\n",
      "[[ 1032 13955]\n",
      " [  334 88560]]\n",
      "Accuracy: 0.862448;\n",
      " Precision: 0.755490;\n",
      " Recall: 0.126215;\n",
      " f1 score: 0.126215\n"
     ]
    }
   ],
   "source": [
    "print (\"Prediction - optimized\")\n",
    "print (metrics.confusion_matrix(Y_test, pred_rf_optimized, labels = [1, 0]))\n",
    "\n",
    "accuracy = (metrics.accuracy_score(Y_test, pred_rf_optimized))\n",
    "precision = (metrics.precision_score(Y_test, pred_rf_optimized, pos_label = 1, average = 'binary'))\n",
    "recall = (metrics.recall_score(Y_test, pred_rf_optimized, pos_label = 1, average = 'binary'))\n",
    "f1 = (metrics.f1_score(Y_test, pred_rf_optimized, pos_label = 1, average = 'binary'))\n",
    "print (\"Accuracy: %f;\\n Precision: %f;\\n Recall: %f;\\n f1 score: %f\" %(accuracy, precision, recall, f1))"
   ]
  },
  {
   "cell_type": "code",
   "execution_count": 26,
   "metadata": {
    "collapsed": false
   },
   "outputs": [
    {
     "data": {
      "text/plain": [
       "<matplotlib.axes._subplots.AxesSubplot at 0x2248f09a518>"
      ]
     },
     "execution_count": 26,
     "metadata": {},
     "output_type": "execute_result"
    },
    {
     "data": {
      "image/png": "[encoded data removed]",
      "text/plain": [
       "<matplotlib.figure.Figure at 0x2249335eba8>"
      ]
     },
     "metadata": {},
     "output_type": "display_data"
    }
   ],
   "source": [
    "feature_df = pd.DataFrame({\"Features\": vectorizer.get_feature_names(), \n",
    "                           \"Importance\": rf_optimized.feature_importances_\n",
    "                          })\n",
    "feature_df.sort_values('Importance', ascending = False)[:10].plot(x = 'Features', y = 'Importance', kind='bar')"
   ]
  }
 ],
 "metadata": {
  "anaconda-cloud": {},
  "kernelspec": {
   "display_name": "Python [Root]",
   "language": "python",
   "name": "Python [Root]"
  },
  "language_info": {
   "codemirror_mode": {
    "name": "ipython",
    "version": 3
   },
   "file_extension": ".py",
   "mimetype": "text/x-python",
   "name": "python",
   "nbconvert_exporter": "python",
   "pygments_lexer": "ipython3",
   "version": "3.5.2"
  }
 },
 "nbformat": 4,
 "nbformat_minor": 0
}
