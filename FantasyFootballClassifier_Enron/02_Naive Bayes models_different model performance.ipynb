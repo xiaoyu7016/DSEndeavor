{
 "cells": [
  {
   "cell_type": "code",
   "execution_count": 1,
   "metadata": {
    "collapsed": true
   },
   "outputs": [],
   "source": [
    "import pickle\n",
    "from datetime import datetime\n",
    "\n",
    "import math\n",
    "import pandas as pd\n",
    "import numpy as np\n",
    "import scipy as sp\n",
    "from sklearn.feature_extraction.text import CountVectorizer\n",
    "from sklearn.feature_extraction.text import TfidfTransformer\n",
    "from sklearn.cross_validation import train_test_split\n",
    "\n",
    "# Models\n",
    "from sklearn.naive_bayes import MultinomialNB, BernoulliNB\n",
    "from sklearn import linear_model\n",
    "from sklearn import ensemble\n",
    "from sklearn import metrics\n",
    "from sklearn.cross_validation import ShuffleSplit\n",
    "#from sklearn.pipeline import Pipeline\n",
    "#from sklearn.grid_search import GridSearchCV\n",
    "\n",
    "\n",
    "import matplotlib.pyplot as plt\n",
    "%matplotlib inline"
   ]
  },
  {
   "cell_type": "code",
   "execution_count": 2,
   "metadata": {
    "collapsed": false
   },
   "outputs": [],
   "source": [
    "# A helper function to get metrics\n",
    "def get_metrics(y_truth, y_predicted, p_label, return_flag = False):\n",
    "    confusion_matrix = metrics.confusion_matrix(y_truth, y_predicted, labels = [1,0])\n",
    "    accuracy = round((metrics.accuracy_score(y_truth, y_predicted)), 2)\n",
    "    precision = round((metrics.precision_score(y_truth, y_predicted, pos_label = p_label, average = 'binary')), 2)\n",
    "    recall = round((metrics.recall_score(y_truth, y_predicted, pos_label = p_label, average = 'binary')), 2)\n",
    "    \n",
    "    if(return_flag):\n",
    "        return(pd.DataFrame([accuracy,precision,recall]).transpose())\n",
    "    else:\n",
    "        print (\"Confusion Matrix:\")\n",
    "        print (confusion_matrix)\n",
    "        print ()\n",
    "        print (\"Accuracy: %f;\\nPrecision: %f;\\nRecall: %f;\" %(accuracy, precision, recall))\n"
   ]
  },
  {
   "cell_type": "code",
   "execution_count": 6,
   "metadata": {
    "collapsed": false
   },
   "outputs": [
    {
     "data": {
      "text/html": [
       "<div>\n",
       "<table border=\"1\" class=\"dataframe\">\n",
       "  <thead>\n",
       "    <tr style=\"text-align: right;\">\n",
       "      <th></th>\n",
       "      <th>id</th>\n",
       "      <th>call</th>\n",
       "      <th>ex_tag</th>\n",
       "      <th>txt</th>\n",
       "    </tr>\n",
       "  </thead>\n",
       "  <tbody>\n",
       "    <tr>\n",
       "      <th>0</th>\n",
       "      <td>CTRL000000096</td>\n",
       "      <td>0</td>\n",
       "      <td>0</td>\n",
       "      <td>subject  fw  quality moves to utilize on your ...</td>\n",
       "    </tr>\n",
       "    <tr>\n",
       "      <th>1</th>\n",
       "      <td>CTRL000000097</td>\n",
       "      <td>0</td>\n",
       "      <td>0</td>\n",
       "      <td>subject  schedule confirmation from  guzman  m...</td>\n",
       "    </tr>\n",
       "    <tr>\n",
       "      <th>2</th>\n",
       "      <td>CTRL000000099</td>\n",
       "      <td>0</td>\n",
       "      <td>0</td>\n",
       "      <td>subject  emergency meeting from   williams iii...</td>\n",
       "    </tr>\n",
       "  </tbody>\n",
       "</table>\n",
       "</div>"
      ],
      "text/plain": [
       "              id  call  ex_tag  \\\n",
       "0  CTRL000000096     0       0   \n",
       "1  CTRL000000097     0       0   \n",
       "2  CTRL000000099     0       0   \n",
       "\n",
       "                                                 txt  \n",
       "0  subject  fw  quality moves to utilize on your ...  \n",
       "1  subject  schedule confirmation from  guzman  m...  \n",
       "2  subject  emergency meeting from   williams iii...  "
      ]
     },
     "execution_count": 6,
     "metadata": {},
     "output_type": "execute_result"
    }
   ],
   "source": [
    "# Read in data\n",
    "all_data_preprocessed_pkl = open(\"C:\\\\Users\\\\YWang\\\\Desktop\\\\plg\\\\4th meeting_0922\\\\104K_data_preprocessed.pkl\",\"rb\")\n",
    "all_data = pickle.load(all_data_preprocessed_pkl)\n",
    "all_data[['call','ex_tag']] = all_data[['call','ex_tag']].astype('int')\n",
    "\n",
    "all_data[:3]"
   ]
  },
  {
   "cell_type": "code",
   "execution_count": 7,
   "metadata": {
    "collapsed": false
   },
   "outputs": [
    {
     "name": "stdout",
     "output_type": "stream",
     "text": [
      "(13418, 4)\n",
      "Positive %:  0.15270532121\n"
     ]
    },
    {
     "data": {
      "text/html": [
       "<div>\n",
       "<table border=\"1\" class=\"dataframe\">\n",
       "  <thead>\n",
       "    <tr style=\"text-align: right;\">\n",
       "      <th></th>\n",
       "      <th>id</th>\n",
       "      <th>call</th>\n",
       "      <th>ex_tag</th>\n",
       "      <th>txt</th>\n",
       "    </tr>\n",
       "  </thead>\n",
       "  <tbody>\n",
       "    <tr>\n",
       "      <th>0</th>\n",
       "      <td>CTRL000000096</td>\n",
       "      <td>0</td>\n",
       "      <td>0</td>\n",
       "      <td>subject  fw  quality moves to utilize on your ...</td>\n",
       "    </tr>\n",
       "    <tr>\n",
       "      <th>1</th>\n",
       "      <td>CTRL000000097</td>\n",
       "      <td>0</td>\n",
       "      <td>0</td>\n",
       "      <td>subject  schedule confirmation from  guzman  m...</td>\n",
       "    </tr>\n",
       "    <tr>\n",
       "      <th>2</th>\n",
       "      <td>CTRL000000099</td>\n",
       "      <td>0</td>\n",
       "      <td>0</td>\n",
       "      <td>subject  emergency meeting from   williams iii...</td>\n",
       "    </tr>\n",
       "  </tbody>\n",
       "</table>\n",
       "</div>"
      ],
      "text/plain": [
       "              id  call  ex_tag  \\\n",
       "0  CTRL000000096     0       0   \n",
       "1  CTRL000000097     0       0   \n",
       "2  CTRL000000099     0       0   \n",
       "\n",
       "                                                 txt  \n",
       "0  subject  fw  quality moves to utilize on your ...  \n",
       "1  subject  schedule confirmation from  guzman  m...  \n",
       "2  subject  emergency meeting from   williams iii...  "
      ]
     },
     "execution_count": 7,
     "metadata": {},
     "output_type": "execute_result"
    }
   ],
   "source": [
    "data_no_extag = all_data[all_data['ex_tag']==0]\n",
    "\n",
    "print(data_no_extag.shape)\n",
    "print(\"Positive %: \",sum(data_no_extag['call'])/data_no_extag.shape[0])\n",
    "data_no_extag[:3]"
   ]
  },
  {
   "cell_type": "markdown",
   "metadata": {},
   "source": [
    "# Outline\n",
    "1. RF and logistic regression as benchmark\n",
    "2. **Explore Naive Bayes models**\n",
    "3. **Compare model results (Excel)**\n",
    "4. TakeAways"
   ]
  },
  {
   "cell_type": "markdown",
   "metadata": {},
   "source": [
    "### 0. Create three versions of Bag-of-Words vectorization\n",
    "1. txt_BINARY \n",
    "\n",
    "2. txt_FC \n",
    "\n",
    "3. txt_TFIDF"
   ]
  },
  {
   "cell_type": "code",
   "execution_count": 8,
   "metadata": {
    "collapsed": false
   },
   "outputs": [
    {
     "name": "stdout",
     "output_type": "stream",
     "text": [
      "(13418, 5000)\n",
      "Binary vecotrizing:  0:00:49.708003\n",
      "Frequcency count vectorizing  0:00:58.920875\n",
      "TFIDF vectorizing:  0:00:59.166875\n"
     ]
    }
   ],
   "source": [
    "# timing - start\n",
    "start_time = datetime.today()\n",
    "\n",
    "\n",
    "\n",
    "# 1. BOW - Binary\n",
    "vectorizer = CountVectorizer(encoding = 'utf-8-sig', stop_words = 'english', \n",
    "                             max_df = 0.85, max_features = 5000, ngram_range = (1, 1),\n",
    "                             binary = True)\n",
    "vectorizer.fit(data_no_extag['txt'])\n",
    "txt_BINARY = vectorizer.transform(data_no_extag['txt'])\n",
    "\n",
    "# timing\n",
    "t1 = datetime.today() - start_time\n",
    "\n",
    "\n",
    "\n",
    "# 2. BOW - Frequency count\n",
    "vectorizer = CountVectorizer(encoding = 'utf-8-sig', stop_words = 'english', \n",
    "                             max_df = 0.85, max_features = 5000, ngram_range = (1, 1),\n",
    "                             binary = False)\n",
    "vectorizer.fit(data_no_extag['txt'])\n",
    "txt_FC = vectorizer.transform(data_no_extag['txt'])\n",
    "\n",
    "# timing\n",
    "t2 = datetime.today() - t1 - start_time\n",
    "\n",
    "\n",
    "\n",
    "# 3. BOW - TF-IDF\n",
    "tfidf_transformer = TfidfTransformer(sublinear_tf = False, use_idf = True, norm = 'l2')\n",
    "tfidf_transformer.fit(txt_FC)\n",
    "txt_TFIDF = tfidf_transformer.transform(txt_FC)\n",
    "\n",
    "# timing - for both BOW vectorizing and tfidf transformation\n",
    "t3 = datetime.today() - t1 - start_time\n",
    "\n",
    "\n",
    "\n",
    "# See what's it like\n",
    "print (txt_TFIDF.shape)\n",
    "print(\"Binary vecotrizing: \", t1)\n",
    "print(\"Frequcency count vectorizing \", t2)\n",
    "print(\"TFIDF vectorizing: \", t3)"
   ]
  },
  {
   "cell_type": "code",
   "execution_count": 10,
   "metadata": {
    "collapsed": false
   },
   "outputs": [
    {
     "data": {
      "text/plain": [
       "670"
      ]
     },
     "execution_count": 10,
     "metadata": {},
     "output_type": "execute_result"
    }
   ],
   "source": [
    "# Train test split for 3 vectorizations\n",
    "X_train_b, X_test_b, y_train_b, y_test_b = train_test_split(txt_BINARY, data_no_extag['call'], test_size = 0.95, random_state = 1)\n",
    "X_train_f, X_test_f, y_train_f, y_test_f = train_test_split(txt_FC, data_no_extag['call'], test_size = 0.95, random_state = 1)\n",
    "X_train_t, X_test_t, y_train_t, y_test_t = train_test_split(txt_TFIDF, data_no_extag['call'], test_size = 0.95, random_state = 1)\n",
    "\n",
    "# QC - all y_train and y_test should be the same (controlled for random state)\n",
    "sum(y_train_b.index == y_train_t.index)"
   ]
  },
  {
   "cell_type": "code",
   "execution_count": 11,
   "metadata": {
    "collapsed": false
   },
   "outputs": [],
   "source": [
    "X_train = [X_train_b, X_train_f, X_train_t]\n",
    "X_test = [X_test_b, X_test_f, X_test_t]"
   ]
  },
  {
   "cell_type": "code",
   "execution_count": 12,
   "metadata": {
    "collapsed": false
   },
   "outputs": [
    {
     "name": "stdout",
     "output_type": "stream",
     "text": [
      "RandomForest:\n"
     ]
    },
    {
     "data": {
      "text/html": [
       "<div>\n",
       "<table border=\"1\" class=\"dataframe\">\n",
       "  <thead>\n",
       "    <tr style=\"text-align: right;\">\n",
       "      <th></th>\n",
       "      <th>Accuracy</th>\n",
       "      <th>Precision</th>\n",
       "      <th>Recall</th>\n",
       "    </tr>\n",
       "  </thead>\n",
       "  <tbody>\n",
       "    <tr>\n",
       "      <th>Binary</th>\n",
       "      <td>0.93</td>\n",
       "      <td>0.98</td>\n",
       "      <td>0.55</td>\n",
       "    </tr>\n",
       "    <tr>\n",
       "      <th>Frequency Count</th>\n",
       "      <td>0.93</td>\n",
       "      <td>0.98</td>\n",
       "      <td>0.54</td>\n",
       "    </tr>\n",
       "    <tr>\n",
       "      <th>TFIDF</th>\n",
       "      <td>0.92</td>\n",
       "      <td>0.99</td>\n",
       "      <td>0.51</td>\n",
       "    </tr>\n",
       "  </tbody>\n",
       "</table>\n",
       "</div>"
      ],
      "text/plain": [
       "                 Accuracy  Precision  Recall\n",
       "Binary               0.93       0.98    0.55\n",
       "Frequency Count      0.93       0.98    0.54\n",
       "TFIDF                0.92       0.99    0.51"
      ]
     },
     "execution_count": 12,
     "metadata": {},
     "output_type": "execute_result"
    },
    {
     "data": {
      "image/png": "[encoded data removed]",
      "text/plain": [
       "<matplotlib.figure.Figure at 0x1b457198>"
      ]
     },
     "metadata": {},
     "output_type": "display_data"
    },
    {
     "data": {
      "image/png": "[encoded data removed]",
      "text/plain": [
       "<matplotlib.figure.Figure at 0x1c014d68>"
      ]
     },
     "metadata": {},
     "output_type": "display_data"
    },
    {
     "data": {
      "image/png": "[encoded data removed]",
      "text/plain": [
       "<matplotlib.figure.Figure at 0x1be4dcf8>"
      ]
     },
     "metadata": {},
     "output_type": "display_data"
    }
   ],
   "source": [
    "rf = ensemble.RandomForestClassifier(n_estimators = 200, min_samples_leaf = 1, max_features = 'sqrt', random_state = 1)\n",
    "rf_metrics = pd.DataFrame()\n",
    "for train, test in zip(X_train, X_test):\n",
    "    rf.fit(train, y_train_b)\n",
    "    y_pred = rf.predict(test)\n",
    "    result_metrics = get_metrics(y_test_t, y_pred, p_label = 1, return_flag = True)\n",
    "    \n",
    "    rf_metrics = pd.concat([rf_metrics, result_metrics])\n",
    "    \n",
    "    feature_df = pd.DataFrame({\"Features\": vectorizer.get_feature_names(), \n",
    "                               \"Importance\": rf.feature_importances_\n",
    "                              })\n",
    "    feature_df.sort_values('Importance', ascending = False)[:5].plot(x = 'Features', y = 'Importance', kind='bar')\n",
    "\n",
    "print(\"RandomForest:\")\n",
    "rf_metrics.columns = ['Accuracy', 'Precision','Recall']\n",
    "rf_metrics.index = ['Binary', \"Frequency Count\", \"TFIDF\"]\n",
    "rf_metrics"
   ]
  },
  {
   "cell_type": "code",
   "execution_count": 147,
   "metadata": {
    "collapsed": false
   },
   "outputs": [
    {
     "name": "stdout",
     "output_type": "stream",
     "text": [
      "Logistic Regression:\n"
     ]
    },
    {
     "data": {
      "text/html": [
       "<div>\n",
       "<table border=\"1\" class=\"dataframe\">\n",
       "  <thead>\n",
       "    <tr style=\"text-align: right;\">\n",
       "      <th></th>\n",
       "      <th>Accuracy</th>\n",
       "      <th>Precision</th>\n",
       "      <th>Recall</th>\n",
       "    </tr>\n",
       "  </thead>\n",
       "  <tbody>\n",
       "    <tr>\n",
       "      <th>Binary</th>\n",
       "      <td>0.90</td>\n",
       "      <td>1.00</td>\n",
       "      <td>0.33</td>\n",
       "    </tr>\n",
       "    <tr>\n",
       "      <th>Frequency Count</th>\n",
       "      <td>0.90</td>\n",
       "      <td>0.98</td>\n",
       "      <td>0.35</td>\n",
       "    </tr>\n",
       "    <tr>\n",
       "      <th>TFIDF</th>\n",
       "      <td>0.88</td>\n",
       "      <td>1.00</td>\n",
       "      <td>0.24</td>\n",
       "    </tr>\n",
       "  </tbody>\n",
       "</table>\n",
       "</div>"
      ],
      "text/plain": [
       "                 Accuracy  Precision  Recall\n",
       "Binary               0.90       1.00    0.33\n",
       "Frequency Count      0.90       0.98    0.35\n",
       "TFIDF                0.88       1.00    0.24"
      ]
     },
     "execution_count": 147,
     "metadata": {},
     "output_type": "execute_result"
    },
    {
     "data": {
      "image/png": "[encoded data removed]",
      "text/plain": [
       "<matplotlib.figure.Figure at 0x1c847c50>"
      ]
     },
     "metadata": {},
     "output_type": "display_data"
    },
    {
     "data": {
      "image/png": "[encoded data removed]",
      "text/plain": [
       "<matplotlib.figure.Figure at 0x1cba1400>"
      ]
     },
     "metadata": {},
     "output_type": "display_data"
    },
    {
     "data": {
      "image/png": "[encoded data removed]",
      "text/plain": [
       "<matplotlib.figure.Figure at 0x1c5bfef0>"
      ]
     },
     "metadata": {},
     "output_type": "display_data"
    }
   ],
   "source": [
    "logit = linear_model.LogisticRegression()\n",
    "logit_metrics = pd.DataFrame()\n",
    "for train, test in zip(X_train, X_test):\n",
    "    logit.fit(train, y_train_b)\n",
    "    y_pred = logit.predict(test)\n",
    "    result_metrics = get_metrics(y_test_t, y_pred, p_label = 1, return_flag = True)\n",
    "    \n",
    "    logit_metrics = pd.concat([logit_metrics, result_metrics])\n",
    "\n",
    "    betas_df = pd.DataFrame({\"Features\": vectorizer.get_feature_names(), \n",
    "                             \"Betas\":logit.coef_[0]\n",
    "                            })\n",
    "    \n",
    "    pos = betas_df.sort_values('Betas', ascending = False)[:5]\n",
    "    neg = betas_df.sort_values('Betas', ascending = False)[-5:]\n",
    "    pd.concat([pos,neg]).plot(x = 'Features', y = 'Betas', kind='bar')\n",
    "    \n",
    "print(\"Logistic Regression:\")\n",
    "logit_metrics.columns = ['Accuracy', 'Precision','Recall']\n",
    "logit_metrics.index = ['Binary', \"Frequency Count\", \"TFIDF\"]\n",
    "logit_metrics"
   ]
  },
  {
   "cell_type": "code",
   "execution_count": 99,
   "metadata": {
    "collapsed": false
   },
   "outputs": [
    {
     "name": "stdout",
     "output_type": "stream",
     "text": [
      "Confusion Matrix:\n",
      "[[  995   962]\n",
      " [    6 10785]]\n",
      "\n",
      "Accuracy: 0.920000;\n",
      "Precision: 0.990000;\n",
      "Recall: 0.510000;\n",
      "\n",
      " 0:00:02.629200\n"
     ]
    }
   ],
   "source": [
    "t0 = datetime.today()\n",
    "\n",
    "rf = ensemble.RandomForestClassifier(n_estimators = 200, min_samples_leaf = 1, max_features = 'sqrt', random_state = 1)\n",
    "rf.fit(X_train_t, y_train_t)\n",
    "y_pred_rf = pd.DataFrame(rf.predict(X_test_t), index = y_test_t.index)\n",
    "get_metrics(y_test_t, y_pred_rf, p_label = 1)\n",
    "\n",
    "print (\"\\n\", datetime.today() - t0)\n",
    "\n",
    "# Get class probability\n",
    "y_prob_rf = pd.DataFrame(rf.predict_proba(X_test_t), index = y_test_t.index)"
   ]
  },
  {
   "cell_type": "code",
   "execution_count": 114,
   "metadata": {
    "collapsed": false
   },
   "outputs": [],
   "source": [
    "rf_tfidf_result = pd.merge(y_pred_rf, y_prob_rf, left_index=True, right_index=True)\n",
    "rf_tfidf_result.columns = [\"rf_Predicted Label\", \"rf_P(Call=0)\", \"rf_P(Call=1)\"]"
   ]
  },
  {
   "cell_type": "code",
   "execution_count": 148,
   "metadata": {
    "collapsed": false,
    "scrolled": true
   },
   "outputs": [
    {
     "name": "stdout",
     "output_type": "stream",
     "text": [
      "Confusion Matrix:\n",
      "[[  465  1492]\n",
      " [    0 10791]]\n",
      "\n",
      "Accuracy: 0.880000;\n",
      "Precision: 1.000000;\n",
      "Recall: 0.240000;\n",
      "\n",
      " 0:00:00.070000\n"
     ]
    }
   ],
   "source": [
    "t0 = datetime.today()\n",
    "\n",
    "logit = linear_model.LogisticRegression()\n",
    "logit.fit(X_train_t, y_train_t)\n",
    "y_pred_l = pd.DataFrame(logit.predict(X_test_t), index = y_test_t.index)\n",
    "get_metrics(y_test_t, y_pred_l, p_label = 1)\n",
    "\n",
    "print (\"\\n\", datetime.today() - t0)\n",
    "\n",
    "# Get class probability\n",
    "y_prob_l = pd.DataFrame(logit.predict_proba(X_test_t), index = y_test_t.index)"
   ]
  },
  {
   "cell_type": "code",
   "execution_count": 115,
   "metadata": {
    "collapsed": false
   },
   "outputs": [],
   "source": [
    "logit_tfidf_result = pd.merge(y_pred_l, y_prob_l, left_index=True, right_index=True)\n",
    "logit_tfidf_result.columns = [\"logit_Predicted Label\", \"logit_P(Call=0)\", \"logit_P(Call=1)\"]"
   ]
  },
  {
   "cell_type": "markdown",
   "metadata": {},
   "source": [
    "### Naive Bayes Classifiers\n",
    "Assumption:\n",
    "1. Occurence of one word is independent of occurence of other words ** -- Could be a good thing!**\n",
    "\n",
    "Idea:\n",
    "\n",
    "1. Docs are represented by combination of independent words; \n",
    "2. Given a certain word combo, what is the most possible class?\n",
    "3. Predict Doc X belongs to class A if:\n",
    "\n",
    "    **P(Doc X ∈ class A| word combo of Doc X) > P(Doc X ∈ class B| word combo of Doc X)**\n",
    "    \n",
    "4. P(Doc X ∈ class A| word combo of Doc X) is estimated by:  \n",
    "\n",
    "    **P(word combo of Doc X|Doc X ∈ class A) * P(class A)   -- Bayes Rule**\n",
    "     \n",
    "5. P(word combo of Doc X|Doc X ∈ class A) is estimated by:\n",
    "\n",
    "    **P(word 1 in Doc X|Doc X ∈ class A) * P(word 2 in Doc X|Doc X ∈ class A)...   -- Independent assumption**\n",
    "\n",
    "Types: (assumes different distribution of P(**word i in Doc X** | **Doc X in class A**)\n",
    "\n",
    "1. Bernoulli\n",
    "\n",
    "2. Multinomial\n",
    "\n",
    "3. Gaussian\n"
   ]
  },
  {
   "cell_type": "markdown",
   "metadata": {},
   "source": [
    "#### 1. Bernoulli with binary BOW"
   ]
  },
  {
   "cell_type": "code",
   "execution_count": 80,
   "metadata": {
    "collapsed": false
   },
   "outputs": [
    {
     "name": "stdout",
     "output_type": "stream",
     "text": [
      "Confusion Matrix:\n",
      "[[ 1058   899]\n",
      " [   29 10762]]\n",
      "\n",
      "Accuracy: 0.930000;\n",
      "Precision: 0.970000;\n",
      "Recall: 0.540000;\n",
      "\n",
      " 0:00:01.948400\n"
     ]
    }
   ],
   "source": [
    "t0 = datetime.today()\n",
    "\n",
    "bnb = BernoulliNB(alpha = 0.01, fit_prior = True)\n",
    "bnb.fit(X_train_b,y_train_b)                            # Use binary BOW\n",
    "y_pred_bnb = pd.DataFrame(bnb.predict(X_test_b), index = y_test_t.index)\n",
    "get_metrics(y_test_b, y_pred_bnb, p_label = 1)\n",
    "\n",
    "print (\"\\n\", datetime.today() - t0)\n",
    "\n",
    "# Get Prob\n",
    "y_prob_bnb = pd.DataFrame(bnb.predict_proba(X_test_b), index = y_test_t.index)"
   ]
  },
  {
   "cell_type": "code",
   "execution_count": 69,
   "metadata": {
    "collapsed": false
   },
   "outputs": [
    {
     "name": "stdout",
     "output_type": "stream",
     "text": [
      "Most likely words in positive class:\n",
      "      Features  P(w|call=1)\n",
      "1481  emission    -0.044556\n",
      "4977        yg    -0.044556\n",
      "1848    france    -0.055983\n",
      "2158     hydro    -0.055983\n",
      "2592    little    -0.055983\n",
      "\n",
      "Most likely words in negative class:\n",
      "        Features  P(w|call=0)\n",
      "4977          yg    -0.219702\n",
      "3481   procedure    -0.232717\n",
      "1848      france    -0.241489\n",
      "4475        tech    -0.245904\n",
      "2591  litigation    -0.248119\n"
     ]
    }
   ],
   "source": [
    "# Most likely words in positive/negative class (in terms of frequency)\n",
    "word_con_prob = pd.DataFrame({\"Features\": vectorizer.get_feature_names(), \n",
    "                              \"P(w|call=0)\":bnb.feature_log_prob_[0],\n",
    "                              \"P(w|call=1)\":bnb.feature_log_prob_[1]\n",
    "                             })\n",
    "\n",
    "print(\"Most likely words in positive class:\")\n",
    "print(word_con_prob[[\"Features\",\"P(w|call=1)\"]].sort_values(\"P(w|call=1)\", ascending = False)[:5])\n",
    "print()\n",
    "print(\"Most likely words in negative class:\")\n",
    "print(word_con_prob[[\"Features\",\"P(w|call=0)\"]].sort_values(\"P(w|call=0)\", ascending = False)[:5])"
   ]
  },
  {
   "cell_type": "code",
   "execution_count": 116,
   "metadata": {
    "collapsed": false
   },
   "outputs": [],
   "source": [
    "bnb_binary_result = pd.merge(y_pred_bnb, y_prob_bnb, left_index=True, right_index=True)\n",
    "bnb_binary_result.columns = [\"bnb_Predicted Label\", \"bnb_P(Call=0)\", \"bnb_P(Call=1)\"]"
   ]
  },
  {
   "cell_type": "markdown",
   "metadata": {},
   "source": [
    "#### 2.1 Multinomial NB with BOW"
   ]
  },
  {
   "cell_type": "code",
   "execution_count": 76,
   "metadata": {
    "collapsed": false
   },
   "outputs": [
    {
     "name": "stdout",
     "output_type": "stream",
     "text": [
      "Confusion Matrix:\n",
      "[[1890   67]\n",
      " [6446 4345]]\n",
      "\n",
      "Accuracy: 0.490000;\n",
      "Precision: 0.230000;\n",
      "Recall: 0.970000;\n",
      "\n",
      " 0:00:02.867600\n"
     ]
    }
   ],
   "source": [
    "t0 = datetime.today()\n",
    "\n",
    "mnb = MultinomialNB(alpha = 1, class_prior = (0.85,0.15))\n",
    "mnb.fit(X_train_f,y_train_f)                            # Use frequency count BOW\n",
    "y_pred_mnb = pd.DataFrame(mnb.predict(X_test_f), index = y_test_t.index)\n",
    "get_metrics(y_test_f, y_pred_mnb, p_label = 1)\n",
    "\n",
    "print (\"\\n\", datetime.today() - t0)\n",
    "\n",
    "# Get Prob\n",
    "y_prob_mnb = pd.DataFrame(mnb.predict_proba(X_test_f), index = y_test_t.index)"
   ]
  },
  {
   "cell_type": "code",
   "execution_count": 68,
   "metadata": {
    "collapsed": false
   },
   "outputs": [
    {
     "name": "stdout",
     "output_type": "stream",
     "text": [
      "Most likely words in positive class:\n",
      "     Features  P(w|call=1)\n",
      "4712  updated    -3.937533\n",
      "1895     game    -4.420621\n",
      "4874     week    -4.437396\n",
      "4941       wr    -4.554945\n",
      "1701  fantasy    -4.702773\n",
      "\n",
      "Most likely words in negative class:\n",
      "     Features  P(w|call=0)\n",
      "4385      sum    -3.279289\n",
      "593       cal    -3.413364\n",
      "1904   gasgen    -4.113595\n",
      "1506   energy    -4.376108\n",
      "1902      gas    -4.494281\n"
     ]
    }
   ],
   "source": [
    "# Most likely words in positive/negative class (in terms of frequency)\n",
    "word_con_prob = pd.DataFrame({\"Features\": vectorizer.get_feature_names(), \n",
    "                              \"P(w|call=0)\":mnb.feature_log_prob_[0],\n",
    "                              \"P(w|call=1)\":mnb.feature_log_prob_[1]\n",
    "                             })\n",
    "\n",
    "print(\"Most likely words in positive class:\")\n",
    "print(word_con_prob[[\"Features\",\"P(w|call=1)\"]].sort_values(\"P(w|call=1)\", ascending = False)[:5])\n",
    "print()\n",
    "print(\"Most likely words in negative class:\")\n",
    "print(word_con_prob[[\"Features\",\"P(w|call=0)\"]].sort_values(\"P(w|call=0)\", ascending = False)[:5])"
   ]
  },
  {
   "cell_type": "code",
   "execution_count": 120,
   "metadata": {
    "collapsed": false
   },
   "outputs": [],
   "source": [
    "mnb_fc_result = pd.merge(y_pred_mnb, y_prob_mnb, left_index=True, right_index=True)\n",
    "mnb_fc_result.columns = [\"mnb_Predicted Label\", \"mnb_P(Call=0)\", \"mnb_P(Call=1)\"]"
   ]
  },
  {
   "cell_type": "markdown",
   "metadata": {},
   "source": [
    "#### 2.2 Multinomial NB with tf-idf "
   ]
  },
  {
   "cell_type": "code",
   "execution_count": 143,
   "metadata": {
    "collapsed": false
   },
   "outputs": [
    {
     "name": "stdout",
     "output_type": "stream",
     "text": [
      "Confusion Matrix:\n",
      "[[  809  1148]\n",
      " [   13 10778]]\n",
      "\n",
      "Accuracy: 0.910000;\n",
      "Precision: 0.980000;\n",
      "Recall: 0.410000;\n",
      "\n",
      " 0:00:01.983000\n"
     ]
    }
   ],
   "source": [
    "t0 = datetime.today()\n",
    "mnb2 = MultinomialNB(alpha = 1, class_prior = (0.85,0.15))\n",
    "mnb2.fit(X_train_t,y_train_t)                            # Use TF-IDF BOW\n",
    "y_pred_mnb2 = pd.DataFrame(mnb2.predict(X_test_t), index = y_test_t.index)\n",
    "get_metrics(y_test_t, y_pred_mnb2, p_label = 1)\n",
    "\n",
    "print (\"\\n\", datetime.today() - t0)\n",
    "\n",
    "# Get Prob\n",
    "y_prob_mnb2 = pd.DataFrame(mnb2.predict_proba(X_test_t), index = y_test_t.index)"
   ]
  },
  {
   "cell_type": "code",
   "execution_count": 70,
   "metadata": {
    "collapsed": false
   },
   "outputs": [
    {
     "name": "stdout",
     "output_type": "stream",
     "text": [
      "Most likely words in positive class:\n",
      "        Features  P(w|call=1)\n",
      "4712     updated    -6.175687\n",
      "1701     fantasy    -6.536642\n",
      "1895        game    -6.565785\n",
      "4941          wr    -6.628878\n",
      "4250  sportsline    -6.801667\n",
      "\n",
      "Most likely words in negative class:\n",
      "          Features  P(w|call=0)\n",
      "329    attribution    -5.228434\n",
      "4995            zl    -5.228913\n",
      "4477  technologies    -5.246996\n",
      "805             cn    -5.783251\n",
      "2142          http    -5.792671\n"
     ]
    }
   ],
   "source": [
    "# Most likely words in positive/negative class (in terms of frequency)\n",
    "word_con_prob = pd.DataFrame({\"Features\": vectorizer.get_feature_names(), \n",
    "                              \"P(w|call=0)\":mnb2.feature_log_prob_[0],\n",
    "                              \"P(w|call=1)\":mnb2.feature_log_prob_[1]\n",
    "                             })\n",
    "\n",
    "print(\"Most likely words in positive class:\")\n",
    "print(word_con_prob[[\"Features\",\"P(w|call=1)\"]].sort_values(\"P(w|call=1)\", ascending = False)[:5])\n",
    "print()\n",
    "print(\"Most likely words in negative class:\")\n",
    "print(word_con_prob[[\"Features\",\"P(w|call=0)\"]].sort_values(\"P(w|call=0)\", ascending = False)[:5])"
   ]
  },
  {
   "cell_type": "code",
   "execution_count": 117,
   "metadata": {
    "collapsed": true
   },
   "outputs": [],
   "source": [
    "mnb_tfidf_result = pd.merge(y_pred_mnb2, y_prob_mnb2, left_index=True, right_index=True)\n",
    "mnb_tfidf_result.columns = [\"mnb_tfidf_Predicted Label\", \"mnb_tfidf_P(Call=0)\", \"mnb_tfidf_P(Call=1)\"]"
   ]
  },
  {
   "cell_type": "markdown",
   "metadata": {},
   "source": [
    "### Merge all result together and compare"
   ]
  },
  {
   "cell_type": "code",
   "execution_count": 133,
   "metadata": {
    "collapsed": false
   },
   "outputs": [
    {
     "name": "stdout",
     "output_type": "stream",
     "text": [
      "                  id  call  ex_tag  \\\n",
      "94738  CTRL000392942     0       0   \n",
      "67935  CTRL000258617     0       0   \n",
      "91131  CTRL000354062     0       0   \n",
      "\n",
      "                                                     txt  rf_Predicted Label  \\\n",
      "94738  subject  eb      sheri thomas date  mon     ja...                   0   \n",
      "67935  subject  fw  market update from  deffner  jose...                   0   \n",
      "91131  civic club news by kathleen gay  those of us w...                   0   \n",
      "\n",
      "       rf_P(Call=0)  rf_P(Call=1)  logit_Predicted Label  logit_P(Call=0)  \\\n",
      "94738          0.99          0.01                      0         0.949348   \n",
      "67935          0.89          0.11                      0         0.935431   \n",
      "91131          0.83          0.17                      0         0.905110   \n",
      "\n",
      "       logit_P(Call=1)  bnb_Predicted Label  bnb_P(Call=0)  bnb_P(Call=1)  \\\n",
      "94738         0.050652                    0            1.0   1.422082e-15   \n",
      "67935         0.064569                    0            1.0   1.301205e-93   \n",
      "91131         0.094890                    0            1.0   1.554022e-45   \n",
      "\n",
      "       mnb_Predicted Label  mnb_P(Call=0)  mnb_P(Call=1)  \\\n",
      "94738                    1   7.760944e-09   1.000000e+00   \n",
      "67935                    0   1.000000e+00   2.396944e-39   \n",
      "91131                    1   5.699994e-12   1.000000e+00   \n",
      "\n",
      "       mnb_tfidf_Predicted Label  mnb_tfidf_P(Call=0)  mnb_tfidf_P(Call=1)  \n",
      "94738                          0             0.999576             0.000424  \n",
      "67935                          0             0.992579             0.007421  \n",
      "91131                          0             0.979788             0.020212  \n"
     ]
    }
   ],
   "source": [
    "temp = pd.concat([rf_tfidf_result, logit_tfidf_result, bnb_binary_result, mnb_fc_result,mnb_tfidf_result],axis = 1)\n",
    "temp = pd.concat([data_no_extag, temp], axis = 1, join = 'outer')\n",
    "print(temp[:3])\n",
    "\n",
    "temp.to_csv(\"output_092116.txt\", header = True, index = False, encoding = 'utf-8')"
   ]
  },
  {
   "cell_type": "markdown",
   "metadata": {
    "collapsed": true
   },
   "source": [
    "### Take aways and next steps:\n",
    "#### 1. Accuracy score is not the end of the story\n",
    "\n",
    "#### 2. Naive Bayes independent assumption will favor the class with stronger word dependency -- could play to our favor!\n",
    "\n",
    "#### 3. Different models are good/poor at different things; ideas worth trying:\n",
    "\n",
    "\n",
    "    (1) Let them vote on predicted labels / pick out predictions each of model is most confident about\n",
    "    \n",
    "    (2) Let them vote on choice of features\n",
    "    \n",
    "    (3) When training set is limited, we can use the most confident result from one model to train another model"
   ]
  }
 ],
 "metadata": {
  "anaconda-cloud": {},
  "kernelspec": {
   "display_name": "Python [Root]",
   "language": "python",
   "name": "Python [Root]"
  },
  "language_info": {
   "codemirror_mode": {
    "name": "ipython",
    "version": 3
   },
   "file_extension": ".py",
   "mimetype": "text/x-python",
   "name": "python",
   "nbconvert_exporter": "python",
   "pygments_lexer": "ipython3",
   "version": "3.5.2"
  }
 },
 "nbformat": 4,
 "nbformat_minor": 0
}
