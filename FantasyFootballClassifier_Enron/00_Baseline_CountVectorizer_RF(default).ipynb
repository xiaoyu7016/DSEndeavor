{
 "cells": [
  {
   "cell_type": "code",
   "execution_count": 1,
   "metadata": {
    "collapsed": true
   },
   "outputs": [],
   "source": [
    "import os\n",
    "import re\n",
    "from datetime import datetime\n",
    "import pickle\n",
    "import codecs\n",
    "from bs4 import BeautifulSoup\n",
    "\n",
    "import pandas as pd\n",
    "import numpy as np\n",
    "import scipy as sp\n",
    "from sklearn.feature_extraction.text import CountVectorizer\n",
    "from sklearn import ensemble\n",
    "from sklearn import metrics\n",
    "\n",
    "#import matplotlib.pyplot as plt\n",
    "#%matplotlib inline"
   ]
  },
  {
   "cell_type": "code",
   "execution_count": 2,
   "metadata": {
    "collapsed": false
   },
   "outputs": [
    {
     "name": "stdout",
     "output_type": "stream",
     "text": [
      "2016-09-26 16:31:56.968679\n"
     ]
    }
   ],
   "source": [
    "print (datetime.today())"
   ]
  },
  {
   "cell_type": "markdown",
   "metadata": {},
   "source": [
    "### 1. Load in all training data from pickle"
   ]
  },
  {
   "cell_type": "code",
   "execution_count": 3,
   "metadata": {
    "collapsed": false
   },
   "outputs": [
    {
     "data": {
      "text/html": [
       "<div>\n",
       "<table border=\"1\" class=\"dataframe\">\n",
       "  <thead>\n",
       "    <tr style=\"text-align: right;\">\n",
       "      <th></th>\n",
       "      <th>id</th>\n",
       "      <th>call</th>\n",
       "      <th>ex_tag</th>\n",
       "      <th>txt</th>\n",
       "    </tr>\n",
       "  </thead>\n",
       "  <tbody>\n",
       "    <tr>\n",
       "      <th>0</th>\n",
       "      <td>CTRL000000096</td>\n",
       "      <td>0</td>\n",
       "      <td>0</td>\n",
       "      <td>Subject  FW  Quality Moves to utilize on your ...</td>\n",
       "    </tr>\n",
       "    <tr>\n",
       "      <th>1</th>\n",
       "      <td>CTRL000000097</td>\n",
       "      <td>0</td>\n",
       "      <td>0</td>\n",
       "      <td>Subject  Schedule confirmation From  guzman  M...</td>\n",
       "    </tr>\n",
       "    <tr>\n",
       "      <th>2</th>\n",
       "      <td>CTRL000000099</td>\n",
       "      <td>0</td>\n",
       "      <td>0</td>\n",
       "      <td>Subject  Emergency Meeting From   williams iii...</td>\n",
       "    </tr>\n",
       "  </tbody>\n",
       "</table>\n",
       "</div>"
      ],
      "text/plain": [
       "              id call ex_tag  \\\n",
       "0  CTRL000000096    0      0   \n",
       "1  CTRL000000097    0      0   \n",
       "2  CTRL000000099    0      0   \n",
       "\n",
       "                                                 txt  \n",
       "0  Subject  FW  Quality Moves to utilize on your ...  \n",
       "1  Subject  Schedule confirmation From  guzman  M...  \n",
       "2  Subject  Emergency Meeting From   williams iii...  "
      ]
     },
     "execution_count": 3,
     "metadata": {},
     "output_type": "execute_result"
    }
   ],
   "source": [
    "# Load data from pickle\n",
    "all_data_pkl = open(\"all_data.pkl\", 'rb')\n",
    "all_data = pickle.load(all_data_pkl)\n",
    "\n",
    "all_data[:3]"
   ]
  },
  {
   "cell_type": "code",
   "execution_count": 4,
   "metadata": {
    "collapsed": false
   },
   "outputs": [
    {
     "data": {
      "text/plain": [
       "'Subject  Schedule confirmation From  guzman  Mark    o enron ou na cn recipients cn mguzman    Date  Mon     Nov                     To  DL Portland Real Time Shift    o enron ou na cn recipients cn dl portlandrealtimeshift     Starting a few days ago  Lotus notes has been eliminated as a format for inputing schedule confirmation and cut schedule information   The new process is done in Enpower   Cara sent a notice out last week and I have left a copy of the new process instruction manual on the Real Time desk   Please take the time to check it out   For our purposes we will basically only need to read thru the Path Confirmation instructions   I had a chance to test out this new process a few weeks ago and it is far better than Lotus Notes and works effectively   If you have any questions feel free to ask Cara or myself   Thank you for your attention to this matter               EDRM Enron Email Data Set has been produced in EML  PST and NSF format by ZL Technologies  Inc  This Data Set is licensed under a Creative Commons Attribution     United States License    To provide attribution  please cite to  ZL Technologies  Inc   http   www zlti com               '"
      ]
     },
     "execution_count": 4,
     "metadata": {},
     "output_type": "execute_result"
    }
   ],
   "source": [
    "all_data['txt'][1]"
   ]
  },
  {
   "cell_type": "markdown",
   "metadata": {},
   "source": [
    "### 2. Preprocess text"
   ]
  },
  {
   "cell_type": "code",
   "execution_count": 3,
   "metadata": {
    "collapsed": true
   },
   "outputs": [],
   "source": [
    "# function to preprocess the text of the documents\n",
    "def txt_to_words(raw_txt):\n",
    "    \n",
    "    # Remove HTML markup\n",
    "    txt_text = BeautifulSoup(raw_txt,\"html.parser\").get_text() \n",
    "    \n",
    "    # Remove non-alphabets and doc starter\n",
    "    letters_only = re.sub(\"[^a-zA-Z]\", \" \", txt_text).replace(u'\\ufeff','')\n",
    "    \n",
    "    # To lower case\n",
    "    letters_only_lower = letters_only.lower()\n",
    "    \n",
    "    return letters_only_lower"
   ]
  },
  {
   "cell_type": "code",
   "execution_count": 4,
   "metadata": {
    "collapsed": false
   },
   "outputs": [
    {
     "data": {
      "text/html": [
       "<div>\n",
       "<table border=\"1\" class=\"dataframe\">\n",
       "  <thead>\n",
       "    <tr style=\"text-align: right;\">\n",
       "      <th></th>\n",
       "      <th>id</th>\n",
       "      <th>call</th>\n",
       "      <th>ex_tag</th>\n",
       "      <th>txt</th>\n",
       "    </tr>\n",
       "  </thead>\n",
       "  <tbody>\n",
       "    <tr>\n",
       "      <th>0</th>\n",
       "      <td>CTRL000000096</td>\n",
       "      <td>0</td>\n",
       "      <td>0</td>\n",
       "      <td>subject  fw  quality moves to utilize on your ...</td>\n",
       "    </tr>\n",
       "    <tr>\n",
       "      <th>1</th>\n",
       "      <td>CTRL000000097</td>\n",
       "      <td>0</td>\n",
       "      <td>0</td>\n",
       "      <td>subject  schedule confirmation from  guzman  m...</td>\n",
       "    </tr>\n",
       "    <tr>\n",
       "      <th>2</th>\n",
       "      <td>CTRL000000099</td>\n",
       "      <td>0</td>\n",
       "      <td>0</td>\n",
       "      <td>subject  emergency meeting from   williams iii...</td>\n",
       "    </tr>\n",
       "  </tbody>\n",
       "</table>\n",
       "</div>"
      ],
      "text/plain": [
       "              id call ex_tag  \\\n",
       "0  CTRL000000096    0      0   \n",
       "1  CTRL000000097    0      0   \n",
       "2  CTRL000000099    0      0   \n",
       "\n",
       "                                                 txt  \n",
       "0  subject  fw  quality moves to utilize on your ...  \n",
       "1  subject  schedule confirmation from  guzman  m...  \n",
       "2  subject  emergency meeting from   williams iii...  "
      ]
     },
     "execution_count": 4,
     "metadata": {},
     "output_type": "execute_result"
    }
   ],
   "source": [
    "# Apply the preprocess function txt_to_words to \"txt\" column\n",
    "all_data['txt'] = all_data['txt'].map(txt_to_words)\n",
    "\n",
    "# See what's inside\n",
    "all_data[:3]"
   ]
  },
  {
   "cell_type": "code",
   "execution_count": 5,
   "metadata": {
    "collapsed": false
   },
   "outputs": [],
   "source": [
    "all_data_preprocessed_pkl = open(\"all_data_preprocessed.pkl\",\"wb\")\n",
    "pickle.dump(all_data, all_data_preprocessed_pkl)\n",
    "all_data_preprocessed_pkl.close()"
   ]
  },
  {
   "cell_type": "markdown",
   "metadata": {},
   "source": [
    "### 3. Create training/test mask"
   ]
  },
  {
   "cell_type": "code",
   "execution_count": 6,
   "metadata": {
    "collapsed": false
   },
   "outputs": [
    {
     "name": "stdout",
     "output_type": "stream",
     "text": [
      "660\n",
      "['CTRL000052948', 'CTRL000053534', 'CTRL000054613']\n"
     ]
    }
   ],
   "source": [
    "# Get doc id for training set\n",
    "train_docid = []\n",
    "f_train_docid = open(\"train_id.txt\",\"r\")\n",
    "for line in f_train_docid:\n",
    "    file_name = line.lstrip().rstrip()\n",
    "    train_docid.append(file_name)\n",
    "f_train_docid.close()\n",
    "\n",
    "# See what's inside\n",
    "print(len(set(train_docid)))  # Check uniqueness\n",
    "print(train_docid[:3])\n",
    "\n",
    "train_mask = np.where([i in train_docid for i in all_data['id']])[0]\n",
    "test_mask = np.where([i not in train_docid for i in all_data['id']])[0]"
   ]
  },
  {
   "cell_type": "markdown",
   "metadata": {},
   "source": [
    "### 4. Fit a CountVectorizer on the whole corpus (training + test)"
   ]
  },
  {
   "cell_type": "code",
   "execution_count": 36,
   "metadata": {
    "collapsed": false
   },
   "outputs": [
    {
     "name": "stdout",
     "output_type": "stream",
     "text": [
      "0:00:55.182721\n",
      "(104541, 2000)\n"
     ]
    },
    {
     "data": {
      "text/plain": [
       "scipy.sparse.csr.csr_matrix"
      ]
     },
     "execution_count": 36,
     "metadata": {},
     "output_type": "execute_result"
    }
   ],
   "source": [
    "# Vectorization - count\n",
    "\n",
    "# timing\n",
    "start_time = datetime.today()\n",
    "\n",
    "# Instantiate CountVectorizer\n",
    "vectorizer = CountVectorizer(\n",
    "                             encoding='utf-8-sig',\n",
    "                             max_features = 2000,\n",
    "                             ngram_range=(1, 1),\n",
    "                             stop_words='english',\n",
    "                             max_df= .95\n",
    "                             )\n",
    "vectorizer.fit(all_data['txt'])\n",
    "txt_BOW = vectorizer.transform(all_data['txt'])\n",
    "\n",
    "print (datetime.today() - start_time)\n",
    "# 2:05 for bi-gram\n",
    "# 3:37 for tri-gram\n",
    "# 0:54 for binary uni-gram\n",
    "\n",
    "\n",
    "# See what's it like\n",
    "print (txt_BOW.shape)\n",
    "type(txt_BOW)\n",
    "\n"
   ]
  },
  {
   "cell_type": "markdown",
   "metadata": {},
   "source": [
    "### 5. Split train and test set"
   ]
  },
  {
   "cell_type": "code",
   "execution_count": 37,
   "metadata": {
    "collapsed": false
   },
   "outputs": [
    {
     "name": "stdout",
     "output_type": "stream",
     "text": [
      "(660, 2000)\n",
      "(103881, 2000)\n",
      "(660,)\n",
      "(103881,)\n"
     ]
    }
   ],
   "source": [
    "X_train = txt_BOW[train_mask,:]\n",
    "X_test = txt_BOW[test_mask,]\n",
    "Y_train = all_data.iloc[train_mask,]['call']\n",
    "Y_test =  all_data.iloc[test_mask,]['call']\n",
    "\n",
    "print(X_train.shape)\n",
    "print(X_test.shape)\n",
    "print(Y_train.shape)\n",
    "print(Y_test.shape)"
   ]
  },
  {
   "cell_type": "markdown",
   "metadata": {},
   "source": [
    "### 6. Fit a default RandomForest Classifier"
   ]
  },
  {
   "cell_type": "code",
   "execution_count": 38,
   "metadata": {
    "collapsed": false
   },
   "outputs": [
    {
     "data": {
      "text/plain": [
       "RandomForestClassifier(bootstrap=True, class_weight=None, criterion='gini',\n",
       "            max_depth=None, max_features='auto', max_leaf_nodes=None,\n",
       "            min_samples_leaf=1, min_samples_split=2,\n",
       "            min_weight_fraction_leaf=0.0, n_estimators=10, n_jobs=1,\n",
       "            oob_score=False, random_state=1, verbose=0, warm_start=False)"
      ]
     },
     "execution_count": 38,
     "metadata": {},
     "output_type": "execute_result"
    }
   ],
   "source": [
    "# Set up RF classifier - Default\n",
    "rf_default = ensemble.RandomForestClassifier(random_state = 1)\n",
    "rf_default.fit(X_train,Y_train)"
   ]
  },
  {
   "cell_type": "code",
   "execution_count": 39,
   "metadata": {
    "collapsed": true
   },
   "outputs": [],
   "source": [
    "pred_rf_default = rf_default.predict(X_test)"
   ]
  },
  {
   "cell_type": "code",
   "execution_count": 42,
   "metadata": {
    "collapsed": false
   },
   "outputs": [
    {
     "name": "stdout",
     "output_type": "stream",
     "text": [
      "[[ 1081 13906]\n",
      " [  754 88140]]\n",
      "Accuracy: 0.858877;\n",
      " Precision: 0.589101;\n",
      " Recall: 0.128522;\n",
      " f1 score: 0.128522\n"
     ]
    }
   ],
   "source": [
    "print (metrics.confusion_matrix(Y_test, pred_rf_default, labels = ['1','0']))\n",
    "\n",
    "accuracy = (metrics.accuracy_score(Y_test, pred_rf_default))\n",
    "precision = (metrics.precision_score(Y_test, pred_rf_default, pos_label = '1', average = 'binary'))\n",
    "recall = (metrics.recall_score(Y_test, pred_rf_default, pos_label = '1', average = 'binary'))\n",
    "f1 = recall = (metrics.f1_score(Y_test, pred_rf_default, pos_label = '1', average = 'binary'))\n",
    "print (\"Accuracy: %f;\\n Precision: %f;\\n Recall: %f;\\n f1 score: %f\" %(accuracy, precision, recall, f1))"
   ]
  },
  {
   "cell_type": "code",
   "execution_count": 41,
   "metadata": {
    "collapsed": false
   },
   "outputs": [
    {
     "data": {
      "text/plain": [
       "<matplotlib.axes._subplots.AxesSubplot at 0x486965c0>"
      ]
     },
     "execution_count": 41,
     "metadata": {},
     "output_type": "execute_result"
    },
    {
     "data": {
      "image/png": "[encoded data removed]",
      "text/plain": [
       "<matplotlib.figure.Figure at 0x3687ee48>"
      ]
     },
     "metadata": {},
     "output_type": "display_data"
    }
   ],
   "source": [
    "feature_df = pd.DataFrame({\"Features\": vectorizer.get_feature_names(), \n",
    "                           \"Importance\": rf_default.feature_importances_\n",
    "                          })\n",
    "feature_df.sort_values('Importance', ascending = False)[:10].plot(x = 'Features', y = 'Importance', kind='bar')"
   ]
  },
  {
   "cell_type": "code",
   "execution_count": null,
   "metadata": {
    "collapsed": true
   },
   "outputs": [],
   "source": []
  }
 ],
 "metadata": {
  "anaconda-cloud": {},
  "kernelspec": {
   "display_name": "Python [Root]",
   "language": "python",
   "name": "Python [Root]"
  },
  "language_info": {
   "codemirror_mode": {
    "name": "ipython",
    "version": 3
   },
   "file_extension": ".py",
   "mimetype": "text/x-python",
   "name": "python",
   "nbconvert_exporter": "python",
   "pygments_lexer": "ipython3",
   "version": "3.5.2"
  }
 },
 "nbformat": 4,
 "nbformat_minor": 0
}
