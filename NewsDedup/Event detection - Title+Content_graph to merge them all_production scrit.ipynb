{
 "cells": [
  {
   "cell_type": "markdown",
   "metadata": {},
   "source": [
    "#### This note book provides a solution to dedup news articles that talk about the same event.\n",
    "#### Highlights:\n",
    "\n",
    "1. Apply tf-idf on Named Entities extracted from news contents - I'll show how I compute tf-idf from scratch.\n",
    "2. Use graph to model similarity matrix and combine a title-based similarity model and the aforementioned content model together.\n",
    "\n",
    "This is an unsupervised task, so I don't have accuracy measure to optimize the model. But spotchecks now and then are satisfying. In addition, I use this script to dedup news feeds for my team (of course with some web sracping and interaction with DB which I eliminated here) and get no complaints so far."
   ]
  },
  {
   "cell_type": "code",
   "execution_count": 51,
   "metadata": {
    "collapsed": false
   },
   "outputs": [],
   "source": [
    "import os \n",
    "import pickle\n",
    "from datetime import datetime\n",
    "from datetime import timedelta\n",
    "import pyodbc\n",
    "import codecs\n",
    "import re\n",
    "\n",
    "import pandas as pd\n",
    "import numpy as np\n",
    "from sklearn.feature_extraction.text import TfidfVectorizer\n",
    "\n",
    "import spacy\n",
    "\n",
    "# Find clusters\n",
    "import networkx as nx\n",
    "#import matplotlib.pyplot as plt\n",
    "%matplotlib inline"
   ]
  },
  {
   "cell_type": "code",
   "execution_count": 2,
   "metadata": {
    "collapsed": true
   },
   "outputs": [],
   "source": [
    "import warnings                     # ignore warnings\n",
    "warnings.filterwarnings(\"ignore\")"
   ]
  },
  {
   "cell_type": "code",
   "execution_count": 3,
   "metadata": {
    "collapsed": true
   },
   "outputs": [],
   "source": [
    "# Load En language model\n",
    "nlp = spacy.load('en')"
   ]
  },
  {
   "cell_type": "markdown",
   "metadata": {},
   "source": [
    "#### 1. Load Data"
   ]
  },
  {
   "cell_type": "code",
   "execution_count": 21,
   "metadata": {
    "collapsed": false
   },
   "outputs": [
    {
     "data": {
      "text/html": [
       "<div>\n",
       "<table border=\"1\" class=\"dataframe\">\n",
       "  <thead>\n",
       "    <tr style=\"text-align: right;\">\n",
       "      <th></th>\n",
       "      <th>NewsTrackerID</th>\n",
       "      <th>ArticleTitle</th>\n",
       "      <th>CreatedDate</th>\n",
       "      <th>Content</th>\n",
       "      <th>UpdatedDate</th>\n",
       "      <th>ContentUpdateTypeID</th>\n",
       "      <th>RN</th>\n",
       "    </tr>\n",
       "  </thead>\n",
       "  <tbody>\n",
       "    <tr>\n",
       "      <th>0</th>\n",
       "      <td>343</td>\n",
       "      <td>SEC investigating Yahoo over breach</td>\n",
       "      <td>2017-01-23</td>\n",
       "      <td>The Securities and Exchange Commission (SEC) o...</td>\n",
       "      <td>2017-01-23</td>\n",
       "      <td>1</td>\n",
       "      <td>1</td>\n",
       "    </tr>\n",
       "    <tr>\n",
       "      <th>1</th>\n",
       "      <td>344</td>\n",
       "      <td>SEC probing Yahoo over previously disclosed cy...</td>\n",
       "      <td>2017-01-23</td>\n",
       "      <td>The U.S. Securities and Exchange Commission is...</td>\n",
       "      <td>2017-01-23</td>\n",
       "      <td>1</td>\n",
       "      <td>1</td>\n",
       "    </tr>\n",
       "    <tr>\n",
       "      <th>2</th>\n",
       "      <td>345</td>\n",
       "      <td>Report: SEC probing Yahoo's breach disclosure ...</td>\n",
       "      <td>2017-01-23</td>\n",
       "      <td>The SEC is investigating whether Yahoo should ...</td>\n",
       "      <td>2017-01-23</td>\n",
       "      <td>1</td>\n",
       "      <td>1</td>\n",
       "    </tr>\n",
       "  </tbody>\n",
       "</table>\n",
       "</div>"
      ],
      "text/plain": [
       "   NewsTrackerID                                       ArticleTitle  \\\n",
       "0            343                SEC investigating Yahoo over breach   \n",
       "1            344  SEC probing Yahoo over previously disclosed cy...   \n",
       "2            345  Report: SEC probing Yahoo's breach disclosure ...   \n",
       "\n",
       "  CreatedDate                                            Content UpdatedDate  \\\n",
       "0  2017-01-23  The Securities and Exchange Commission (SEC) o...  2017-01-23   \n",
       "1  2017-01-23  The U.S. Securities and Exchange Commission is...  2017-01-23   \n",
       "2  2017-01-23  The SEC is investigating whether Yahoo should ...  2017-01-23   \n",
       "\n",
       "   ContentUpdateTypeID  RN  \n",
       "0                    1   1  \n",
       "1                    1   1  \n",
       "2                    1   1  "
      ]
     },
     "execution_count": 21,
     "metadata": {},
     "output_type": "execute_result"
    }
   ],
   "source": [
    "data = pickle.load(open(\"data.pkl\",\"rb\"))\n",
    "data[:3]"
   ]
  },
  {
   "cell_type": "markdown",
   "metadata": {},
   "source": [
    "#### 2. Minor clean up, count entities per article (keep only entity_count >0)"
   ]
  },
  {
   "cell_type": "code",
   "execution_count": 24,
   "metadata": {
    "collapsed": true
   },
   "outputs": [],
   "source": [
    "def clean_up(input_text):\n",
    "    \n",
    "    output_text = str(input_text)\n",
    "    \n",
    "    # Remove <br> tag, \\ax0\n",
    "    pattern = re.compile(\"<br />|\\xa0|[()\\\"]|'s|'S\")\n",
    "    \n",
    "    output_text = re.sub(pattern,\" \",output_text)\n",
    "\n",
    "    return(output_text)\n",
    "    \n",
    "\n",
    "def num_ent(doc):           \n",
    "    # Count major entities to filter out articles that are too short\n",
    "    processed_doc = nlp(doc)\n",
    "    counter = 0\n",
    "    \n",
    "    for ent in processed_doc.ents:\n",
    "        if ent.label_ in ['ORG','PERSON','EVENT','GPE']:   # GPE used for counting\n",
    "            counter += 1\n",
    "            #print(ent.text, ent.label_)\n",
    "                \n",
    "    return(counter)"
   ]
  },
  {
   "cell_type": "code",
   "execution_count": 23,
   "metadata": {
    "collapsed": false
   },
   "outputs": [
    {
     "data": {
      "text/plain": [
       "(255, 8)"
      ]
     },
     "execution_count": 23,
     "metadata": {},
     "output_type": "execute_result"
    }
   ],
   "source": [
    "# Need to explicitly change the data type to string\n",
    "# or the parser does not seem to work properly\n",
    "data['Content'].astype(str)\n",
    "data['Content'] = data['Content'].map(clean_up)\n",
    "data['Entity_Count'] = data['Content'][mask_today].map(num_ent)\n",
    "\n",
    "mask_suceeded = data['Entity_Count'] > 0\n",
    "\n",
    "today_suceeded = data[mask_suceeded]\n",
    "\n",
    "today_suceeded.shape"
   ]
  },
  {
   "cell_type": "markdown",
   "metadata": {},
   "source": [
    "#### 3. Dedup\n",
    "##### 3.1 A pure title-similarity-based appoach\n",
    "Use TfidfVectorizer from scikit-learn"
   ]
  },
  {
   "cell_type": "code",
   "execution_count": 27,
   "metadata": {
    "collapsed": false
   },
   "outputs": [
    {
     "name": "stdout",
     "output_type": "stream",
     "text": [
      "(255, 925)\n"
     ]
    }
   ],
   "source": [
    "data['ArticleTitle'].astype(str)\n",
    "\n",
    "tfidf_vec = TfidfVectorizer(stop_words='english',\n",
    "                            lowercase=True, \n",
    "                            analyzer='word', \n",
    "                            ngram_range=(1,1))\n",
    "title_TFIDF = tfidf_vec.fit_transform(today_suceeded['ArticleTitle'])\n",
    "\n",
    "print(title_TFIDF.shape)"
   ]
  },
  {
   "cell_type": "code",
   "execution_count": 52,
   "metadata": {
    "collapsed": false
   },
   "outputs": [
    {
     "data": {
      "text/plain": [
       "<matplotlib.axes._subplots.AxesSubplot at 0x79221ace80>"
      ]
     },
     "execution_count": 52,
     "metadata": {},
     "output_type": "execute_result"
    },
    {
     "data": {
      "image/png": "[encoded data removed]",
      "text/plain": [
       "<matplotlib.figure.Figure at 0x79221a8b00>"
      ]
     },
     "metadata": {},
     "output_type": "display_data"
    }
   ],
   "source": [
    "# See most frequent words\n",
    "vocab = tfidf_vec.get_feature_names()   # Remove numbers?\n",
    "freq = np.sum(title_TFIDF,axis=0).T\n",
    "\n",
    "freq_df = pd.DataFrame(freq, index=vocab,columns = [\"count\"])\n",
    "freq_df.sort_values(by=\"count\",ascending=False)[:30].plot(kind=\"bar\")"
   ]
  },
  {
   "cell_type": "code",
   "execution_count": 53,
   "metadata": {
    "collapsed": true
   },
   "outputs": [],
   "source": [
    "title_tfidf_array_n = title_TFIDF.toarray()"
   ]
  },
  {
   "cell_type": "markdown",
   "metadata": {},
   "source": [
    "##### 3.2 A content-based approach\n",
    "The idea is to use tf-idf on named entities. Normally, we represent each document with a bag of words and apply a tf-idf on word counts; Here, I'm representing each document with a bag of extracted entities, EG.\n",
    "\n",
    "    Doc1: ['SEC', 'YAHOO', 'SEC', 'YAHOO', 'THE FEDERAL BUREAU OF INVESTIGATION']\n",
    "\n",
    "Therefore, I'm going to code up my own tf-idf from scratch!\n",
    "\n",
    "###### 3.2.1 NER on content to get ORG, PERSON, EVENT for modeling"
   ]
  },
  {
   "cell_type": "code",
   "execution_count": 97,
   "metadata": {
    "collapsed": true
   },
   "outputs": [],
   "source": [
    "def create_ent_set(doc):\n",
    "    processed_doc = nlp(doc)\n",
    "    doc_ent_dict = {}\n",
    "    \n",
    "    for ent in processed_doc.ents:\n",
    "        if ent.label_ in ['ORG','PERSON','EVENT']:       # GPE not used for modeling\n",
    "            if ent.text.upper() in doc_ent_dict.keys():  # All to upper case\n",
    "                doc_ent_dict[ent.text.upper()] += 1\n",
    "            else:\n",
    "                doc_ent_dict[ent.text.upper()] = 1\n",
    "                \n",
    "    return(doc_ent_dict)"
   ]
  },
  {
   "cell_type": "code",
   "execution_count": 54,
   "metadata": {
    "collapsed": false
   },
   "outputs": [
    {
     "data": {
      "text/plain": [
       "0    {'SENATE': 1, 'YAHOO': 5, 'FBI': 1, 'SEC': 2, ...\n",
       "1    {'VERIZON COMMUNICATIONS': 1, 'YAHOO': 9, 'THE...\n",
       "2    {'REUTERS': 1, 'SEC': 6, 'NEWMAN': 2, 'CRAIG N...\n",
       "3    {'THE FEDERAL BUREAU OF INVESTIGATION': 1, 'SE...\n",
       "4    {'VERIZON': 2, 'THE U.S. FEDERAL TRADE COMMISS...\n",
       "Name: Entity_List, dtype: object"
      ]
     },
     "execution_count": 54,
     "metadata": {},
     "output_type": "execute_result"
    }
   ],
   "source": [
    "today_suceeded['Entity_List'] = today_suceeded['Content'].map(create_ent_set)\n",
    "today_suceeded['Entity_List'][:5]"
   ]
  },
  {
   "cell_type": "code",
   "execution_count": 56,
   "metadata": {
    "collapsed": false
   },
   "outputs": [
    {
     "name": "stdout",
     "output_type": "stream",
     "text": [
      "Total entities:  2405\n"
     ]
    },
    {
     "data": {
      "text/plain": [
       "['JOHN CRANE', 'RAY JOHNSON', 'DPS', 'MICHAEL MCMAHON', 'AFRIYIE']"
      ]
     },
     "execution_count": 56,
     "metadata": {},
     "output_type": "execute_result"
    }
   ],
   "source": [
    "# Get all entities\n",
    "ALL_ENT = list(set([x for record in today_suceeded['Entity_List'] for x in record.keys()]))\n",
    "print(\"Total entities: \",len(ALL_ENT))\n",
    "ALL_ENT[:5]"
   ]
  },
  {
   "cell_type": "markdown",
   "metadata": {},
   "source": [
    "###### 3.2.2 Compute my own TFIDF and normalize it\n",
    "BINARY version is implemented here for it gives more robust results;"
   ]
  },
  {
   "cell_type": "code",
   "execution_count": 62,
   "metadata": {
    "collapsed": false
   },
   "outputs": [
    {
     "name": "stdout",
     "output_type": "stream",
     "text": [
      "(255, 2405)\n"
     ]
    }
   ],
   "source": [
    "# Compute a term frequency matrix - binary version\n",
    "ent_freq_count = np.empty([today_suceeded.shape[0],len(ALL_ENT)]) \n",
    "\n",
    "for i in range(ent_freq_count.shape[0]):\n",
    "    for j in range(ent_freq_count.shape[1]):\n",
    "\n",
    "        if ALL_ENT[j] in today_suceeded['Entity_List'].iloc[i].keys():\n",
    "            ent_freq_count[i,j] = 1    \n",
    "        else:\n",
    "            ent_freq_count[i,j] = 0 \n",
    "            \n",
    "print(ent_freq_count.shape)"
   ]
  },
  {
   "cell_type": "raw",
   "metadata": {},
   "source": [
    "# Compute a term frequency matrix - frequency count version\n",
    "ent_freq_count = np.empty([data.shape[0],len(ALL_ENT)]) \n",
    "\n",
    "for i in range(ent_freq_count.shape[0]):\n",
    "    for j in range(ent_freq_count.shape[1]):\n",
    "                \n",
    "        if ALL_ENT[j] in data['Entity_List'][i].keys():\n",
    "            ent_freq_count[i,j] = data['Entity_List'][i][ALL_ENT[j]]\n",
    "        else:\n",
    "            ent_freq_count[i,j] = 0   "
   ]
  },
  {
   "cell_type": "code",
   "execution_count": 58,
   "metadata": {
    "collapsed": false
   },
   "outputs": [
    {
     "name": "stdout",
     "output_type": "stream",
     "text": [
      "(2405,)\n"
     ]
    }
   ],
   "source": [
    "# Compute inverse document frequency from frequency matrix\n",
    "idf = np.sum(ent_freq_count,axis=0)\n",
    "print(idf.shape)"
   ]
  },
  {
   "cell_type": "code",
   "execution_count": 63,
   "metadata": {
    "collapsed": false
   },
   "outputs": [
    {
     "name": "stdout",
     "output_type": "stream",
     "text": [
      "2405.0\n",
      "(255, 2405)\n"
     ]
    }
   ],
   "source": [
    "# Compute TFIDF\n",
    "ent_tfidf_array = np.empty(ent_freq_count.shape)\n",
    "\n",
    "for j in range(ent_freq_count.shape[1]):\n",
    "    ent_tfidf_array[:,j] = np.divide(ent_freq_count[:,j],idf[j])\n",
    "\n",
    "print(ent_tfidf_array.sum())  # QC - This should sum up to total word count\n",
    "print(ent_tfidf_array.shape)"
   ]
  },
  {
   "cell_type": "code",
   "execution_count": 64,
   "metadata": {
    "collapsed": true
   },
   "outputs": [],
   "source": [
    "# Normalize for tfidf doc length\n",
    "# Use SQRT of SUM_OF_SQUARE to make sure the dot product later is cosine sim\n",
    "doc_length = np.sqrt(np.sum(ent_tfidf_array**2,axis=1)) # Row-wise sum of square\n",
    "ent_tfidf_array_n = np.empty(ent_freq_count.shape)\n",
    "\n",
    "for i in range(ent_freq_count.shape[0]):\n",
    "    if doc_length[i] != 0:\n",
    "        ent_tfidf_array_n[i,:] = np.divide(ent_tfidf_array[i,:],doc_length[i])\n",
    "    else:\n",
    "        # If number of entities extracted from contents == 0, divide by a huge number\n",
    "        ent_tfidf_array_n[i,:] = np.divide(ent_tfidf_array[i,:],1000000)"
   ]
  },
  {
   "cell_type": "markdown",
   "metadata": {},
   "source": [
    "###### 3.2.3 Compute a cosine similarity matrix from TFIDF matrix\n",
    "Since I normalized doc length to 1 in the code block above, dot product between two docs (i.e. two rows of the normalized tfidf matrix) will be cosine similarity.\n",
    "\n",
    "In the next step, I'm going to model similarity matrix as a graph, so I'm going to extract doc pairs with high similarity score in the similarity matrix."
   ]
  },
  {
   "cell_type": "code",
   "execution_count": 66,
   "metadata": {
    "collapsed": true
   },
   "outputs": [],
   "source": [
    "def get_sim_pairs_from_tfidf_mat(tfidf_mat,threshold):  \n",
    "    \"\"\"\n",
    "    tfidf_mat is a normalized tf-idf matrix\n",
    "    threshold is for cosine similarity score\n",
    "    \"\"\"\n",
    "    # calucate similarity matrix from nomalized tfidf matrix\n",
    "    tfidf_mat_t = np.transpose(tfidf_mat)     \n",
    "    cosine_sim = np.dot(tfidf_mat, tfidf_mat_t)\n",
    "    \n",
    "    ## QC\n",
    "    # print(cosine_sim[58,59] == cosine_sim[59,58])       # QC for symetric\n",
    "    # print(cosine_sim[100,100])                          # QC for diagonal - should be 1\n",
    "    \n",
    "    \n",
    "    # values on diagonal should all be 1\n",
    "    np.fill_diagonal(cosine_sim,0)\n",
    "    \n",
    "    ## Choose threshold\n",
    "    # print(cosine_sim.max())\n",
    "    # print(cosine_sim.mean())\n",
    "    THRESHOLD_SIM = np.maximum(np.percentile(cosine_sim,99),threshold)\n",
    "    \n",
    "    out = np.where(cosine_sim > THRESHOLD_SIM)   \n",
    "    \n",
    "    # get similar pairs\n",
    "    pairs = []\n",
    "    for i in range(len(out[0])):\n",
    "        pairs.append((out[0][i],out[1][i]))\n",
    "    \n",
    "    return(pairs)\n",
    "    "
   ]
  },
  {
   "cell_type": "code",
   "execution_count": 67,
   "metadata": {
    "collapsed": true
   },
   "outputs": [],
   "source": [
    "pairs_title = get_sim_pairs_from_tfidf_mat(title_tfidf_array_n,0.4)\n",
    "pairs_content_ent = get_sim_pairs_from_tfidf_mat(ent_tfidf_array_n, 0.1)\n",
    "#print(len(pairs_title))\n",
    "#print(len(pairs_content_ent))"
   ]
  },
  {
   "cell_type": "markdown",
   "metadata": {},
   "source": [
    "0.4 for title and 0.1 for content are arbitrary cut-off. This is an unsupervised task so I don't have any straight-forward accuracy measure that I can optimize against. \n",
    "\n",
    "I decide these numbers are good because:\n",
    "1. When I eye-balling the result article groups, they are considerably accurate. (1~2 misses per ~250 news) which can be considered as a very decent \"precision\".\n",
    "2. The de-duped news are served on our internal news feed, and I don't get any complaint about too much dup in the systems yet, which means \"recall\" is ok."
   ]
  },
  {
   "cell_type": "markdown",
   "metadata": {},
   "source": [
    "###### 3.2.4 Merge pairs with common elements - a graph-based solution!!!!\n",
    "So far, I created two sets of similar article pairs - one will pick up news articles that have similar titles, the other similar contents. By modeling them with a graph, I will be able to merge the result from two totally different models together. Consider an example below:\n",
    "\n",
    "News1: \n",
    "\n",
    "    [Title] Yahoo Under Scrutiny for Its Massive Cyber Breach \n",
    "    [Content] (Refers to \"Yahoo\" all the time.)\n",
    "    \n",
    "News2: \n",
    "\n",
    "    [Title] Yahoo Faces SEC Probe Over Data Breach \n",
    "    [Content] (Refers to \"Yahoo\" all the time.)\n",
    "    \n",
    "News3: \n",
    "\n",
    "    [Title] SEC Probing Yahoo over Previously Disclosed Data Breach\n",
    "    [Content] (Refers to \"the company\" all the time.)\n",
    "\n",
    "Intuitively, the title-based approach will put 2 and 3 together but fail to pick up 1, while the content-based approach will likely pick up 1 and 2 but fail to pick out 3. By drawing simialr pairs from both models and finding connected parts, I will pick up all three articles. Isn't that **AWESOME**?!\n",
    "\n",
    "In addition to taking the union of two models, you can also take the intersection to stay on the conservative side. Isn't the flexibility **EVEN MORE AWESOME**?!?!\n",
    "\n"
   ]
  },
  {
   "cell_type": "code",
   "execution_count": 87,
   "metadata": {
    "collapsed": true
   },
   "outputs": [],
   "source": [
    "G = nx.Graph()\n",
    "\n",
    "# Add edges - defined by value pairs\n",
    "G.add_edges_from(pairs_title)\n",
    "G.add_edges_from(pairs_content_ent)"
   ]
  },
  {
   "cell_type": "code",
   "execution_count": 88,
   "metadata": {
    "collapsed": false
   },
   "outputs": [
    {
     "data": {
      "image/png": "[encoded data removed]",
      "text/plain": [
       "<matplotlib.figure.Figure at 0x79267561d0>"
      ]
     },
     "metadata": {},
     "output_type": "display_data"
    }
   ],
   "source": [
    "# Draw the graph - not informative at all, just for fun LOL\n",
    "nx.draw_circular(G)"
   ]
  },
  {
   "cell_type": "code",
   "execution_count": 68,
   "metadata": {
    "collapsed": true
   },
   "outputs": [],
   "source": [
    "sim_doc_clusters = {}\n",
    "for item in nx.connected_components(G):\n",
    "\n",
    "    item_list = list(item)\n",
    "    NewsTrackerID_index = today_suceeded.columns.get_loc(\"NewsTrackerID\")  # Row index to NewsTrackerID\n",
    "\n",
    "    if len(item_list)>1 :\n",
    "        key = today_suceeded.iloc[item_list[0], NewsTrackerID_index]       \n",
    "        value = [today_suceeded.iloc[index, NewsTrackerID_index] for index in item_list[1:]]\n",
    "\n",
    "        sim_doc_clusters[key] = value"
   ]
  },
  {
   "cell_type": "code",
   "execution_count": 91,
   "metadata": {
    "collapsed": false
   },
   "outputs": [
    {
     "data": {
      "text/plain": [
       "{343: [344, 345, 346, 347, 348, 458, 459],\n",
       " 352: [353],\n",
       " 360: [461, 359],\n",
       " 372: [373],\n",
       " 377: [378],\n",
       " 383: [382, 448],\n",
       " 389: [390],\n",
       " 397: [398],\n",
       " 412: [470],\n",
       " 413: [473],\n",
       " 430: [431],\n",
       " 432: [433],\n",
       " 435: [436],\n",
       " 453: [454],\n",
       " 463: [464, 375, 376],\n",
       " 469: [399, 417],\n",
       " 479: [480],\n",
       " 487: [488, 489, 490, 491],\n",
       " 493: [494, 510],\n",
       " 496: [497, 416],\n",
       " 503: [504],\n",
       " 520: [566],\n",
       " 522: [523],\n",
       " 526: [527],\n",
       " 528: [363, 364, 365, 366],\n",
       " 534: [535],\n",
       " 539: [540],\n",
       " 554: [555, 499],\n",
       " 560: [492],\n",
       " 572: [571],\n",
       " 575: [576],\n",
       " 596: [595],\n",
       " 599: [600],\n",
       " 606: [533],\n",
       " 609: [579]}"
      ]
     },
     "execution_count": 91,
     "metadata": {},
     "output_type": "execute_result"
    }
   ],
   "source": [
    "sim_doc_clusters"
   ]
  },
  {
   "cell_type": "markdown",
   "metadata": {},
   "source": [
    "#### 4. Write output for evaluation"
   ]
  },
  {
   "cell_type": "code",
   "execution_count": 95,
   "metadata": {
    "collapsed": false
   },
   "outputs": [
    {
     "name": "stdout",
     "output_type": "stream",
     "text": [
      "0:00:00.062502\n"
     ]
    }
   ],
   "source": [
    "# Write output\n",
    "similar_news_dict = {}\n",
    "\n",
    "t0 = datetime.now()\n",
    "for seed_newsid in sim_doc_clusters.keys():\n",
    "\n",
    "    content_index = today_suceeded.columns.get_loc('ArticleTitle') # Change to \"Content\"\n",
    "    value = [today_suceeded[today_suceeded['NewsTrackerID'] == seed_newsid].iloc[0,content_index]]\n",
    "    \n",
    "    for newsid in sim_doc_clusters[seed_newsid]:\n",
    "        content_text = today_suceeded[today_suceeded['NewsTrackerID'] == newsid].iloc[0,content_index]\n",
    "        value.append(content_text)        \n",
    "\n",
    "    similar_news_dict[seed_newsid] = value\n",
    "    \n",
    "\n",
    "print(datetime.now() - t0)"
   ]
  },
  {
   "cell_type": "code",
   "execution_count": 96,
   "metadata": {
    "collapsed": false
   },
   "outputs": [],
   "source": [
    "with codecs.open(\"output_title.txt\",\"w\",\"utf-8\") as f:\n",
    "    for key in similar_news_dict.keys():\n",
    "        outputline = \"❤\".join(similar_news_dict[key])\n",
    "        f.write(outputline+\"\\n\")"
   ]
  },
  {
   "cell_type": "code",
   "execution_count": null,
   "metadata": {
    "collapsed": true
   },
   "outputs": [],
   "source": []
  }
 ],
 "metadata": {
  "anaconda-cloud": {},
  "kernelspec": {
   "display_name": "Python [conda root]",
   "language": "python",
   "name": "conda-root-py"
  },
  "language_info": {
   "codemirror_mode": {
    "name": "ipython",
    "version": 3
   },
   "file_extension": ".py",
   "mimetype": "text/x-python",
   "name": "python",
   "nbconvert_exporter": "python",
   "pygments_lexer": "ipython3",
   "version": "3.5.2"
  }
 },
 "nbformat": 4,
 "nbformat_minor": 1
}
