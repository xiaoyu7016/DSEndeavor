{
 "cells": [
  {
   "cell_type": "markdown",
   "metadata": {
    "deletable": true,
    "editable": true
   },
   "source": [
    "This script is a practice of applying CNN for sentence polarity classification. The goal for myself is to reproduce [Yoon Kim (2014)](https://arxiv.org/pdf/1408.5882.pdf)'s results on Rotten Tomatoes' movie reviews to get my hands dirty on CNN/TensorFlow. This goal, though, was unexpectedly tough to achieve. The [author's source code](https://github.com/yoonkim/CNN_sentence) is in Keras. [Denny Britz](https://github.com/dennybritz/cnn-text-classification-tf) has a TensorFlow implementation but it is too advanced for beginners. In addition, all the novice-friendly CNN codes are for images, giving me a real hard time translating the image context to text. \n",
    "\n",
    "Therefore, another goal of this script is to provide a beginner-friendly TensorFlow implementation of CNN on text. The script mimicked ** [Hvass-Labs' CNN tutorial](https://github.com/Hvass-Labs/TensorFlow-Tutorials/blob/master/02_Convolutional_Neural_Network.ipynb) (here is the [video tutorial](https://www.youtube.com/watch?v=HMcx-zY8JSg&t=1503s); the whole series is HIGHLY RECOMMEND for TensoFlow/DeepLearning absolute beginners)**. If you unfortunately decide to pick up CNN from modeling text, hopefully this script can be of some help to you.\n",
    "\n"
   ]
  },
  {
   "cell_type": "code",
   "execution_count": 1,
   "metadata": {
    "collapsed": false,
    "deletable": true,
    "editable": true
   },
   "outputs": [],
   "source": [
    "import tensorflow as tf\n",
    "from gensim.models import Word2Vec\n",
    "from gensim.models import KeyedVectors\n",
    "\n",
    "import helper\n",
    "import numpy as np\n",
    "from datetime import datetime\n",
    "\n",
    "from sklearn.model_selection import train_test_split\n",
    "\n",
    "import matplotlib.pyplot as plt\n",
    "%matplotlib inline"
   ]
  },
  {
   "cell_type": "markdown",
   "metadata": {},
   "source": [
    "### Set parameters"
   ]
  },
  {
   "cell_type": "code",
   "execution_count": 2,
   "metadata": {
    "collapsed": false,
    "deletable": true,
    "editable": true
   },
   "outputs": [],
   "source": [
    "TRAINED_WORDVEC = KeyedVectors.load_word2vec_format('GoogleNews-vectors-negative300.bin', binary=True)"
   ]
  },
  {
   "cell_type": "code",
   "execution_count": 85,
   "metadata": {
    "collapsed": false,
    "deletable": true,
    "editable": true
   },
   "outputs": [],
   "source": [
    "WORDVEC_LEN = TRAINED_WORDVEC.syn0.shape[1]   # 300\n",
    "WORDS_PER_DOC = 50\n",
    "\n",
    "DOC_SHAPE = (WORDS_PER_DOC, WORDVEC_LEN) \n",
    "DOC_FLATTEN_LEN = WORDVEC_LEN * WORDS_PER_DOC\n",
    "NUM_CLASSES = 2\n",
    "\n",
    "NUM_CHANNELS = 1\n",
    "FILTER_HEIGHT = [3,4,5]   # Unlike in images, filter on word embedding should always be \n",
    "                          # as wide as the embedding; varying the size of the filter really is \n",
    "                          # just changing the height\n",
    "DORPOUT_KEEP_PROB = 0.5\n",
    "\n",
    "BATCH_SIZE = 100"
   ]
  },
  {
   "cell_type": "markdown",
   "metadata": {},
   "source": [
    "### Read in training data"
   ]
  },
  {
   "cell_type": "code",
   "execution_count": 61,
   "metadata": {
    "collapsed": true
   },
   "outputs": [],
   "source": [
    "neg = []\n",
    "with open(\"rt/rt-polarity.neg\") as f:\n",
    "    for line in f:\n",
    "        txt = helper.txt_to_words(line.strip(),remove_stopwords=False)\n",
    "        label = [0,1]\n",
    "        length = len(txt)\n",
    "        neg.append([txt,label,length])\n",
    "        \n",
    "pos = []\n",
    "with open(\"rt/rt-polarity.pos\") as f:\n",
    "    for line in f:\n",
    "        txt = helper.txt_to_words(line.strip(),remove_stopwords=False)\n",
    "        label = [1,0]\n",
    "        length = len(txt)\n",
    "        pos.append([txt,label,length])"
   ]
  },
  {
   "cell_type": "code",
   "execution_count": 62,
   "metadata": {
    "collapsed": true
   },
   "outputs": [],
   "source": [
    "neg_array = np.array(neg)\n",
    "pos_array = np.array(pos)"
   ]
  },
  {
   "cell_type": "code",
   "execution_count": 63,
   "metadata": {
    "collapsed": false
   },
   "outputs": [
    {
     "name": "stdout",
     "output_type": "stream",
     "text": [
      "(10662, 3)\n",
      "---> X:\n",
      " [['simplistic', 'silly', 'and', 'tedious']\n",
      " ['it', \"'s\", 'so', 'laddish', 'and', 'juvenile', 'only', 'teenage', 'boys', 'could', 'possibly', 'find', 'it', 'funny']\n",
      " ['exploitative', 'and', 'largely', 'devoid', 'of', 'the', 'depth', 'or', 'sophistication', 'that', 'would', 'make', 'watching', 'such', 'a', 'graphic', 'treatment', 'of', 'the', 'crimes', 'bearable']]\n",
      "---> y:\n",
      " [[0, 1] [0, 1] [0, 1]]\n"
     ]
    }
   ],
   "source": [
    "rt = np.concatenate([neg_array, pos_array], axis=0)\n",
    "print(rt.shape)\n",
    "print(\"---> X:\\n\", rt[:3,0])\n",
    "print(\"---> y:\\n\", rt[:3,1])"
   ]
  },
  {
   "cell_type": "code",
   "execution_count": 64,
   "metadata": {
    "collapsed": false
   },
   "outputs": [
    {
     "name": "stdout",
     "output_type": "stream",
     "text": [
      "Max doc length:  53\n"
     ]
    },
    {
     "data": {
      "image/png": "[encoded data removed]",
      "text/plain": [
       "<matplotlib.figure.Figure at 0x7fcfc4cf1710>"
      ]
     },
     "metadata": {},
     "output_type": "display_data"
    }
   ],
   "source": [
    "# Distrubiton of doc length\n",
    "plt.hist(rt[:,2].astype(int))\n",
    "plt.title(\"Distribution of doc length\")\n",
    "print(\"Max doc length: \",np.max(rt[:,2]))"
   ]
  },
  {
   "cell_type": "code",
   "execution_count": 65,
   "metadata": {
    "collapsed": false
   },
   "outputs": [],
   "source": [
    "np.random.shuffle(rt)\n",
    "X_train, X_test, y_train, y_test = train_test_split(rt[:,0],rt[:,1],test_size = 0.1, random_state =1)"
   ]
  },
  {
   "cell_type": "code",
   "execution_count": 67,
   "metadata": {
    "collapsed": false
   },
   "outputs": [
    {
     "name": "stdout",
     "output_type": "stream",
     "text": [
      "---> Before:\n",
      "(9595,)\n",
      "[[1, 0] [1, 0] [1, 0] ..., [1, 0] [0, 1] [1, 0]]\n",
      "---> After:\n",
      "(9595, 2)\n",
      "[[1 0]\n",
      " [1 0]\n",
      " [1 0]\n",
      " ..., \n",
      " [1 0]\n",
      " [0 1]\n",
      " [1 0]]\n"
     ]
    }
   ],
   "source": [
    "# Fix dimension of y - make it one-hot encoding\n",
    "print(\"---> Before:\")\n",
    "print(y_train.shape)\n",
    "print(y_train)\n",
    "y_train = np.array(y_train.tolist())\n",
    "y_test = np.array(y_test.tolist())\n",
    "\n",
    "print(\"---> After:\")\n",
    "print(y_train.shape)\n",
    "print(y_train)"
   ]
  },
  {
   "cell_type": "markdown",
   "metadata": {},
   "source": [
    "### Configure a simple CNN\n",
    "    * 1 convolutional layer (with drop out)\n",
    "    * 1 fully connected layer (with l2 regularization)\n",
    "\n",
    "#### Helper funtions"
   ]
  },
  {
   "cell_type": "code",
   "execution_count": 9,
   "metadata": {
    "collapsed": true,
    "deletable": true,
    "editable": true
   },
   "outputs": [],
   "source": [
    "# Helper to get a parameters to optimize\n",
    "def new_weights(shape):\n",
    "    return tf.Variable(tf.truncated_normal(shape, stddev=0.05))\n",
    "\n",
    "def new_biases(length):\n",
    "    return tf.Variable(tf.constant(0.05,shape =[length]))"
   ]
  },
  {
   "cell_type": "code",
   "execution_count": 83,
   "metadata": {
    "collapsed": false,
    "deletable": true,
    "editable": true
   },
   "outputs": [],
   "source": [
    "# Configure the convolutional layer\n",
    "def new_conv_layer(input_tensor_4d,\n",
    "                  num_channels,\n",
    "                  filter_heights,\n",
    "                  filter_width,\n",
    "                  num_filters,\n",
    "                  use_pooling=True):\n",
    "    # input_tensor_4d should be a 4D tensor\n",
    "    # input_tensor_4d's dimension = [docs_per_batch, row/words_per_doc, col/latentdims_per_word, num_channels]\n",
    "    \n",
    "    # Create a list for each filter size; \n",
    "    # We have 3 filter sizes of 3,4,5 here, so we'll end up with 3 elemets\n",
    "    # each element is a 4D tensor of [1,1,1,num_filters]\n",
    "    conv_per_filter_size = []\n",
    "    \n",
    "    for filter_height in filter_heights:\n",
    "    \n",
    "        shape_filter = [filter_height, filter_width, num_channels, num_filters]\n",
    "\n",
    "        # Params to learn & optimize\n",
    "        weights = new_weights(shape=shape_filter)\n",
    "        biases = new_biases(length=num_filters)\n",
    "\n",
    "        # Construct the conv layer and compute output\n",
    "        conv_1filter_4d = tf.nn.conv2d(input=input_tensor_4d,\n",
    "                                     filter=weights,\n",
    "                                     strides=[1,1,1,1],  # strides[1,2]: step size rowwise and colwise\n",
    "                                     padding='VALID')    # VALID: no padding \n",
    "        # Add bias\n",
    "        conv_1filter_4d = tf.nn.bias_add(conv_1filter_4d,biases)\n",
    "\n",
    "        # Max-over pooling: take the largest value per filter\n",
    "        conv_1filter_4d = tf.nn.max_pool(value=conv_1filter_4d,\n",
    "                                       ksize=[1,input_tensor_4d.get_shape()[1]- filter_height + 1,1,1],  \n",
    "                                       # window size over which to calculate the max value\n",
    "                                       strides=[1,1,1,1],\n",
    "                                       padding=\"VALID\")\n",
    "\n",
    "        # ReLU - change negative values in the conv output to 0\n",
    "        conv_1filter_4d = tf.nn.relu(conv_1filter_4d)\n",
    "        \n",
    "        conv_per_filter_size.append(conv_1filter_4d)\n",
    "    \n",
    "    # Concatenate the result for each filter size\n",
    "    conv_layer_4d = tf.concat(conv_per_filter_size,axis=3) \n",
    "    \n",
    "    return conv_layer_4d,weights"
   ]
  },
  {
   "cell_type": "code",
   "execution_count": 11,
   "metadata": {
    "collapsed": true,
    "deletable": true,
    "editable": true
   },
   "outputs": [],
   "source": [
    "# flattern the conv layer output from 4D to 2D to feed to the final fully-connected layer\n",
    "def flatten_layer(conv_layer_tensor_4d):\n",
    "    \n",
    "    layer_shape = conv_layer_tensor_4d.get_shape()\n",
    "    \n",
    "    num_features = layer_shape[1:4].num_elements()\n",
    "    \n",
    "    layer_2d = tf.reshape(conv_layer_tensor_4d, [-1,num_features])\n",
    "    # layer_2d is [docs_per_batch, row/words_per_doc * col/latentdims_per_word * num_channels]\n",
    "    # in the text example, row/words_per_doc = col/latentdims_per_word = 1\n",
    "    \n",
    "    return layer_2d, num_features"
   ]
  },
  {
   "cell_type": "code",
   "execution_count": 90,
   "metadata": {
    "collapsed": true
   },
   "outputs": [],
   "source": [
    "# Add a drop out\n",
    "def dropout_layer(input_tensor_2d):\n",
    "    return tf.nn.dropout(input_tensor_2d, keep_prob = DROPOUT_KEEP_PROB)"
   ]
  },
  {
   "cell_type": "code",
   "execution_count": 13,
   "metadata": {
    "collapsed": false,
    "deletable": true,
    "editable": true
   },
   "outputs": [],
   "source": [
    "def new_fc_layer(input_tensor_2d,\n",
    "                num_inputs,\n",
    "                num_outputs):\n",
    "    weights = new_weights(shape=[num_inputs,num_outputs])\n",
    "    biases = new_biases(length=num_outputs)\n",
    "    \n",
    "    layer_2d = tf.matmul(input_tensor_2d,weights) + biases\n",
    "    \n",
    "    return layer_2d,weights"
   ]
  },
  {
   "cell_type": "markdown",
   "metadata": {
    "deletable": true,
    "editable": true
   },
   "source": [
    "#### Build the \"Framework\"\n",
    "##### 1. Input - training X and y"
   ]
  },
  {
   "cell_type": "code",
   "execution_count": 14,
   "metadata": {
    "collapsed": true,
    "deletable": true,
    "editable": true
   },
   "outputs": [],
   "source": [
    "x_doc_vec = tf.placeholder(tf.float32, shape=[None, DOC_FLATTEN_LEN])\n",
    "x_doc_vec_to_4d_tensor = tf.reshape(x_doc_vec, shape=[-1,WORDS_PER_DOC,WORDVEC_LEN,1])\n",
    "\n",
    "y_true = tf.placeholder(tf.float32, shape = [None,2]) # One-hot encoded\n",
    "y_true_cls = tf.argmax(y_true, dimension=1)"
   ]
  },
  {
   "cell_type": "markdown",
   "metadata": {
    "deletable": true,
    "editable": true
   },
   "source": [
    "##### 2. Build the network"
   ]
  },
  {
   "cell_type": "code",
   "execution_count": 88,
   "metadata": {
    "collapsed": false,
    "deletable": true,
    "editable": true
   },
   "outputs": [
    {
     "data": {
      "text/plain": [
       "<tf.Tensor 'concat_2:0' shape=(?, 1, 1, 300) dtype=float32>"
      ]
     },
     "execution_count": 88,
     "metadata": {},
     "output_type": "execute_result"
    }
   ],
   "source": [
    "# The first layer: convolutional layer with pooling\n",
    "# We have 3 filter size, using 100 filters for each will give us 300 filters\n",
    "layer1_conv1, weights_layer1 = new_conv_layer(input_tensor_4d=x_doc_vec_to_4d_tensor,\n",
    "                                          num_channels=1,\n",
    "                                          filter_heights=FILTER_HEIGHT,\n",
    "                                          filter_width=WORDVEC_LEN,\n",
    "                                          num_filters=100,\n",
    "                                          use_pooling=True)\n",
    "\n",
    "layer1_conv1 # 4D (It's in fact 2D, since it reduces to 1 number per doc per filter)"
   ]
  },
  {
   "cell_type": "code",
   "execution_count": 91,
   "metadata": {
    "collapsed": false,
    "deletable": true,
    "editable": true
   },
   "outputs": [
    {
     "data": {
      "text/plain": [
       "<tf.Tensor 'Reshape_5:0' shape=(?, 300) dtype=float32>"
      ]
     },
     "execution_count": 91,
     "metadata": {},
     "output_type": "execute_result"
    }
   ],
   "source": [
    "# Flatten the convolutional layer\n",
    "layer1_conv1_2d, num_features= flatten_layer(layer1_conv1)\n",
    "layer1_conv1_2d"
   ]
  },
  {
   "cell_type": "code",
   "execution_count": null,
   "metadata": {
    "collapsed": true
   },
   "outputs": [],
   "source": [
    "# Implement a dropout on the flattened convolutional layer\n",
    "# After dropout, the shape of the tensor remains the same \n",
    "# - only 50% of values are \"turned off\" (set to 0) with DROPOUT_KEEP_PROB = 0.5\n",
    "layer1_conv1_2d_dropout = dropout_layer(layer1_conv1_2d)"
   ]
  },
  {
   "cell_type": "code",
   "execution_count": 92,
   "metadata": {
    "collapsed": false,
    "deletable": true,
    "editable": true
   },
   "outputs": [
    {
     "data": {
      "text/plain": [
       "<tf.Tensor 'add_1:0' shape=(?, 2) dtype=float32>"
      ]
     },
     "execution_count": 92,
     "metadata": {},
     "output_type": "execute_result"
    }
   ],
   "source": [
    "# The second layer: fully-connected layer\n",
    "layer2_fc1, weights_layer2 = new_fc_layer(input_tensor_2d=layer1_conv1_2d_dropout,\n",
    "                                         num_inputs=num_features,\n",
    "                                         num_outputs=2)\n",
    "\n",
    "layer2_fc1"
   ]
  },
  {
   "cell_type": "code",
   "execution_count": 93,
   "metadata": {
    "collapsed": false,
    "deletable": true,
    "editable": true
   },
   "outputs": [
    {
     "data": {
      "text/plain": [
       "<tf.Tensor 'Softmax_1:0' shape=(?, 2) dtype=float32>"
      ]
     },
     "execution_count": 93,
     "metadata": {},
     "output_type": "execute_result"
    }
   ],
   "source": [
    "# Prediction\n",
    "y_pred = tf.nn.softmax(layer2_fc1)\n",
    "y_pred_cls = tf.argmax(y_pred,dimension=1)\n",
    "y_pred"
   ]
  },
  {
   "cell_type": "code",
   "execution_count": 94,
   "metadata": {
    "collapsed": true,
    "deletable": true,
    "editable": true
   },
   "outputs": [],
   "source": [
    "# Cost function to be optimized\n",
    "# TF built-in function calculates the softmax internally \n",
    "# so we must use the output of layer_fc2 directly rather than y_pred which has already had the softmax applied.\n",
    "cross_entropy = tf.nn.softmax_cross_entropy_with_logits(logits=layer2_fc1,\n",
    "                                                        labels=y_true)\n",
    "loss = tf.reduce_mean(cross_entropy)"
   ]
  },
  {
   "cell_type": "code",
   "execution_count": 95,
   "metadata": {
    "collapsed": true,
    "deletable": true,
    "editable": true
   },
   "outputs": [],
   "source": [
    "# Optimizer\n",
    "optimizer = tf.train.AdamOptimizer(learning_rate=1e-3).minimize(loss)"
   ]
  },
  {
   "cell_type": "code",
   "execution_count": 96,
   "metadata": {
    "collapsed": true,
    "deletable": true,
    "editable": true
   },
   "outputs": [],
   "source": [
    "# Performance Measures\n",
    "correct_prediction = tf.equal(y_true_cls,y_pred_cls)\n",
    "accuracy = tf.reduce_mean(tf.cast(correct_prediction, tf.float32))"
   ]
  },
  {
   "cell_type": "markdown",
   "metadata": {
    "deletable": true,
    "editable": true
   },
   "source": [
    "### Feed in the data and optimize"
   ]
  },
  {
   "cell_type": "code",
   "execution_count": 97,
   "metadata": {
    "collapsed": false,
    "deletable": true,
    "editable": true
   },
   "outputs": [],
   "source": [
    "batches = helper.generate_batch_indices(batch_size=BATCH_SIZE,\n",
    "                                        data_size=len(X_train))\n",
    "total_iterations = 0\n",
    "#train_array[batches[0]]"
   ]
  },
  {
   "cell_type": "code",
   "execution_count": 98,
   "metadata": {
    "collapsed": true,
    "deletable": true,
    "editable": true
   },
   "outputs": [],
   "source": [
    "def optimize(num_iterations):\n",
    "    global total_iterations\n",
    "    global batches\n",
    "    \n",
    "    t0 = datetime.now()\n",
    "    \n",
    "    for i in range(total_iterations, total_iterations + num_iterations):\n",
    "        \n",
    "        if i >= len(batches):\n",
    "            # Shuffle and generate new batches\n",
    "            batches = helper.generate_batch_indices(batch_size=BATCH_SIZE,\n",
    "                                                    data_size=X_train.shape[0])\n",
    "            multiplier = i // len(batches)\n",
    "            \n",
    "            batch = batches[i - multiplier*len(batches)]\n",
    "            \n",
    "        else:\n",
    "            batch = batches[i]\n",
    "            \n",
    "        y_true_onehot_batch = y_train[batch]\n",
    "        x_batch = helper.create_X_rt(X_train[batch],\n",
    "                                     trained_wordvec=TRAINED_WORDVEC,\n",
    "                                     words_per_doc = WORDS_PER_DOC,\n",
    "                                     wordvec_len = WORDVEC_LEN)\n",
    "        \n",
    "        feed_dict_train = {\n",
    "            x_doc_vec: x_batch,\n",
    "            y_true: y_true_onehot_batch\n",
    "        }\n",
    "        \n",
    "        session.run(optimizer, feed_dict = feed_dict_train)\n",
    "        \n",
    "        if i % 90 == 0:\n",
    "            # Calculate the accuracy on the training-set.\n",
    "            acc = session.run(accuracy, feed_dict=feed_dict_train)\n",
    "\n",
    "            # Message for printing.\n",
    "            msg = \"Optimization Iteration: {0:>6}, Training Accuracy: {1:>6.1%}\"\n",
    "\n",
    "            # Print it.\n",
    "            print(msg.format(i + 1, acc))\n",
    "        \n",
    "    total_iterations += num_iterations\n",
    "    \n",
    "    t1 = datetime.now() - t0\n",
    "    print(t1)"
   ]
  },
  {
   "cell_type": "code",
   "execution_count": 99,
   "metadata": {
    "collapsed": false,
    "deletable": true,
    "editable": true
   },
   "outputs": [],
   "source": [
    "session = tf.Session() # start a session\n",
    "session.run(tf.global_variables_initializer()) # initialize all the variables"
   ]
  },
  {
   "cell_type": "markdown",
   "metadata": {
    "deletable": true,
    "editable": true
   },
   "source": [
    "### Test accuracy"
   ]
  },
  {
   "cell_type": "code",
   "execution_count": 100,
   "metadata": {
    "collapsed": false,
    "deletable": true,
    "editable": true
   },
   "outputs": [],
   "source": [
    "batches_test = helper.generate_batch_indices(batch_size=BATCH_SIZE,data_size=X_test.shape[0])"
   ]
  },
  {
   "cell_type": "code",
   "execution_count": 101,
   "metadata": {
    "collapsed": false,
    "deletable": true,
    "editable": true
   },
   "outputs": [],
   "source": [
    "def predict_on_test():\n",
    "    \n",
    "    global batches_test\n",
    "    \n",
    "    t0 = datetime.now()\n",
    "    \n",
    "    y_true_cls = np.argmax(y_test, axis=1)  # Row-wise\n",
    "    y_pred = np.zeros(y_test.shape[0])\n",
    "    \n",
    "    for i in range(len(batches_test)):\n",
    "        \n",
    "        x_batch = helper.create_X_rt(X_test[batches_test[i]],\n",
    "                                     trained_wordvec=TRAINED_WORDVEC,\n",
    "                                     words_per_doc = WORDS_PER_DOC,\n",
    "                                     wordvec_len = WORDVEC_LEN)\n",
    "        feed_dict_test = {\n",
    "            x_doc_vec: x_batch\n",
    "        }\n",
    "        \n",
    "        y_pred[i*BATCH_SIZE:(i+1)*BATCH_SIZE] = session.run(y_pred_cls,\n",
    "                                                            feed_dict=feed_dict_test)\n",
    "     \n",
    "    correct = (y_true_cls==y_pred)\n",
    "    \n",
    "    accuracy = float(sum(correct)) / X_test.shape[0]\n",
    "    \n",
    "    print(\"# of iterations: \", total_iterations)\n",
    "     # Print the accuracy.\n",
    "    msg = \"Accuracy on Test-Set: {0:.1%} ({1} / {2})\"\n",
    "    print(msg.format(accuracy, sum(correct), X_test.shape[0]))\n",
    "    print(datetime.now() - t0)\n",
    "    "
   ]
  },
  {
   "cell_type": "code",
   "execution_count": 102,
   "metadata": {
    "collapsed": false,
    "deletable": true,
    "editable": true,
    "scrolled": true
   },
   "outputs": [
    {
     "name": "stdout",
     "output_type": "stream",
     "text": [
      "# of iterations:  0\n",
      "Accuracy on Test-Set: 49.6% (529 / 1067)\n",
      "0:00:02.989496\n"
     ]
    }
   ],
   "source": [
    "predict_on_test()"
   ]
  },
  {
   "cell_type": "code",
   "execution_count": null,
   "metadata": {
    "collapsed": false,
    "deletable": true,
    "editable": true
   },
   "outputs": [
    {
     "name": "stdout",
     "output_type": "stream",
     "text": [
      "Optimization Iteration:      1, Training Accuracy:  77.0%\n",
      "0:01:16.675955\n",
      "# of iterations:  90\n",
      "Accuracy on Test-Set: 48.6% (519 / 1067)\n",
      "0:00:02.880818\n"
     ]
    }
   ],
   "source": [
    "optimize(num_iterations=90)  # 90 * 100 = 9000, ~1 epoch\n",
    "predict_on_test()"
   ]
  },
  {
   "cell_type": "code",
   "execution_count": null,
   "metadata": {
    "collapsed": false,
    "deletable": true,
    "editable": true
   },
   "outputs": [
    {
     "name": "stdout",
     "output_type": "stream",
     "text": [
      "Optimization Iteration:     91, Training Accuracy:  68.0%\n",
      "Optimization Iteration:    181, Training Accuracy:  89.0%\n",
      "Optimization Iteration:    271, Training Accuracy:  91.0%\n",
      "Optimization Iteration:    361, Training Accuracy:  93.0%\n",
      "Optimization Iteration:    451, Training Accuracy:  98.0%\n",
      "Optimization Iteration:    541, Training Accuracy: 100.0%\n",
      "Optimization Iteration:    631, Training Accuracy: 100.0%\n",
      "Optimization Iteration:    721, Training Accuracy: 100.0%\n",
      "Optimization Iteration:    811, Training Accuracy: 100.0%\n",
      "Optimization Iteration:    901, Training Accuracy: 100.0%\n",
      "0:12:13.554065\n",
      "# of iterations:  990\n",
      "Accuracy on Test-Set: 47.0% (501 / 1067)\n",
      "0:00:02.793208\n",
      "\n",
      "Optimization Iteration:    991, Training Accuracy: 100.0%\n",
      "Optimization Iteration:   1081, Training Accuracy: 100.0%\n"
     ]
    }
   ],
   "source": [
    "counter = 0\n",
    "\n",
    "while counter < 10:\n",
    "    optimize(900)\n",
    "    predict_on_test()\n",
    "    print()\n",
    "    \n",
    "    counter += 1"
   ]
  },
  {
   "cell_type": "code",
   "execution_count": null,
   "metadata": {
    "collapsed": true,
    "deletable": true,
    "editable": true
   },
   "outputs": [],
   "source": []
  },
  {
   "cell_type": "code",
   "execution_count": null,
   "metadata": {
    "collapsed": true,
    "deletable": true,
    "editable": true
   },
   "outputs": [],
   "source": []
  }
 ],
 "metadata": {
  "kernelspec": {
   "display_name": "Python 3",
   "language": "python",
   "name": "python3"
  },
  "language_info": {
   "codemirror_mode": {
    "name": "ipython",
    "version": 3
   },
   "file_extension": ".py",
   "mimetype": "text/x-python",
   "name": "python",
   "nbconvert_exporter": "python",
   "pygments_lexer": "ipython3",
   "version": "3.4.3"
  }
 },
 "nbformat": 4,
 "nbformat_minor": 2
}
