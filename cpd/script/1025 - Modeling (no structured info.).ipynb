{
 "cells": [
  {
   "cell_type": "code",
   "execution_count": 1,
   "metadata": {
    "collapsed": true
   },
   "outputs": [],
   "source": [
    "import os\n",
    "import re\n",
    "import pandas as pd\n",
    "import numpy as np"
   ]
  },
  {
   "cell_type": "code",
   "execution_count": 14,
   "metadata": {
    "collapsed": true
   },
   "outputs": [],
   "source": [
    "from sklearn.model_selection import train_test_split\n",
    "from sklearn.feature_extraction.text import CountVectorizer, TfidfTransformer, TfidfVectorizer\n",
    "from sklearn.metrics import confusion_matrix,precision_score, recall_score\n",
    "from sklearn.pipeline import Pipeline\n",
    "from sklearn.feature_selection import SelectKBest, RFE\n",
    "from sklearn.feature_selection import chi2\n",
    "from sklearn.model_selection import GridSearchCV\n",
    "from sklearn import preprocessing\n",
    "from sklearn.base import TransformerMixin, BaseEstimator\n",
    "\n",
    "from sklearn.linear_model import LogisticRegression\n",
    "from sklearn.ensemble import RandomForestClassifier\n",
    "from sklearn.svm import SVC\n",
    "from sklearn.naive_bayes import MultinomialNB"
   ]
  },
  {
   "cell_type": "code",
   "execution_count": 3,
   "metadata": {
    "collapsed": true
   },
   "outputs": [],
   "source": [
    "import matplotlib.pyplot as plt\n",
    "%matplotlib inline"
   ]
  },
  {
   "cell_type": "code",
   "execution_count": 4,
   "metadata": {
    "collapsed": true
   },
   "outputs": [],
   "source": [
    "def print_accuracy(y_true, y_pred):\n",
    "    print(confusion_matrix(y_true,y_pred))\n",
    "    print(\"precision:\", precision_score(y_true,y_pred))\n",
    "    print(\"recall:\", recall_score(y_true,y_pred))"
   ]
  },
  {
   "cell_type": "code",
   "execution_count": 5,
   "metadata": {
    "collapsed": true
   },
   "outputs": [],
   "source": [
    "def plot_coefs(df, top_features=20):\n",
    "    df_sorted = df.sort_values(by=\"coef\", ascending = False)\n",
    "    top_positive_coefs = df_sorted[:top_features]\n",
    "    top_negative_coefs = df_sorted[-top_features:]\n",
    "    top_coefs = pd.concat([top_positive_coefs,top_negative_coefs], axis = 0).sort_values(by=\"coef\")\n",
    "    # create plot\n",
    "    plt.figure(figsize=(20, 5))\n",
    "    top_coefs['coef'].plot(kind=\"bar\")\n",
    "    plt.show()"
   ]
  },
  {
   "cell_type": "code",
   "execution_count": 6,
   "metadata": {},
   "outputs": [
    {
     "name": "stdout",
     "output_type": "stream",
     "text": [
      "(4940, 3) (770, 3)\n"
     ]
    },
    {
     "data": {
      "text/html": [
       "<div>\n",
       "<style>\n",
       "    .dataframe thead tr:only-child th {\n",
       "        text-align: right;\n",
       "    }\n",
       "\n",
       "    .dataframe thead th {\n",
       "        text-align: left;\n",
       "    }\n",
       "\n",
       "    .dataframe tbody tr th {\n",
       "        vertical-align: top;\n",
       "    }\n",
       "</style>\n",
       "<table border=\"1\" class=\"dataframe\">\n",
       "  <thead>\n",
       "    <tr style=\"text-align: right;\">\n",
       "      <th></th>\n",
       "      <th>ID</th>\n",
       "      <th>REMARKS</th>\n",
       "      <th>BAD</th>\n",
       "    </tr>\n",
       "  </thead>\n",
       "  <tbody>\n",
       "    <tr>\n",
       "      <th>0</th>\n",
       "      <td>3736142</td>\n",
       "      <td>\"R/O's observed above subject with two other s...</td>\n",
       "      <td>1</td>\n",
       "    </tr>\n",
       "    <tr>\n",
       "      <th>1</th>\n",
       "      <td>3761761</td>\n",
       "      <td>\"LOITERING IN CITGO GAS STATION, FIELD INTERVI...</td>\n",
       "      <td>0</td>\n",
       "    </tr>\n",
       "    <tr>\n",
       "      <th>2</th>\n",
       "      <td>3746471</td>\n",
       "      <td>\"SUBJECT, A KNOWN LA RAZA GANG MEMBER, WAS LOI...</td>\n",
       "      <td>1</td>\n",
       "    </tr>\n",
       "  </tbody>\n",
       "</table>\n",
       "</div>"
      ],
      "text/plain": [
       "        ID                                            REMARKS  BAD\n",
       "0  3736142  \"R/O's observed above subject with two other s...    1\n",
       "1  3761761  \"LOITERING IN CITGO GAS STATION, FIELD INTERVI...    0\n",
       "2  3746471  \"SUBJECT, A KNOWN LA RAZA GANG MEMBER, WAS LOI...    1"
      ]
     },
     "execution_count": 6,
     "metadata": {},
     "output_type": "execute_result"
    }
   ],
   "source": [
    "train_test_cross_df = pd.read_csv(r\"../data/train.txt\",sep=\"|\")\n",
    "eval_df = pd.read_csv(r\"../data/eval.txt\",sep=\"|\")\n",
    "print(train_test_cross_df.shape, eval_df.shape)\n",
    "train_test_cross_df[:3]"
   ]
  },
  {
   "cell_type": "code",
   "execution_count": 7,
   "metadata": {},
   "outputs": [
    {
     "name": "stdout",
     "output_type": "stream",
     "text": [
      "(4877, 2) (759, 2)\n"
     ]
    }
   ],
   "source": [
    "# Remove NAs\n",
    "train_test_cross_df2 = train_test_cross_df[~pd.isnull(train_test_cross_df['REMARKS'])]\n",
    "eval_df2 = eval_df[~pd.isnull(eval_df['REMARKS'])]\n",
    "train_test_cross_df2.set_index(\"ID\",inplace=True)\n",
    "eval_df2.set_index(\"ID\",inplace=True)\n",
    "print(train_test_cross_df2.shape, eval_df2.shape)"
   ]
  },
  {
   "cell_type": "code",
   "execution_count": 8,
   "metadata": {
    "scrolled": false
   },
   "outputs": [
    {
     "name": "stdout",
     "output_type": "stream",
     "text": [
      "0    2772\n",
      "1    2105\n",
      "Name: BAD, dtype: int64\n",
      "0    385\n",
      "1    374\n",
      "Name: BAD, dtype: int64\n"
     ]
    }
   ],
   "source": [
    "print(train_test_cross_df2[\"BAD\"].value_counts())\n",
    "print(eval_df2[\"BAD\"].value_counts())"
   ]
  },
  {
   "cell_type": "markdown",
   "metadata": {},
   "source": [
    "#### Split into train, test, cross_validation"
   ]
  },
  {
   "cell_type": "code",
   "execution_count": 9,
   "metadata": {},
   "outputs": [
    {
     "name": "stdout",
     "output_type": "stream",
     "text": [
      "(3901, 2) (976, 2)\n"
     ]
    }
   ],
   "source": [
    "train_test_X, cross_X, train_test_y, cross_y = train_test_split(train_test_cross_df2,train_test_cross_df2['BAD'], test_size = 0.2)\n",
    "print(train_test_X.shape, cross_X.shape)"
   ]
  },
  {
   "cell_type": "code",
   "execution_count": 10,
   "metadata": {},
   "outputs": [
    {
     "name": "stdout",
     "output_type": "stream",
     "text": [
      "(2925, 2) (976, 2) (976, 2)\n"
     ]
    }
   ],
   "source": [
    "train_X, test_X, train_y, test_y = train_test_split(train_test_X, train_test_y, test_size=0.25)\n",
    "print(train_X.shape, test_X.shape, cross_X.shape)"
   ]
  },
  {
   "cell_type": "code",
   "execution_count": 15,
   "metadata": {},
   "outputs": [],
   "source": [
    "class RemarksExtractor(TransformerMixin,BaseEstimator):\n",
    "    # Need to inherit from BaseEstimator class which has method get_params that allows for GridSearch Optimization\n",
    "\n",
    "    def __init__(self, factor, replace_num=False):\n",
    "        self.factor = factor\n",
    "        self.replace_num = replace_num\n",
    "    \n",
    "    def transform(self, X, y=None, **fit_params):\n",
    "        if self.replace_num:\n",
    "            processed = X[self.factor].apply(lambda x: re.sub(\"[0-9]+\",\"numberph\",x))\n",
    "        else:\n",
    "            processed = X[self.factor]\n",
    "        return processed\n",
    "        \n",
    "    def fit(self, X, y=None, **fit_params):\n",
    "        return self"
   ]
  },
  {
   "cell_type": "code",
   "execution_count": 16,
   "metadata": {},
   "outputs": [],
   "source": [
    "pipeline = Pipeline([\n",
    "    (\"preprocessing\", RemarksExtractor(\"REMARKS\", replace_num=True)),\n",
    "    (\"vectorizer\", TfidfVectorizer(token_pattern='(?u)\\\\b[a-zA-Z]+\\\\b', min_df=2, \n",
    "                                   ngram_range=(1,2), stop_words=['the','a','an'], use_idf=True)),\n",
    "    (\"feature_selector\", SelectKBest(score_func=chi2, k=1000)),\n",
    "    (\"model\",SVC(kernel=\"linear\"))\n",
    "#     (\"model\", MultinomialNB())\n",
    "])"
   ]
  },
  {
   "cell_type": "code",
   "execution_count": 26,
   "metadata": {
    "scrolled": true
   },
   "outputs": [
    {
     "name": "stdout",
     "output_type": "stream",
     "text": [
      "[[489  45]\n",
      " [ 91 351]]\n",
      "precision: 0.886363636364\n",
      "recall: 0.794117647059\n"
     ]
    }
   ],
   "source": [
    "pipeline.fit(train_X, train_y)\n",
    "pred_y = pipeline.predict(test_X)\n",
    "print_accuracy(test_y, pred_y)"
   ]
  },
  {
   "cell_type": "code",
   "execution_count": 27,
   "metadata": {},
   "outputs": [
    {
     "name": "stdout",
     "output_type": "stream",
     "text": [
      "[[536  51]\n",
      " [ 94 295]]\n",
      "precision: 0.852601156069\n",
      "recall: 0.758354755784\n"
     ]
    }
   ],
   "source": [
    "pred_y = pipeline.predict(cross_X)\n",
    "print_accuracy(cross_y, pred_y)"
   ]
  },
  {
   "cell_type": "code",
   "execution_count": 28,
   "metadata": {
    "collapsed": true
   },
   "outputs": [],
   "source": [
    "params = {\n",
    "    # Select preprocessing method\n",
    "    \"preprocessing__replace_num\": (False, True),\n",
    "    \"vectorizer__use_idf\": (False, True),\n",
    "    \"vectorizer__stop_words\": (None,['the','a','an']),\n",
    "    \"vectorizer__ngram_range\":((1,1),(2,2),(3,3),(4,4),(1,2),(1,3),(1,4)),\n",
    "    \n",
    "    # Select model\n",
    "    \"feature_selector__k\":(200, 500, 1000),\n",
    "    \"model__C\":(0.03, 0.1, 0.3, 1)\n",
    "}\n",
    "grid_search = GridSearchCV(pipeline, params, cv=3, scoring='f1', verbose=1)"
   ]
  },
  {
   "cell_type": "code",
   "execution_count": 29,
   "metadata": {},
   "outputs": [
    {
     "name": "stdout",
     "output_type": "stream",
     "text": [
      "Fitting 3 folds for each of 12 candidates, totalling 36 fits\n"
     ]
    },
    {
     "name": "stderr",
     "output_type": "stream",
     "text": [
      "[Parallel(n_jobs=1)]: Done  36 out of  36 | elapsed:  1.2min finished\n"
     ]
    },
    {
     "name": "stdout",
     "output_type": "stream",
     "text": [
      "Wall time: 1min 15s\n"
     ]
    },
    {
     "data": {
      "text/plain": [
       "GridSearchCV(cv=3, error_score='raise',\n",
       "       estimator=Pipeline(memory=None,\n",
       "     steps=[('preprocessing', RemarksExtractor(factor='REMARKS', replace_num=True)), ('vectorizer', TfidfVectorizer(analyzer='word', binary=False, decode_error='strict',\n",
       "        dtype=<class 'numpy.int64'>, encoding='utf-8', input='content',\n",
       "        lowercase=True, max_df=1.0, max_features=None, min_df=2...,\n",
       "  max_iter=-1, probability=False, random_state=None, shrinking=True,\n",
       "  tol=0.001, verbose=False))]),\n",
       "       fit_params=None, iid=True, n_jobs=1,\n",
       "       param_grid={'feature_selector__k': (200, 500, 1000), 'model__C': (0.03, 0.1, 0.3, 1)},\n",
       "       pre_dispatch='2*n_jobs', refit=True, return_train_score=True,\n",
       "       scoring='f1', verbose=1)"
      ]
     },
     "execution_count": 29,
     "metadata": {},
     "output_type": "execute_result"
    }
   ],
   "source": [
    "%%time\n",
    "grid_search.fit(train_test_X, train_test_y)"
   ]
  },
  {
   "cell_type": "code",
   "execution_count": 37,
   "metadata": {},
   "outputs": [
    {
     "name": "stdout",
     "output_type": "stream",
     "text": [
      "0.872442020948\n",
      "{'preprocessing__replace_num': True, 'vectorizer__ngram_range': (1, 2), 'vectorizer__stop_words': ['the', 'a', 'an'], 'vectorizer__use_idf': True}\n"
     ]
    }
   ],
   "source": [
    "# Optimize preprocessing parameters\n",
    "print(grid_search.best_score_)\n",
    "print(grid_search.best_params_)"
   ]
  },
  {
   "cell_type": "code",
   "execution_count": 47,
   "metadata": {},
   "outputs": [
    {
     "name": "stdout",
     "output_type": "stream",
     "text": [
      "0.824739623863\n",
      "{'feature_selector__k': 1000, 'model__C': 1}\n"
     ]
    }
   ],
   "source": [
    "# Optimize model selection parameters\n",
    "print(grid_search.best_score_)\n",
    "print(grid_search.best_params_)"
   ]
  },
  {
   "cell_type": "code",
   "execution_count": 18,
   "metadata": {
    "collapsed": true
   },
   "outputs": [],
   "source": [
    "class DenseTransformer(TransformerMixin):  # This is to tranform tfidf sparse matrix to dense matrix to apply normalization\n",
    "\n",
    "    def transform(self, X, y=None, **fit_params):\n",
    "        return X.todense()\n",
    "\n",
    "    def fit(self, X, y=None, **fit_params):\n",
    "        return self"
   ]
  },
  {
   "cell_type": "code",
   "execution_count": 30,
   "metadata": {},
   "outputs": [],
   "source": [
    "pipeline_opt_feat = Pipeline([\n",
    "    (\"preprocessing\", RemarksExtractor(\"REMARKS\", replace_num=True)),\n",
    "    (\"vectorizer\", TfidfVectorizer(token_pattern='(?u)\\\\b[a-zA-Z]+\\\\b', min_df=2, \n",
    "                                   ngram_range=(1,2), stop_words=['the','a','an'], use_idf=True)),\n",
    "    (\"densetranformer\",DenseTransformer()),\n",
    "    \n",
    "    (\"feature_selector\", SelectKBest(score_func=chi2, k=1000)),\n",
    "    (\"normalizer\", preprocessing.MinMaxScaler(feature_range=[0,1])),\n",
    "    (\"model\",LogisticRegression())\n",
    "])"
   ]
  },
  {
   "cell_type": "code",
   "execution_count": 31,
   "metadata": {},
   "outputs": [
    {
     "name": "stdout",
     "output_type": "stream",
     "text": [
      "[[507  51]\n",
      " [ 66 352]]\n",
      "precision: 0.873449131514\n",
      "recall: 0.842105263158\n"
     ]
    }
   ],
   "source": [
    "pipeline_opt_feat.fit(train_test_X, train_test_y)\n",
    "pred_y = pipeline_opt_feat.predict(cross_X)\n",
    "print_accuracy(cross_y, pred_y)"
   ]
  },
  {
   "cell_type": "code",
   "execution_count": 32,
   "metadata": {},
   "outputs": [
    {
     "data": {
      "text/plain": [
       "(1, 1000)"
      ]
     },
     "execution_count": 32,
     "metadata": {},
     "output_type": "execute_result"
    }
   ],
   "source": [
    "pipeline_opt_feat.named_steps['model'].coef_.shape"
   ]
  },
  {
   "cell_type": "code",
   "execution_count": 33,
   "metadata": {
    "collapsed": true
   },
   "outputs": [],
   "source": [
    "# Get selected features and count\n",
    "feat_selected_ind = pipeline_opt_feat.named_steps['feature_selector'].get_support()"
   ]
  },
  {
   "cell_type": "code",
   "execution_count": 34,
   "metadata": {},
   "outputs": [
    {
     "data": {
      "text/plain": [
       "1000"
      ]
     },
     "execution_count": 34,
     "metadata": {},
     "output_type": "execute_result"
    }
   ],
   "source": [
    "feat_all = pipeline_opt_feat.named_steps['vectorizer'].get_feature_names()\n",
    "feat_selected = [w for w in feat_all if feat_selected_ind[feat_all.index(w)]]\n",
    "len(feat_selected)"
   ]
  },
  {
   "cell_type": "code",
   "execution_count": 35,
   "metadata": {},
   "outputs": [
    {
     "data": {
      "text/html": [
       "<div>\n",
       "<style>\n",
       "    .dataframe thead tr:only-child th {\n",
       "        text-align: right;\n",
       "    }\n",
       "\n",
       "    .dataframe thead th {\n",
       "        text-align: left;\n",
       "    }\n",
       "\n",
       "    .dataframe tbody tr th {\n",
       "        vertical-align: top;\n",
       "    }\n",
       "</style>\n",
       "<table border=\"1\" class=\"dataframe\">\n",
       "  <thead>\n",
       "    <tr style=\"text-align: right;\">\n",
       "      <th></th>\n",
       "      <th>coef</th>\n",
       "    </tr>\n",
       "  </thead>\n",
       "  <tbody>\n",
       "    <tr>\n",
       "      <th>abandoned property</th>\n",
       "      <td>1.074235</td>\n",
       "    </tr>\n",
       "    <tr>\n",
       "      <th>about</th>\n",
       "      <td>-0.603666</td>\n",
       "    </tr>\n",
       "  </tbody>\n",
       "</table>\n",
       "</div>"
      ],
      "text/plain": [
       "                        coef\n",
       "abandoned property  1.074235\n",
       "about              -0.603666"
      ]
     },
     "execution_count": 35,
     "metadata": {},
     "output_type": "execute_result"
    }
   ],
   "source": [
    "coef_df = pd.DataFrame(pipeline_opt_feat.named_steps['model'].coef_.T,\n",
    "                       index = feat_selected, columns = ['coef'])\n",
    "coef_df[:2]"
   ]
  },
  {
   "cell_type": "code",
   "execution_count": 36,
   "metadata": {
    "collapsed": true
   },
   "outputs": [],
   "source": [
    "coef_df.to_excel(r\"..\\output\\Oct 25\\features_logit.xlsx\")"
   ]
  },
  {
   "cell_type": "code",
   "execution_count": 64,
   "metadata": {},
   "outputs": [
    {
     "data": {
      "image/png": "[encoded data removed]",
      "text/plain": [
       "<matplotlib.figure.Figure at 0x836b5c1a90>"
      ]
     },
     "metadata": {},
     "output_type": "display_data"
    }
   ],
   "source": [
    "plot_coefs(coef_df,30)"
   ]
  },
  {
   "cell_type": "markdown",
   "metadata": {},
   "source": [
    "#### Eval on evaluation set - see how much the model agrees with keyword serach labeling"
   ]
  },
  {
   "cell_type": "code",
   "execution_count": 65,
   "metadata": {},
   "outputs": [
    {
     "data": {
      "text/html": [
       "<div>\n",
       "<style>\n",
       "    .dataframe thead tr:only-child th {\n",
       "        text-align: right;\n",
       "    }\n",
       "\n",
       "    .dataframe thead th {\n",
       "        text-align: left;\n",
       "    }\n",
       "\n",
       "    .dataframe tbody tr th {\n",
       "        vertical-align: top;\n",
       "    }\n",
       "</style>\n",
       "<table border=\"1\" class=\"dataframe\">\n",
       "  <thead>\n",
       "    <tr style=\"text-align: right;\">\n",
       "      <th></th>\n",
       "      <th>REMARKS</th>\n",
       "      <th>BAD</th>\n",
       "    </tr>\n",
       "    <tr>\n",
       "      <th>ID</th>\n",
       "      <th></th>\n",
       "      <th></th>\n",
       "    </tr>\n",
       "  </thead>\n",
       "  <tbody>\n",
       "    <tr>\n",
       "      <th>3995608</th>\n",
       "      <td>\"\"\"NAME CHECK CLEAR\"\"\"</td>\n",
       "      <td>1</td>\n",
       "    </tr>\n",
       "    <tr>\n",
       "      <th>7415322</th>\n",
       "      <td>\"\"\"LISTED SUBJECT WAS OBSERVED LOITERING WITH ...</td>\n",
       "      <td>1</td>\n",
       "    </tr>\n",
       "    <tr>\n",
       "      <th>4696416</th>\n",
       "      <td>\"\"\"loitering at an area known for gang and nar...</td>\n",
       "      <td>1</td>\n",
       "    </tr>\n",
       "  </tbody>\n",
       "</table>\n",
       "</div>"
      ],
      "text/plain": [
       "                                                   REMARKS  BAD\n",
       "ID                                                             \n",
       "3995608                             \"\"\"NAME CHECK CLEAR\"\"\"    1\n",
       "7415322  \"\"\"LISTED SUBJECT WAS OBSERVED LOITERING WITH ...    1\n",
       "4696416  \"\"\"loitering at an area known for gang and nar...    1"
      ]
     },
     "execution_count": 65,
     "metadata": {},
     "output_type": "execute_result"
    }
   ],
   "source": [
    "eval_df2[:3]"
   ]
  },
  {
   "cell_type": "code",
   "execution_count": 33,
   "metadata": {
    "scrolled": true
   },
   "outputs": [
    {
     "name": "stdout",
     "output_type": "stream",
     "text": [
      "[[331  54]\n",
      " [ 96 278]]\n",
      "precision: 0.83734939759\n",
      "recall: 0.743315508021\n"
     ]
    }
   ],
   "source": [
    "y_pred_eval = pipeline_opt_feat.predict(eval_df2)\n",
    "y_pred_proba_eval = pipeline_opt_feat.predict_proba(eval_df2)\n",
    "print_accuracy(eval_df2['BAD'],y_pred_eval)"
   ]
  },
  {
   "cell_type": "code",
   "execution_count": 366,
   "metadata": {
    "scrolled": true
   },
   "outputs": [
    {
     "name": "stderr",
     "output_type": "stream",
     "text": [
      "C:\\ProgramData\\Anaconda3\\lib\\site-packages\\ipykernel_launcher.py:1: SettingWithCopyWarning: \n",
      "A value is trying to be set on a copy of a slice from a DataFrame.\n",
      "Try using .loc[row_indexer,col_indexer] = value instead\n",
      "\n",
      "See the caveats in the documentation: http://pandas.pydata.org/pandas-docs/stable/indexing.html#indexing-view-versus-copy\n",
      "  \"\"\"Entry point for launching an IPython kernel.\n",
      "C:\\ProgramData\\Anaconda3\\lib\\site-packages\\ipykernel_launcher.py:2: SettingWithCopyWarning: \n",
      "A value is trying to be set on a copy of a slice from a DataFrame.\n",
      "Try using .loc[row_indexer,col_indexer] = value instead\n",
      "\n",
      "See the caveats in the documentation: http://pandas.pydata.org/pandas-docs/stable/indexing.html#indexing-view-versus-copy\n",
      "  \n"
     ]
    },
    {
     "data": {
      "text/html": [
       "<div>\n",
       "<style>\n",
       "    .dataframe thead tr:only-child th {\n",
       "        text-align: right;\n",
       "    }\n",
       "\n",
       "    .dataframe thead th {\n",
       "        text-align: left;\n",
       "    }\n",
       "\n",
       "    .dataframe tbody tr th {\n",
       "        vertical-align: top;\n",
       "    }\n",
       "</style>\n",
       "<table border=\"1\" class=\"dataframe\">\n",
       "  <thead>\n",
       "    <tr style=\"text-align: right;\">\n",
       "      <th></th>\n",
       "      <th>REMARKS</th>\n",
       "      <th>BAD</th>\n",
       "      <th>y_pred</th>\n",
       "      <th>proba</th>\n",
       "    </tr>\n",
       "    <tr>\n",
       "      <th>ID</th>\n",
       "      <th></th>\n",
       "      <th></th>\n",
       "      <th></th>\n",
       "      <th></th>\n",
       "    </tr>\n",
       "  </thead>\n",
       "  <tbody>\n",
       "    <tr>\n",
       "      <th>3995608</th>\n",
       "      <td>\"\"\"NAME CHECK CLEAR\"\"\"</td>\n",
       "      <td>1</td>\n",
       "      <td>1</td>\n",
       "      <td>0.666293</td>\n",
       "    </tr>\n",
       "    <tr>\n",
       "      <th>7415322</th>\n",
       "      <td>\"\"\"LISTED SUBJECT WAS OBSERVED LOITERING WITH ...</td>\n",
       "      <td>1</td>\n",
       "      <td>1</td>\n",
       "      <td>0.976333</td>\n",
       "    </tr>\n",
       "    <tr>\n",
       "      <th>4696416</th>\n",
       "      <td>\"\"\"loitering at an area known for gang and nar...</td>\n",
       "      <td>1</td>\n",
       "      <td>1</td>\n",
       "      <td>0.991851</td>\n",
       "    </tr>\n",
       "  </tbody>\n",
       "</table>\n",
       "</div>"
      ],
      "text/plain": [
       "                                                   REMARKS  BAD  y_pred  \\\n",
       "ID                                                                        \n",
       "3995608                             \"\"\"NAME CHECK CLEAR\"\"\"    1       1   \n",
       "7415322  \"\"\"LISTED SUBJECT WAS OBSERVED LOITERING WITH ...    1       1   \n",
       "4696416  \"\"\"loitering at an area known for gang and nar...    1       1   \n",
       "\n",
       "            proba  \n",
       "ID                 \n",
       "3995608  0.666293  \n",
       "7415322  0.976333  \n",
       "4696416  0.991851  "
      ]
     },
     "execution_count": 366,
     "metadata": {},
     "output_type": "execute_result"
    }
   ],
   "source": [
    "eval_df2['y_pred'] = y_pred_eval\n",
    "eval_df2['proba'] = y_pred_proba_eval[:,1]\n",
    "eval_df2[:3]"
   ]
  },
  {
   "cell_type": "code",
   "execution_count": 67,
   "metadata": {
    "collapsed": true
   },
   "outputs": [],
   "source": [
    "eval_df2.to_excel(r\"../output/Oct 27/just_text_result.xlsx\")\n",
    "coef_df.to_excel(r\"../output/Oct 27/just_text_features.xlsx\")"
   ]
  },
  {
   "cell_type": "markdown",
   "metadata": {},
   "source": [
    "#### Next step: add in features of date & length"
   ]
  },
  {
   "cell_type": "code",
   "execution_count": null,
   "metadata": {
    "collapsed": true
   },
   "outputs": [],
   "source": []
  }
 ],
 "metadata": {
  "kernelspec": {
   "display_name": "Python 3",
   "language": "python",
   "name": "python3"
  },
  "language_info": {
   "codemirror_mode": {
    "name": "ipython",
    "version": 3
   },
   "file_extension": ".py",
   "mimetype": "text/x-python",
   "name": "python",
   "nbconvert_exporter": "python",
   "pygments_lexer": "ipython3",
   "version": "3.6.2"
  }
 },
 "nbformat": 4,
 "nbformat_minor": 2
}
