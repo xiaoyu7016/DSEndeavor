{
 "cells": [
  {
   "cell_type": "markdown",
   "metadata": {},
   "source": [
    "##### Get data\n",
    "1. Compile HME reviewed data\n",
    "2. Compile data for evaluation"
   ]
  },
  {
   "cell_type": "code",
   "execution_count": 2,
   "metadata": {
    "collapsed": true
   },
   "outputs": [],
   "source": [
    "import os\n",
    "import re\n",
    "import pandas as pd"
   ]
  },
  {
   "cell_type": "markdown",
   "metadata": {},
   "source": [
    "#### Data for eval"
   ]
  },
  {
   "cell_type": "code",
   "execution_count": 3,
   "metadata": {},
   "outputs": [
    {
     "name": "stdout",
     "output_type": "stream",
     "text": [
      "(770, 5)\n"
     ]
    },
    {
     "data": {
      "text/html": [
       "<div>\n",
       "<style>\n",
       "    .dataframe thead tr:only-child th {\n",
       "        text-align: right;\n",
       "    }\n",
       "\n",
       "    .dataframe thead th {\n",
       "        text-align: left;\n",
       "    }\n",
       "\n",
       "    .dataframe tbody tr th {\n",
       "        vertical-align: top;\n",
       "    }\n",
       "</style>\n",
       "<table border=\"1\" class=\"dataframe\">\n",
       "  <thead>\n",
       "    <tr style=\"text-align: right;\">\n",
       "      <th></th>\n",
       "      <th>ID</th>\n",
       "      <th>REMARKS</th>\n",
       "      <th>CONTACT_DATE</th>\n",
       "      <th>On or After 2014-04-03</th>\n",
       "      <th>CATEGORY</th>\n",
       "    </tr>\n",
       "  </thead>\n",
       "  <tbody>\n",
       "    <tr>\n",
       "      <th>0</th>\n",
       "      <td>3995608</td>\n",
       "      <td>\"\"\"NAME CHECK CLEAR\"\"\"</td>\n",
       "      <td>2010-06-05</td>\n",
       "      <td>False</td>\n",
       "      <td>Bad</td>\n",
       "    </tr>\n",
       "    <tr>\n",
       "      <th>1</th>\n",
       "      <td>7415322</td>\n",
       "      <td>\"\"\"LISTED SUBJECT WAS OBSERVED LOITERING WITH ...</td>\n",
       "      <td>2015-06-20</td>\n",
       "      <td>True</td>\n",
       "      <td>Bad</td>\n",
       "    </tr>\n",
       "    <tr>\n",
       "      <th>2</th>\n",
       "      <td>4696416</td>\n",
       "      <td>\"\"\"loitering at an area known for gang and nar...</td>\n",
       "      <td>2011-10-24</td>\n",
       "      <td>False</td>\n",
       "      <td>Bad</td>\n",
       "    </tr>\n",
       "  </tbody>\n",
       "</table>\n",
       "</div>"
      ],
      "text/plain": [
       "        ID                                            REMARKS CONTACT_DATE  \\\n",
       "0  3995608                             \"\"\"NAME CHECK CLEAR\"\"\"   2010-06-05   \n",
       "1  7415322  \"\"\"LISTED SUBJECT WAS OBSERVED LOITERING WITH ...   2015-06-20   \n",
       "2  4696416  \"\"\"loitering at an area known for gang and nar...   2011-10-24   \n",
       "\n",
       "   On or After 2014-04-03 CATEGORY  \n",
       "0                   False      Bad  \n",
       "1                    True      Bad  \n",
       "2                   False      Bad  "
      ]
     },
     "execution_count": 3,
     "metadata": {},
     "output_type": "execute_result"
    }
   ],
   "source": [
    "df_eval = pd.read_excel(r\"..\\data\\labeled\\eval\\Bad_Non Bad_all_in_one_updated.xlsx\")\n",
    "print(df_eval.shape)\n",
    "df_eval[:3]"
   ]
  },
  {
   "cell_type": "code",
   "execution_count": 4,
   "metadata": {},
   "outputs": [
    {
     "data": {
      "text/html": [
       "<div>\n",
       "<style>\n",
       "    .dataframe thead tr:only-child th {\n",
       "        text-align: right;\n",
       "    }\n",
       "\n",
       "    .dataframe thead th {\n",
       "        text-align: left;\n",
       "    }\n",
       "\n",
       "    .dataframe tbody tr th {\n",
       "        vertical-align: top;\n",
       "    }\n",
       "</style>\n",
       "<table border=\"1\" class=\"dataframe\">\n",
       "  <thead>\n",
       "    <tr style=\"text-align: right;\">\n",
       "      <th></th>\n",
       "      <th>ID</th>\n",
       "      <th>REMARKS</th>\n",
       "      <th>BAD</th>\n",
       "    </tr>\n",
       "  </thead>\n",
       "  <tbody>\n",
       "    <tr>\n",
       "      <th>0</th>\n",
       "      <td>3995608</td>\n",
       "      <td>\"\"\"NAME CHECK CLEAR\"\"\"</td>\n",
       "      <td>1</td>\n",
       "    </tr>\n",
       "    <tr>\n",
       "      <th>1</th>\n",
       "      <td>7415322</td>\n",
       "      <td>\"\"\"LISTED SUBJECT WAS OBSERVED LOITERING WITH ...</td>\n",
       "      <td>1</td>\n",
       "    </tr>\n",
       "    <tr>\n",
       "      <th>2</th>\n",
       "      <td>4696416</td>\n",
       "      <td>\"\"\"loitering at an area known for gang and nar...</td>\n",
       "      <td>1</td>\n",
       "    </tr>\n",
       "  </tbody>\n",
       "</table>\n",
       "</div>"
      ],
      "text/plain": [
       "        ID                                            REMARKS  BAD\n",
       "0  3995608                             \"\"\"NAME CHECK CLEAR\"\"\"    1\n",
       "1  7415322  \"\"\"LISTED SUBJECT WAS OBSERVED LOITERING WITH ...    1\n",
       "2  4696416  \"\"\"loitering at an area known for gang and nar...    1"
      ]
     },
     "execution_count": 4,
     "metadata": {},
     "output_type": "execute_result"
    }
   ],
   "source": [
    "df_eval['BAD'] = pd.get_dummies(df_eval['CATEGORY'])['Bad']\n",
    "# df_eval['Post403'] = df_eval['On or After 2014-04-03'].astype(int)\n",
    "df_eval2 = df_eval[['ID','REMARKS','BAD']]\n",
    "df_eval2[:3]"
   ]
  },
  {
   "cell_type": "markdown",
   "metadata": {},
   "source": [
    "#### HME reviews"
   ]
  },
  {
   "cell_type": "code",
   "execution_count": 5,
   "metadata": {},
   "outputs": [
    {
     "data": {
      "text/plain": [
       "['20170907 - Samples3 (HME Rev 09.14.17).xlsx',\n",
       " '20171017 - Summary and Samples (HME Rev).xlsx',\n",
       " 'Copy of Claro Sample Review.HME.xlsx']"
      ]
     },
     "execution_count": 5,
     "metadata": {},
     "output_type": "execute_result"
    }
   ],
   "source": [
    "os.listdir(r\"..\\data\\labeled\\train\")"
   ]
  },
  {
   "cell_type": "code",
   "execution_count": 6,
   "metadata": {},
   "outputs": [
    {
     "data": {
      "text/plain": [
       "['Summary of Samples',\n",
       " 'STOP_INNO',\n",
       " 'LITT',\n",
       " 'SCHO',\n",
       " 'CTA',\n",
       " 'WARR',\n",
       " 'CANN',\n",
       " 'MATC_DESC',\n",
       " 'GAMB',\n",
       " 'RESP_CALL',\n",
       " 'PUBL_SELL',\n",
       " 'PUBL_SLEE',\n",
       " 'SMOK_FIRE',\n",
       " 'PUBL_DRIN',\n",
       " 'DIST_WEAP',\n",
       " 'PANH']"
      ]
     },
     "execution_count": 6,
     "metadata": {},
     "output_type": "execute_result"
    }
   ],
   "source": [
    "# Muliple tabs\n",
    "xl1 = pd.ExcelFile(r\"..\\data\\labeled\\train\\20170907 - Samples3 (HME Rev 09.14.17).xlsx\")\n",
    "xl1.sheet_names"
   ]
  },
  {
   "cell_type": "code",
   "execution_count": 11,
   "metadata": {},
   "outputs": [
    {
     "name": "stdout",
     "output_type": "stream",
     "text": [
      "15\n"
     ]
    },
    {
     "data": {
      "text/html": [
       "<div>\n",
       "<style>\n",
       "    .dataframe thead tr:only-child th {\n",
       "        text-align: right;\n",
       "    }\n",
       "\n",
       "    .dataframe thead th {\n",
       "        text-align: left;\n",
       "    }\n",
       "\n",
       "    .dataframe tbody tr th {\n",
       "        vertical-align: top;\n",
       "    }\n",
       "</style>\n",
       "<table border=\"1\" class=\"dataframe\">\n",
       "  <thead>\n",
       "    <tr style=\"text-align: right;\">\n",
       "      <th></th>\n",
       "      <th>ID</th>\n",
       "      <th>Remarks</th>\n",
       "      <th>HME Call</th>\n",
       "    </tr>\n",
       "  </thead>\n",
       "  <tbody>\n",
       "    <tr>\n",
       "      <th>0</th>\n",
       "      <td>3736142</td>\n",
       "      <td>\"R/O's observed above subject with two other s...</td>\n",
       "      <td>Y</td>\n",
       "    </tr>\n",
       "    <tr>\n",
       "      <th>1</th>\n",
       "      <td>3761761</td>\n",
       "      <td>\"LOITERING IN CITGO GAS STATION, FIELD INTERVI...</td>\n",
       "      <td>N</td>\n",
       "    </tr>\n",
       "    <tr>\n",
       "      <th>2</th>\n",
       "      <td>3746471</td>\n",
       "      <td>\"SUBJECT, A KNOWN LA RAZA GANG MEMBER, WAS LOI...</td>\n",
       "      <td>Y</td>\n",
       "    </tr>\n",
       "  </tbody>\n",
       "</table>\n",
       "</div>"
      ],
      "text/plain": [
       "        ID                                            Remarks HME Call\n",
       "0  3736142  \"R/O's observed above subject with two other s...        Y\n",
       "1  3761761  \"LOITERING IN CITGO GAS STATION, FIELD INTERVI...        N\n",
       "2  3746471  \"SUBJECT, A KNOWN LA RAZA GANG MEMBER, WAS LOI...        Y"
      ]
     },
     "execution_count": 11,
     "metadata": {},
     "output_type": "execute_result"
    }
   ],
   "source": [
    "xl1_data = []\n",
    "for sheet in xl1.sheet_names[1:]:\n",
    "    sheet_data = xl1.parse(sheet)\n",
    "    xl1_data.append(sheet_data[['ID', 'Remarks', 'HME Call']])\n",
    "    \n",
    "print(len(xl1_data))\n",
    "xl1_data[0][:3]"
   ]
  },
  {
   "cell_type": "code",
   "execution_count": 12,
   "metadata": {},
   "outputs": [
    {
     "name": "stdout",
     "output_type": "stream",
     "text": [
      "(2635, 3)\n"
     ]
    },
    {
     "data": {
      "text/html": [
       "<div>\n",
       "<style>\n",
       "    .dataframe thead tr:only-child th {\n",
       "        text-align: right;\n",
       "    }\n",
       "\n",
       "    .dataframe thead th {\n",
       "        text-align: left;\n",
       "    }\n",
       "\n",
       "    .dataframe tbody tr th {\n",
       "        vertical-align: top;\n",
       "    }\n",
       "</style>\n",
       "<table border=\"1\" class=\"dataframe\">\n",
       "  <thead>\n",
       "    <tr style=\"text-align: right;\">\n",
       "      <th></th>\n",
       "      <th>ID</th>\n",
       "      <th>Remarks</th>\n",
       "      <th>HME Call</th>\n",
       "    </tr>\n",
       "  </thead>\n",
       "  <tbody>\n",
       "    <tr>\n",
       "      <th>0</th>\n",
       "      <td>3736142</td>\n",
       "      <td>\"R/O's observed above subject with two other s...</td>\n",
       "      <td>Y</td>\n",
       "    </tr>\n",
       "    <tr>\n",
       "      <th>1</th>\n",
       "      <td>3761761</td>\n",
       "      <td>\"LOITERING IN CITGO GAS STATION, FIELD INTERVI...</td>\n",
       "      <td>N</td>\n",
       "    </tr>\n",
       "    <tr>\n",
       "      <th>2</th>\n",
       "      <td>3746471</td>\n",
       "      <td>\"SUBJECT, A KNOWN LA RAZA GANG MEMBER, WAS LOI...</td>\n",
       "      <td>Y</td>\n",
       "    </tr>\n",
       "  </tbody>\n",
       "</table>\n",
       "</div>"
      ],
      "text/plain": [
       "        ID                                            Remarks HME Call\n",
       "0  3736142  \"R/O's observed above subject with two other s...        Y\n",
       "1  3761761  \"LOITERING IN CITGO GAS STATION, FIELD INTERVI...        N\n",
       "2  3746471  \"SUBJECT, A KNOWN LA RAZA GANG MEMBER, WAS LOI...        Y"
      ]
     },
     "execution_count": 12,
     "metadata": {},
     "output_type": "execute_result"
    }
   ],
   "source": [
    "df1 = pd.concat(xl1_data,axis=0)\n",
    "print(df1.shape)\n",
    "df1[:3]"
   ]
  },
  {
   "cell_type": "code",
   "execution_count": 13,
   "metadata": {},
   "outputs": [
    {
     "data": {
      "text/plain": [
       "n       1712\n",
       "y        627\n",
       "Y        219\n",
       "N         70\n",
       "n/y        2\n",
       "Grey       1\n",
       "t          1\n",
       "N          1\n",
       "Q          1\n",
       "n          1\n",
       "Name: HME Call, dtype: int64"
      ]
     },
     "execution_count": 13,
     "metadata": {},
     "output_type": "execute_result"
    }
   ],
   "source": [
    "df1['HME Call'].value_counts()"
   ]
  },
  {
   "cell_type": "code",
   "execution_count": 14,
   "metadata": {},
   "outputs": [
    {
     "data": {
      "text/html": [
       "<div>\n",
       "<style>\n",
       "    .dataframe thead tr:only-child th {\n",
       "        text-align: right;\n",
       "    }\n",
       "\n",
       "    .dataframe thead th {\n",
       "        text-align: left;\n",
       "    }\n",
       "\n",
       "    .dataframe tbody tr th {\n",
       "        vertical-align: top;\n",
       "    }\n",
       "</style>\n",
       "<table border=\"1\" class=\"dataframe\">\n",
       "  <thead>\n",
       "    <tr style=\"text-align: right;\">\n",
       "      <th></th>\n",
       "      <th>ID</th>\n",
       "      <th>Remarks</th>\n",
       "      <th>HME Call</th>\n",
       "      <th>BAD</th>\n",
       "    </tr>\n",
       "  </thead>\n",
       "  <tbody>\n",
       "    <tr>\n",
       "      <th>0</th>\n",
       "      <td>3736142</td>\n",
       "      <td>\"R/O's observed above subject with two other s...</td>\n",
       "      <td>Y</td>\n",
       "      <td>1</td>\n",
       "    </tr>\n",
       "    <tr>\n",
       "      <th>1</th>\n",
       "      <td>3761761</td>\n",
       "      <td>\"LOITERING IN CITGO GAS STATION, FIELD INTERVI...</td>\n",
       "      <td>N</td>\n",
       "      <td>0</td>\n",
       "    </tr>\n",
       "    <tr>\n",
       "      <th>2</th>\n",
       "      <td>3746471</td>\n",
       "      <td>\"SUBJECT, A KNOWN LA RAZA GANG MEMBER, WAS LOI...</td>\n",
       "      <td>Y</td>\n",
       "      <td>1</td>\n",
       "    </tr>\n",
       "  </tbody>\n",
       "</table>\n",
       "</div>"
      ],
      "text/plain": [
       "        ID                                            Remarks HME Call  BAD\n",
       "0  3736142  \"R/O's observed above subject with two other s...        Y    1\n",
       "1  3761761  \"LOITERING IN CITGO GAS STATION, FIELD INTERVI...        N    0\n",
       "2  3746471  \"SUBJECT, A KNOWN LA RAZA GANG MEMBER, WAS LOI...        Y    1"
      ]
     },
     "execution_count": 14,
     "metadata": {},
     "output_type": "execute_result"
    }
   ],
   "source": [
    "df1['BAD'] = df1['HME Call'].map(lambda x:str(x).lower()=='y').astype(int)\n",
    "df1[:3]"
   ]
  },
  {
   "cell_type": "code",
   "execution_count": 15,
   "metadata": {},
   "outputs": [
    {
     "data": {
      "text/plain": [
       "['Summary of Bad Stop Categories',\n",
       " 'Samples - Bad Stop',\n",
       " 'Samples - Not Bad Stop']"
      ]
     },
     "execution_count": 15,
     "metadata": {},
     "output_type": "execute_result"
    }
   ],
   "source": [
    "xl2 = pd.ExcelFile(r\"..\\data\\labeled\\train\\20171017 - Summary and Samples (HME Rev).xlsx\")\n",
    "xl2.sheet_names"
   ]
  },
  {
   "cell_type": "code",
   "execution_count": 16,
   "metadata": {},
   "outputs": [
    {
     "name": "stdout",
     "output_type": "stream",
     "text": [
      "2\n"
     ]
    },
    {
     "data": {
      "text/html": [
       "<div>\n",
       "<style>\n",
       "    .dataframe thead tr:only-child th {\n",
       "        text-align: right;\n",
       "    }\n",
       "\n",
       "    .dataframe thead th {\n",
       "        text-align: left;\n",
       "    }\n",
       "\n",
       "    .dataframe tbody tr th {\n",
       "        vertical-align: top;\n",
       "    }\n",
       "</style>\n",
       "<table border=\"1\" class=\"dataframe\">\n",
       "  <thead>\n",
       "    <tr style=\"text-align: right;\">\n",
       "      <th></th>\n",
       "      <th>ID</th>\n",
       "      <th>REMARKS</th>\n",
       "      <th>HME CALL</th>\n",
       "    </tr>\n",
       "  </thead>\n",
       "  <tbody>\n",
       "    <tr>\n",
       "      <th>0</th>\n",
       "      <td>6314518</td>\n",
       "      <td>Assisted in stop of suspisious persons, subjec...</td>\n",
       "      <td>Citizen contact</td>\n",
       "    </tr>\n",
       "    <tr>\n",
       "      <th>1</th>\n",
       "      <td>4913097</td>\n",
       "      <td>above subject seen causing a dsturbance on str...</td>\n",
       "      <td>Good stop—causing disturbance</td>\n",
       "    </tr>\n",
       "    <tr>\n",
       "      <th>2</th>\n",
       "      <td>3773334</td>\n",
       "      <td>ON SCENE ON STREET DIS</td>\n",
       "      <td>Depends on date, but could be a citizen contact</td>\n",
       "    </tr>\n",
       "  </tbody>\n",
       "</table>\n",
       "</div>"
      ],
      "text/plain": [
       "        ID                                            REMARKS  \\\n",
       "0  6314518  Assisted in stop of suspisious persons, subjec...   \n",
       "1  4913097  above subject seen causing a dsturbance on str...   \n",
       "2  3773334                             ON SCENE ON STREET DIS   \n",
       "\n",
       "                                          HME CALL  \n",
       "0                                  Citizen contact  \n",
       "1                    Good stop—causing disturbance  \n",
       "2  Depends on date, but could be a citizen contact  "
      ]
     },
     "execution_count": 16,
     "metadata": {},
     "output_type": "execute_result"
    }
   ],
   "source": [
    "xl2_data = []\n",
    "for sheet in xl2.sheet_names[1:]:\n",
    "    sheet_data = xl2.parse(sheet)\n",
    "#     print(sheet_data.columns)\n",
    "    xl2_data.append(sheet_data[['ID', 'REMARKS', 'HME CALL']])\n",
    "\n",
    "print(len(xl2_data))\n",
    "xl2_data[0][:3]    "
   ]
  },
  {
   "cell_type": "code",
   "execution_count": 17,
   "metadata": {},
   "outputs": [
    {
     "name": "stdout",
     "output_type": "stream",
     "text": [
      "(770, 3)\n"
     ]
    },
    {
     "data": {
      "text/plain": [
       "n                                                             363\n",
       "y                                                             310\n",
       "Good stop                                                      28\n",
       "Not a stop                                                      5\n",
       "Victim—not a stop                                               2\n",
       "Doesn't seem like a stop                                        2\n",
       "Citizen contact                                                 2\n",
       "Good stop. Sounds like trespassing.                             2\n",
       "Citizen contact / vehicle passenger                             2\n",
       "Grey area, so let's exclude it                                  2\n",
       "Good stop—Matched description + robbery should be excluded      1\n",
       "Not a stop. Wellness check.                                     1\n",
       "Good stop—causing disturbance                                   1\n",
       "Good stop—Probably a curfew stop                                1\n",
       "Let's exclude it. Hard to tell if it's even a stop.             1\n",
       "Depends on date—before or after 04/03/14                        1\n",
       "Wellness check                                                  1\n",
       "Good stop—urinating in alley                                    1\n",
       "Good stop—Consentual                                            1\n",
       "Citizen contact/good stop                                       1\n",
       "Citizen contact? What year?                                     1\n",
       "CTA property. Good stop.                                        1\n",
       "Depends on date, but could be a citizen contact                 1\n",
       "Close call. Let's cut it loose.                                 1\n",
       "Crime in progress                                               1\n",
       "Good stop—obstructing traffic                                   1\n",
       "Crime investigation                                             1\n",
       "Name: HME CALL, dtype: int64"
      ]
     },
     "execution_count": 17,
     "metadata": {},
     "output_type": "execute_result"
    }
   ],
   "source": [
    "df2 = pd.concat(xl2_data,axis=0)\n",
    "print(df2.shape)\n",
    "df2['HME CALL'].value_counts()"
   ]
  },
  {
   "cell_type": "code",
   "execution_count": 18,
   "metadata": {},
   "outputs": [
    {
     "data": {
      "text/html": [
       "<div>\n",
       "<style>\n",
       "    .dataframe thead tr:only-child th {\n",
       "        text-align: right;\n",
       "    }\n",
       "\n",
       "    .dataframe thead th {\n",
       "        text-align: left;\n",
       "    }\n",
       "\n",
       "    .dataframe tbody tr th {\n",
       "        vertical-align: top;\n",
       "    }\n",
       "</style>\n",
       "<table border=\"1\" class=\"dataframe\">\n",
       "  <thead>\n",
       "    <tr style=\"text-align: right;\">\n",
       "      <th></th>\n",
       "      <th>ID</th>\n",
       "      <th>REMARKS</th>\n",
       "      <th>HME CALL</th>\n",
       "      <th>BAD</th>\n",
       "    </tr>\n",
       "  </thead>\n",
       "  <tbody>\n",
       "    <tr>\n",
       "      <th>0</th>\n",
       "      <td>6314518</td>\n",
       "      <td>Assisted in stop of suspisious persons, subjec...</td>\n",
       "      <td>Citizen contact</td>\n",
       "      <td>0</td>\n",
       "    </tr>\n",
       "    <tr>\n",
       "      <th>1</th>\n",
       "      <td>4913097</td>\n",
       "      <td>above subject seen causing a dsturbance on str...</td>\n",
       "      <td>Good stop—causing disturbance</td>\n",
       "      <td>0</td>\n",
       "    </tr>\n",
       "    <tr>\n",
       "      <th>2</th>\n",
       "      <td>3773334</td>\n",
       "      <td>ON SCENE ON STREET DIS</td>\n",
       "      <td>Depends on date, but could be a citizen contact</td>\n",
       "      <td>0</td>\n",
       "    </tr>\n",
       "  </tbody>\n",
       "</table>\n",
       "</div>"
      ],
      "text/plain": [
       "        ID                                            REMARKS  \\\n",
       "0  6314518  Assisted in stop of suspisious persons, subjec...   \n",
       "1  4913097  above subject seen causing a dsturbance on str...   \n",
       "2  3773334                             ON SCENE ON STREET DIS   \n",
       "\n",
       "                                          HME CALL  BAD  \n",
       "0                                  Citizen contact    0  \n",
       "1                    Good stop—causing disturbance    0  \n",
       "2  Depends on date, but could be a citizen contact    0  "
      ]
     },
     "execution_count": 18,
     "metadata": {},
     "output_type": "execute_result"
    }
   ],
   "source": [
    "df2['BAD'] = df2['HME CALL'].map(lambda x: str(x).lower()==\"y\").astype(int)\n",
    "df2[:3]"
   ]
  },
  {
   "cell_type": "code",
   "execution_count": 19,
   "metadata": {},
   "outputs": [
    {
     "data": {
      "text/plain": [
       "['WORKSHEET', 'SUMMARY']"
      ]
     },
     "execution_count": 19,
     "metadata": {},
     "output_type": "execute_result"
    }
   ],
   "source": [
    "xl3 = pd.ExcelFile(r\"..\\data\\labeled\\train\\Copy of Claro Sample Review.HME.xlsx\")\n",
    "xl3.sheet_names"
   ]
  },
  {
   "cell_type": "code",
   "execution_count": 20,
   "metadata": {},
   "outputs": [
    {
     "name": "stdout",
     "output_type": "stream",
     "text": [
      "(1535, 5)\n"
     ]
    },
    {
     "data": {
      "text/html": [
       "<div>\n",
       "<style>\n",
       "    .dataframe thead tr:only-child th {\n",
       "        text-align: right;\n",
       "    }\n",
       "\n",
       "    .dataframe thead th {\n",
       "        text-align: left;\n",
       "    }\n",
       "\n",
       "    .dataframe tbody tr th {\n",
       "        vertical-align: top;\n",
       "    }\n",
       "</style>\n",
       "<table border=\"1\" class=\"dataframe\">\n",
       "  <thead>\n",
       "    <tr style=\"text-align: right;\">\n",
       "      <th></th>\n",
       "      <th>SOURCE</th>\n",
       "      <th>CLARO_CALL</th>\n",
       "      <th>HME_CALL</th>\n",
       "      <th>ID</th>\n",
       "      <th>REMARKS</th>\n",
       "    </tr>\n",
       "  </thead>\n",
       "  <tbody>\n",
       "    <tr>\n",
       "      <th>0</th>\n",
       "      <td>Sample 1</td>\n",
       "      <td>y</td>\n",
       "      <td>y</td>\n",
       "      <td>5048152</td>\n",
       "      <td>NaN</td>\n",
       "    </tr>\n",
       "    <tr>\n",
       "      <th>1</th>\n",
       "      <td>Sample 1</td>\n",
       "      <td>y</td>\n",
       "      <td>Q - disturbance / involved</td>\n",
       "      <td>4342287</td>\n",
       "      <td>\"PARTY TO A DISTURBANCE\"</td>\n",
       "    </tr>\n",
       "    <tr>\n",
       "      <th>2</th>\n",
       "      <td>Sample 1</td>\n",
       "      <td>y</td>\n",
       "      <td>y</td>\n",
       "      <td>5841665</td>\n",
       "      <td>\"subject loitering on property, name check clear\"</td>\n",
       "    </tr>\n",
       "  </tbody>\n",
       "</table>\n",
       "</div>"
      ],
      "text/plain": [
       "     SOURCE CLARO_CALL                    HME_CALL       ID  \\\n",
       "0  Sample 1          y                           y  5048152   \n",
       "1  Sample 1          y  Q - disturbance / involved  4342287   \n",
       "2  Sample 1          y                           y  5841665   \n",
       "\n",
       "                                             REMARKS  \n",
       "0                                                NaN  \n",
       "1                           \"PARTY TO A DISTURBANCE\"  \n",
       "2  \"subject loitering on property, name check clear\"  "
      ]
     },
     "execution_count": 20,
     "metadata": {},
     "output_type": "execute_result"
    }
   ],
   "source": [
    "df3 = xl3.parse(xl3.sheet_names[0])\n",
    "print(df3.shape)\n",
    "df3[:3]"
   ]
  },
  {
   "cell_type": "code",
   "execution_count": 21,
   "metadata": {},
   "outputs": [
    {
     "data": {
      "text/plain": [
       "Y                                            662\n",
       "y                                            271\n",
       "N                                            118\n",
       "n                                             64\n",
       "Traffic                                       46\n",
       "Q - disturbance / involved                    42\n",
       "Q - private ppty                              36\n",
       "Y - if post 4/14                              36\n",
       "Y - dispersal                                 31\n",
       "traffic                                       25\n",
       "N - CTA                                       21\n",
       "Q - disturbance / unclear                     18\n",
       "Q - match descr                               16\n",
       "Y - disturbance / present (if after 4/14)     13\n",
       "N - victim                                    12\n",
       "Q - curfew                                    12\n",
       "N - domestic                                  11\n",
       "Q - panhandling                               10\n",
       "q - match descr                               10\n",
       "Q - casing                                     8\n",
       "N - prostitution                               7\n",
       "N - Victim                                     6\n",
       "N - Witness                                    5\n",
       "N - assist                                     4\n",
       "N - School                                     4\n",
       "N - witness                                    4\n",
       "n - domestic                                   3\n",
       "N - ANOV                                       3\n",
       "Q                                              2\n",
       "N - school                                     2\n",
       "Y                                              2\n",
       "Q - safe passage                               2\n",
       "N                                              2\n",
       "Y - transaction                                2\n",
       "y - casing                                     2\n",
       "Y - Casing                                     2\n",
       "(depends on that narrative)                    2\n",
       "N - drinking public way                        1\n",
       "Q - homeless                                   1\n",
       "(y, if post 4/14)                              1\n",
       "N - unless post 4/14                           1\n",
       "Q - truancy                                    1\n",
       "Q - school                                     1\n",
       "Tra                                            1\n",
       "Q - Transaction                                1\n",
       "q - disturbance / involved                     1\n",
       "N (drinking)                                   1\n",
       "Traffic???                                     1\n",
       "N - gambling                                   1\n",
       "N - private ppty                               1\n",
       "Q - Casing                                     1\n",
       "Q - transaction                                1\n",
       "Q - DOPW                                       1\n",
       "Q - loud music                                 1\n",
       "Name: HME_CALL, dtype: int64"
      ]
     },
     "execution_count": 21,
     "metadata": {},
     "output_type": "execute_result"
    }
   ],
   "source": [
    "df3['HME_CALL'].value_counts()"
   ]
  },
  {
   "cell_type": "code",
   "execution_count": 22,
   "metadata": {},
   "outputs": [
    {
     "data": {
      "text/plain": [
       "y                                            935\n",
       "n                                            184\n",
       "traffic                                       71\n",
       "q - disturbance / involved                    43\n",
       "y - if post 4/14                              36\n",
       "q - private ppty                              36\n",
       "y - dispersal                                 31\n",
       "q - match descr                               26\n",
       "n - cta                                       21\n",
       "q - disturbance / unclear                     18\n",
       "n - victim                                    18\n",
       "n - domestic                                  14\n",
       "y - disturbance / present (if after 4/14)     13\n",
       "q - curfew                                    12\n",
       "q - panhandling                               10\n",
       "n - witness                                    9\n",
       "q - casing                                     9\n",
       "n - prostitution                               7\n",
       "n - school                                     6\n",
       "y - casing                                     4\n",
       "n - assist                                     4\n",
       "n - anov                                       3\n",
       "q - safe passage                               2\n",
       "nan                                            2\n",
       "(depends on that narrative)                    2\n",
       "q - transaction                                2\n",
       "q                                              2\n",
       "y - transaction                                2\n",
       "n - unless post 4/14                           1\n",
       "n - private ppty                               1\n",
       "q - loud music                                 1\n",
       "q - homeless                                   1\n",
       "n (drinking)                                   1\n",
       "n - gambling                                   1\n",
       "q - dopw                                       1\n",
       "q - truancy                                    1\n",
       "n - drinking public way                        1\n",
       "q - school                                     1\n",
       "(y, if post 4/14)                              1\n",
       "traffic???                                     1\n",
       "tra                                            1\n",
       "Name: HME_CALL_N, dtype: int64"
      ]
     },
     "execution_count": 22,
     "metadata": {},
     "output_type": "execute_result"
    }
   ],
   "source": [
    "df3['HME_CALL_N'] = df3['HME_CALL'].map(lambda x:str(x).lower().strip())\n",
    "df3['HME_CALL_N'].value_counts()"
   ]
  },
  {
   "cell_type": "code",
   "execution_count": 23,
   "metadata": {},
   "outputs": [
    {
     "name": "stdout",
     "output_type": "stream",
     "text": [
      "0 1\n"
     ]
    }
   ],
   "source": [
    "def is_bad(hme_review):\n",
    "    string = str(hme_review)\n",
    "    if (re.search(\"y\",string) is not None) & (re.search(\"4/14\", string) is None):\n",
    "        return 1\n",
    "    else:\n",
    "        return 0\n",
    "print(is_bad(\"y - disturbance / present (if after 4/14)\"), is_bad(\"y\"))"
   ]
  },
  {
   "cell_type": "code",
   "execution_count": 24,
   "metadata": {},
   "outputs": [
    {
     "data": {
      "text/html": [
       "<div>\n",
       "<style>\n",
       "    .dataframe thead tr:only-child th {\n",
       "        text-align: right;\n",
       "    }\n",
       "\n",
       "    .dataframe thead th {\n",
       "        text-align: left;\n",
       "    }\n",
       "\n",
       "    .dataframe tbody tr th {\n",
       "        vertical-align: top;\n",
       "    }\n",
       "</style>\n",
       "<table border=\"1\" class=\"dataframe\">\n",
       "  <thead>\n",
       "    <tr style=\"text-align: right;\">\n",
       "      <th></th>\n",
       "      <th>SOURCE</th>\n",
       "      <th>CLARO_CALL</th>\n",
       "      <th>HME_CALL</th>\n",
       "      <th>ID</th>\n",
       "      <th>REMARKS</th>\n",
       "      <th>HME_CALL_N</th>\n",
       "      <th>BAD</th>\n",
       "    </tr>\n",
       "  </thead>\n",
       "  <tbody>\n",
       "    <tr>\n",
       "      <th>0</th>\n",
       "      <td>Sample 1</td>\n",
       "      <td>y</td>\n",
       "      <td>y</td>\n",
       "      <td>5048152</td>\n",
       "      <td>NaN</td>\n",
       "      <td>y</td>\n",
       "      <td>1</td>\n",
       "    </tr>\n",
       "    <tr>\n",
       "      <th>1</th>\n",
       "      <td>Sample 1</td>\n",
       "      <td>y</td>\n",
       "      <td>Q - disturbance / involved</td>\n",
       "      <td>4342287</td>\n",
       "      <td>\"PARTY TO A DISTURBANCE\"</td>\n",
       "      <td>q - disturbance / involved</td>\n",
       "      <td>0</td>\n",
       "    </tr>\n",
       "    <tr>\n",
       "      <th>2</th>\n",
       "      <td>Sample 1</td>\n",
       "      <td>y</td>\n",
       "      <td>y</td>\n",
       "      <td>5841665</td>\n",
       "      <td>\"subject loitering on property, name check clear\"</td>\n",
       "      <td>y</td>\n",
       "      <td>1</td>\n",
       "    </tr>\n",
       "  </tbody>\n",
       "</table>\n",
       "</div>"
      ],
      "text/plain": [
       "     SOURCE CLARO_CALL                    HME_CALL       ID  \\\n",
       "0  Sample 1          y                           y  5048152   \n",
       "1  Sample 1          y  Q - disturbance / involved  4342287   \n",
       "2  Sample 1          y                           y  5841665   \n",
       "\n",
       "                                             REMARKS  \\\n",
       "0                                                NaN   \n",
       "1                           \"PARTY TO A DISTURBANCE\"   \n",
       "2  \"subject loitering on property, name check clear\"   \n",
       "\n",
       "                   HME_CALL_N  BAD  \n",
       "0                           y    1  \n",
       "1  q - disturbance / involved    0  \n",
       "2                           y    1  "
      ]
     },
     "execution_count": 24,
     "metadata": {},
     "output_type": "execute_result"
    }
   ],
   "source": [
    "df3['BAD'] =df3[\"HME_CALL_N\"].map(is_bad)\n",
    "df3[:3]"
   ]
  },
  {
   "cell_type": "code",
   "execution_count": 25,
   "metadata": {
    "collapsed": true
   },
   "outputs": [],
   "source": [
    "df1.columns = ['ID','REMARKS','HME CALL','BAD']"
   ]
  },
  {
   "cell_type": "code",
   "execution_count": 26,
   "metadata": {},
   "outputs": [
    {
     "name": "stdout",
     "output_type": "stream",
     "text": [
      "(4940, 3)\n"
     ]
    },
    {
     "data": {
      "text/html": [
       "<div>\n",
       "<style>\n",
       "    .dataframe thead tr:only-child th {\n",
       "        text-align: right;\n",
       "    }\n",
       "\n",
       "    .dataframe thead th {\n",
       "        text-align: left;\n",
       "    }\n",
       "\n",
       "    .dataframe tbody tr th {\n",
       "        vertical-align: top;\n",
       "    }\n",
       "</style>\n",
       "<table border=\"1\" class=\"dataframe\">\n",
       "  <thead>\n",
       "    <tr style=\"text-align: right;\">\n",
       "      <th></th>\n",
       "      <th>ID</th>\n",
       "      <th>REMARKS</th>\n",
       "      <th>BAD</th>\n",
       "    </tr>\n",
       "  </thead>\n",
       "  <tbody>\n",
       "    <tr>\n",
       "      <th>0</th>\n",
       "      <td>3736142</td>\n",
       "      <td>\"R/O's observed above subject with two other s...</td>\n",
       "      <td>1</td>\n",
       "    </tr>\n",
       "    <tr>\n",
       "      <th>1</th>\n",
       "      <td>3761761</td>\n",
       "      <td>\"LOITERING IN CITGO GAS STATION, FIELD INTERVI...</td>\n",
       "      <td>0</td>\n",
       "    </tr>\n",
       "    <tr>\n",
       "      <th>2</th>\n",
       "      <td>3746471</td>\n",
       "      <td>\"SUBJECT, A KNOWN LA RAZA GANG MEMBER, WAS LOI...</td>\n",
       "      <td>1</td>\n",
       "    </tr>\n",
       "  </tbody>\n",
       "</table>\n",
       "</div>"
      ],
      "text/plain": [
       "        ID                                            REMARKS  BAD\n",
       "0  3736142  \"R/O's observed above subject with two other s...    1\n",
       "1  3761761  \"LOITERING IN CITGO GAS STATION, FIELD INTERVI...    0\n",
       "2  3746471  \"SUBJECT, A KNOWN LA RAZA GANG MEMBER, WAS LOI...    1"
      ]
     },
     "execution_count": 26,
     "metadata": {},
     "output_type": "execute_result"
    }
   ],
   "source": [
    "train_df = pd.concat([df1[['ID','REMARKS','BAD']],\n",
    "                      df2[['ID','REMARKS','BAD']],\n",
    "                      df3[['ID','REMARKS','BAD']]], axis = 0)\n",
    "print(train_df.shape)\n",
    "train_df[:3]"
   ]
  },
  {
   "cell_type": "markdown",
   "metadata": {},
   "source": [
    "#### Add in more data"
   ]
  },
  {
   "cell_type": "code",
   "execution_count": 28,
   "metadata": {},
   "outputs": [
    {
     "name": "stderr",
     "output_type": "stream",
     "text": [
      "C:\\ProgramData\\Anaconda3\\lib\\site-packages\\IPython\\core\\interactiveshell.py:2698: DtypeWarning: Columns (10) have mixed types. Specify dtype option on import or set low_memory=False.\n",
      "  interactivity=interactivity, compiler=compiler, result=result)\n"
     ]
    },
    {
     "name": "stdout",
     "output_type": "stream",
     "text": [
      "(3256785, 7)\n"
     ]
    },
    {
     "data": {
      "text/html": [
       "<div>\n",
       "<style>\n",
       "    .dataframe thead tr:only-child th {\n",
       "        text-align: right;\n",
       "    }\n",
       "\n",
       "    .dataframe thead th {\n",
       "        text-align: left;\n",
       "    }\n",
       "\n",
       "    .dataframe tbody tr th {\n",
       "        vertical-align: top;\n",
       "    }\n",
       "</style>\n",
       "<table border=\"1\" class=\"dataframe\">\n",
       "  <thead>\n",
       "    <tr style=\"text-align: right;\">\n",
       "      <th></th>\n",
       "      <th>ID</th>\n",
       "      <th>CONTACT_TYPE_CD</th>\n",
       "      <th>HOTSPOT_NO</th>\n",
       "      <th>SEX_CODE_CD</th>\n",
       "      <th>RACE_CODE_CD</th>\n",
       "      <th>DISTRICT</th>\n",
       "      <th>CONTACT_DATE2</th>\n",
       "    </tr>\n",
       "  </thead>\n",
       "  <tbody>\n",
       "    <tr>\n",
       "      <th>0</th>\n",
       "      <td>3726079</td>\n",
       "      <td>TRAFFIC</td>\n",
       "      <td>NaN</td>\n",
       "      <td>M</td>\n",
       "      <td>BLK</td>\n",
       "      <td>07</td>\n",
       "      <td>2010-01-01</td>\n",
       "    </tr>\n",
       "    <tr>\n",
       "      <th>1</th>\n",
       "      <td>3726080</td>\n",
       "      <td>TRAFFIC</td>\n",
       "      <td>NaN</td>\n",
       "      <td>F</td>\n",
       "      <td>BLK</td>\n",
       "      <td>07</td>\n",
       "      <td>2010-01-01</td>\n",
       "    </tr>\n",
       "    <tr>\n",
       "      <th>2</th>\n",
       "      <td>3726035</td>\n",
       "      <td>TRAFFIC</td>\n",
       "      <td>NaN</td>\n",
       "      <td>F</td>\n",
       "      <td>BLK</td>\n",
       "      <td>07</td>\n",
       "      <td>2010-01-01</td>\n",
       "    </tr>\n",
       "  </tbody>\n",
       "</table>\n",
       "</div>"
      ],
      "text/plain": [
       "        ID CONTACT_TYPE_CD HOTSPOT_NO SEX_CODE_CD RACE_CODE_CD DISTRICT  \\\n",
       "0  3726079         TRAFFIC        NaN           M          BLK       07   \n",
       "1  3726080         TRAFFIC        NaN           F          BLK       07   \n",
       "2  3726035         TRAFFIC        NaN           F          BLK       07   \n",
       "\n",
       "  CONTACT_DATE2  \n",
       "0    2010-01-01  \n",
       "1    2010-01-01  \n",
       "2    2010-01-01  "
      ]
     },
     "execution_count": 28,
     "metadata": {},
     "output_type": "execute_result"
    }
   ],
   "source": [
    "data_all = pd.read_csv(r\"C:/Users/Administrator/Desktop/cpd/data/d823_833.txt\",sep=\"|\")\n",
    "data_all =  data_all[['ID', 'CONTACT_TYPE_CD', 'HOTSPOT_NO', 'SEX_CODE_CD', 'RACE_CODE_CD', 'DISTRICT', 'CONTACT_DATE2']]\n",
    "print(data_all.shape)\n",
    "data_all[:3]"
   ]
  },
  {
   "cell_type": "code",
   "execution_count": 36,
   "metadata": {},
   "outputs": [
    {
     "data": {
      "text/html": [
       "<div>\n",
       "<style>\n",
       "    .dataframe thead tr:only-child th {\n",
       "        text-align: right;\n",
       "    }\n",
       "\n",
       "    .dataframe thead th {\n",
       "        text-align: left;\n",
       "    }\n",
       "\n",
       "    .dataframe tbody tr th {\n",
       "        vertical-align: top;\n",
       "    }\n",
       "</style>\n",
       "<table border=\"1\" class=\"dataframe\">\n",
       "  <thead>\n",
       "    <tr style=\"text-align: right;\">\n",
       "      <th></th>\n",
       "      <th>ID</th>\n",
       "      <th>CONTACT_TYPE_CD</th>\n",
       "      <th>HOTSPOT_NO</th>\n",
       "      <th>SEX_CODE_CD</th>\n",
       "      <th>RACE_CODE_CD</th>\n",
       "      <th>DISTRICT</th>\n",
       "      <th>CONTACT_DATE2</th>\n",
       "      <th>TRAFFIC</th>\n",
       "      <th>HOTSPOT</th>\n",
       "      <th>POST403</th>\n",
       "    </tr>\n",
       "  </thead>\n",
       "  <tbody>\n",
       "    <tr>\n",
       "      <th>0</th>\n",
       "      <td>3726079</td>\n",
       "      <td>TRAFFIC</td>\n",
       "      <td>NaN</td>\n",
       "      <td>M</td>\n",
       "      <td>BLK</td>\n",
       "      <td>07</td>\n",
       "      <td>2010-01-01</td>\n",
       "      <td>1</td>\n",
       "      <td>0</td>\n",
       "      <td>0</td>\n",
       "    </tr>\n",
       "    <tr>\n",
       "      <th>1</th>\n",
       "      <td>3726080</td>\n",
       "      <td>TRAFFIC</td>\n",
       "      <td>NaN</td>\n",
       "      <td>F</td>\n",
       "      <td>BLK</td>\n",
       "      <td>07</td>\n",
       "      <td>2010-01-01</td>\n",
       "      <td>1</td>\n",
       "      <td>0</td>\n",
       "      <td>0</td>\n",
       "    </tr>\n",
       "    <tr>\n",
       "      <th>2</th>\n",
       "      <td>3726035</td>\n",
       "      <td>TRAFFIC</td>\n",
       "      <td>NaN</td>\n",
       "      <td>F</td>\n",
       "      <td>BLK</td>\n",
       "      <td>07</td>\n",
       "      <td>2010-01-01</td>\n",
       "      <td>1</td>\n",
       "      <td>0</td>\n",
       "      <td>0</td>\n",
       "    </tr>\n",
       "  </tbody>\n",
       "</table>\n",
       "</div>"
      ],
      "text/plain": [
       "        ID CONTACT_TYPE_CD HOTSPOT_NO SEX_CODE_CD RACE_CODE_CD DISTRICT  \\\n",
       "0  3726079         TRAFFIC        NaN           M          BLK       07   \n",
       "1  3726080         TRAFFIC        NaN           F          BLK       07   \n",
       "2  3726035         TRAFFIC        NaN           F          BLK       07   \n",
       "\n",
       "  CONTACT_DATE2  TRAFFIC  HOTSPOT  POST403  \n",
       "0    2010-01-01        1        0        0  \n",
       "1    2010-01-01        1        0        0  \n",
       "2    2010-01-01        1        0        0  "
      ]
     },
     "execution_count": 36,
     "metadata": {},
     "output_type": "execute_result"
    }
   ],
   "source": [
    "data_all['TRAFFIC'] = data_all['CONTACT_TYPE_CD'].map(lambda x: str(x.strip()) == 'TRAFFIC').astype(int)\n",
    "data_all['HOTSPOT'] = data_all['HOTSPOT_NO'].map(lambda x: pd.notnull(x)).astype(int)\n",
    "data_all['POST403'] = data_all['CONTACT_DATE2'].map(lambda x: x >= \"2014-04-03\").astype(int)\n",
    "data_all[:3]"
   ]
  },
  {
   "cell_type": "code",
   "execution_count": 37,
   "metadata": {},
   "outputs": [
    {
     "name": "stdout",
     "output_type": "stream",
     "text": [
      "(4940, 9) (770, 9)\n"
     ]
    },
    {
     "data": {
      "text/html": [
       "<div>\n",
       "<style>\n",
       "    .dataframe thead tr:only-child th {\n",
       "        text-align: right;\n",
       "    }\n",
       "\n",
       "    .dataframe thead th {\n",
       "        text-align: left;\n",
       "    }\n",
       "\n",
       "    .dataframe tbody tr th {\n",
       "        vertical-align: top;\n",
       "    }\n",
       "</style>\n",
       "<table border=\"1\" class=\"dataframe\">\n",
       "  <thead>\n",
       "    <tr style=\"text-align: right;\">\n",
       "      <th></th>\n",
       "      <th>ID</th>\n",
       "      <th>REMARKS</th>\n",
       "      <th>BAD</th>\n",
       "      <th>SEX_CODE_CD</th>\n",
       "      <th>RACE_CODE_CD</th>\n",
       "      <th>DISTRICT</th>\n",
       "      <th>TRAFFIC</th>\n",
       "      <th>HOTSPOT</th>\n",
       "      <th>POST403</th>\n",
       "    </tr>\n",
       "  </thead>\n",
       "  <tbody>\n",
       "    <tr>\n",
       "      <th>0</th>\n",
       "      <td>3995608</td>\n",
       "      <td>\"\"\"NAME CHECK CLEAR\"\"\"</td>\n",
       "      <td>1</td>\n",
       "      <td>M</td>\n",
       "      <td>BLK</td>\n",
       "      <td>32</td>\n",
       "      <td>1</td>\n",
       "      <td>0</td>\n",
       "      <td>0</td>\n",
       "    </tr>\n",
       "    <tr>\n",
       "      <th>1</th>\n",
       "      <td>7415322</td>\n",
       "      <td>\"\"\"LISTED SUBJECT WAS OBSERVED LOITERING WITH ...</td>\n",
       "      <td>1</td>\n",
       "      <td>M</td>\n",
       "      <td>BLK</td>\n",
       "      <td>67</td>\n",
       "      <td>0</td>\n",
       "      <td>1</td>\n",
       "      <td>1</td>\n",
       "    </tr>\n",
       "    <tr>\n",
       "      <th>2</th>\n",
       "      <td>4696416</td>\n",
       "      <td>\"\"\"loitering at an area known for gang and nar...</td>\n",
       "      <td>1</td>\n",
       "      <td>M</td>\n",
       "      <td>WWH</td>\n",
       "      <td>45</td>\n",
       "      <td>0</td>\n",
       "      <td>0</td>\n",
       "      <td>0</td>\n",
       "    </tr>\n",
       "  </tbody>\n",
       "</table>\n",
       "</div>"
      ],
      "text/plain": [
       "        ID                                            REMARKS  BAD  \\\n",
       "0  3995608                             \"\"\"NAME CHECK CLEAR\"\"\"    1   \n",
       "1  7415322  \"\"\"LISTED SUBJECT WAS OBSERVED LOITERING WITH ...    1   \n",
       "2  4696416  \"\"\"loitering at an area known for gang and nar...    1   \n",
       "\n",
       "  SEX_CODE_CD RACE_CODE_CD DISTRICT  TRAFFIC  HOTSPOT  POST403  \n",
       "0           M          BLK       32        1        0        0  \n",
       "1           M          BLK       67        0        1        1  \n",
       "2           M          WWH       45        0        0        0  "
      ]
     },
     "execution_count": 37,
     "metadata": {},
     "output_type": "execute_result"
    }
   ],
   "source": [
    "train_df_more = pd.merge(train_df, data_all[['ID','SEX_CODE_CD','RACE_CODE_CD','DISTRICT','TRAFFIC','HOTSPOT','POST403']], \n",
    "                         how=\"left\", left_on = \"ID\", right_on = \"ID\")\n",
    "eval_df_more  = pd.merge(df_eval2, data_all[['ID','SEX_CODE_CD','RACE_CODE_CD','DISTRICT','TRAFFIC','HOTSPOT','POST403']], \n",
    "                         how=\"left\", left_on = \"ID\", right_on = \"ID\")\n",
    "print(train_df_more.shape, eval_df_more.shape)\n",
    "eval_df_more[:3]"
   ]
  },
  {
   "cell_type": "code",
   "execution_count": null,
   "metadata": {
    "collapsed": true
   },
   "outputs": [],
   "source": []
  },
  {
   "cell_type": "code",
   "execution_count": null,
   "metadata": {
    "collapsed": true
   },
   "outputs": [],
   "source": []
  }
 ],
 "metadata": {
  "kernelspec": {
   "display_name": "Python 3",
   "language": "python",
   "name": "python3"
  },
  "language_info": {
   "codemirror_mode": {
    "name": "ipython",
    "version": 3
   },
   "file_extension": ".py",
   "mimetype": "text/x-python",
   "name": "python",
   "nbconvert_exporter": "python",
   "pygments_lexer": "ipython3",
   "version": "3.6.2"
  }
 },
 "nbformat": 4,
 "nbformat_minor": 2
}
