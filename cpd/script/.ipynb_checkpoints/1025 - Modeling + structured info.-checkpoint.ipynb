{
 "cells": [
  {
   "cell_type": "markdown",
   "metadata": {},
   "source": [
    "#### Updates\n",
    "1. Normalize data\n",
    "2. Add traffic, char length, contact date"
   ]
  },
  {
   "cell_type": "code",
   "execution_count": 1,
   "metadata": {
    "collapsed": true
   },
   "outputs": [],
   "source": [
    "import os\n",
    "import re\n",
    "import pandas as pd\n",
    "import numpy as np"
   ]
  },
  {
   "cell_type": "code",
   "execution_count": 2,
   "metadata": {
    "collapsed": true
   },
   "outputs": [],
   "source": [
    "from sklearn.model_selection import train_test_split\n",
    "from sklearn.feature_extraction.text import CountVectorizer, TfidfTransformer, TfidfVectorizer\n",
    "from sklearn.metrics import confusion_matrix,precision_score, recall_score,accuracy_score\n",
    "from sklearn.pipeline import Pipeline, FeatureUnion\n",
    "from sklearn.feature_selection import SelectKBest, RFE\n",
    "from sklearn.feature_selection import chi2\n",
    "from sklearn.model_selection import GridSearchCV\n",
    "from sklearn import preprocessing\n",
    "from sklearn.base import TransformerMixin, BaseEstimator\n",
    "\n",
    "from sklearn.linear_model import LogisticRegression\n",
    "from sklearn.ensemble import RandomForestClassifier\n",
    "from sklearn.svm import SVC\n",
    "from sklearn.naive_bayes import MultinomialNB"
   ]
  },
  {
   "cell_type": "code",
   "execution_count": 3,
   "metadata": {
    "collapsed": true
   },
   "outputs": [],
   "source": [
    "import matplotlib.pyplot as plt\n",
    "%matplotlib inline"
   ]
  },
  {
   "cell_type": "code",
   "execution_count": 4,
   "metadata": {
    "collapsed": true
   },
   "outputs": [],
   "source": [
    "def print_accuracy(y_true, y_pred):\n",
    "    print(confusion_matrix(y_true,y_pred))\n",
    "    print(\"precision:\", precision_score(y_true,y_pred))\n",
    "    print(\"recall:\", recall_score(y_true,y_pred))"
   ]
  },
  {
   "cell_type": "code",
   "execution_count": 5,
   "metadata": {
    "collapsed": true
   },
   "outputs": [],
   "source": [
    "def plot_coefs(df, top_features=20):\n",
    "    df_sorted = df.sort_values(by=\"coef\", ascending = False)\n",
    "    top_positive_coefs = df_sorted[:top_features]\n",
    "    top_negative_coefs = df_sorted[-top_features:]\n",
    "    top_coefs = pd.concat([top_positive_coefs,top_negative_coefs], axis = 0).sort_values(by=\"coef\")\n",
    "    # create plot\n",
    "    plt.figure(figsize=(20, 5))\n",
    "    top_coefs['coef'].plot(kind=\"bar\")\n",
    "    plt.show()"
   ]
  },
  {
   "cell_type": "code",
   "execution_count": 6,
   "metadata": {},
   "outputs": [
    {
     "name": "stdout",
     "output_type": "stream",
     "text": [
      "(4940, 10) (770, 10)\n"
     ]
    },
    {
     "data": {
      "text/html": [
       "<div>\n",
       "<style>\n",
       "    .dataframe thead tr:only-child th {\n",
       "        text-align: right;\n",
       "    }\n",
       "\n",
       "    .dataframe thead th {\n",
       "        text-align: left;\n",
       "    }\n",
       "\n",
       "    .dataframe tbody tr th {\n",
       "        vertical-align: top;\n",
       "    }\n",
       "</style>\n",
       "<table border=\"1\" class=\"dataframe\">\n",
       "  <thead>\n",
       "    <tr style=\"text-align: right;\">\n",
       "      <th></th>\n",
       "      <th>Unnamed: 0</th>\n",
       "      <th>ID</th>\n",
       "      <th>REMARKS</th>\n",
       "      <th>BAD</th>\n",
       "      <th>SEX_CODE_CD</th>\n",
       "      <th>RACE_CODE_CD</th>\n",
       "      <th>DISTRICT</th>\n",
       "      <th>TRAFFIC</th>\n",
       "      <th>HOTSPOT</th>\n",
       "      <th>POST403</th>\n",
       "    </tr>\n",
       "  </thead>\n",
       "  <tbody>\n",
       "    <tr>\n",
       "      <th>0</th>\n",
       "      <td>0</td>\n",
       "      <td>3736142</td>\n",
       "      <td>\"R/O's observed above subject with two other s...</td>\n",
       "      <td>1</td>\n",
       "      <td>F</td>\n",
       "      <td>BLK</td>\n",
       "      <td>02</td>\n",
       "      <td>0</td>\n",
       "      <td>1</td>\n",
       "      <td>0</td>\n",
       "    </tr>\n",
       "    <tr>\n",
       "      <th>1</th>\n",
       "      <td>1</td>\n",
       "      <td>3761761</td>\n",
       "      <td>\"LOITERING IN CITGO GAS STATION, FIELD INTERVI...</td>\n",
       "      <td>0</td>\n",
       "      <td>M</td>\n",
       "      <td>BLK</td>\n",
       "      <td>45</td>\n",
       "      <td>0</td>\n",
       "      <td>0</td>\n",
       "      <td>0</td>\n",
       "    </tr>\n",
       "    <tr>\n",
       "      <th>2</th>\n",
       "      <td>2</td>\n",
       "      <td>3746471</td>\n",
       "      <td>\"SUBJECT, A KNOWN LA RAZA GANG MEMBER, WAS LOI...</td>\n",
       "      <td>1</td>\n",
       "      <td>M</td>\n",
       "      <td>WWH</td>\n",
       "      <td>12</td>\n",
       "      <td>0</td>\n",
       "      <td>0</td>\n",
       "      <td>0</td>\n",
       "    </tr>\n",
       "  </tbody>\n",
       "</table>\n",
       "</div>"
      ],
      "text/plain": [
       "   Unnamed: 0       ID                                            REMARKS  \\\n",
       "0           0  3736142  \"R/O's observed above subject with two other s...   \n",
       "1           1  3761761  \"LOITERING IN CITGO GAS STATION, FIELD INTERVI...   \n",
       "2           2  3746471  \"SUBJECT, A KNOWN LA RAZA GANG MEMBER, WAS LOI...   \n",
       "\n",
       "   BAD SEX_CODE_CD RACE_CODE_CD DISTRICT  TRAFFIC  HOTSPOT  POST403  \n",
       "0    1           F          BLK       02        0        1        0  \n",
       "1    0           M          BLK       45        0        0        0  \n",
       "2    1           M          WWH       12        0        0        0  "
      ]
     },
     "execution_count": 6,
     "metadata": {},
     "output_type": "execute_result"
    }
   ],
   "source": [
    "train_test_cross_df = pd.read_csv(r\"../data/train_more.txt\",sep=\"|\")\n",
    "eval_df = pd.read_csv(r\"../data/eval_more.txt\",sep=\"|\")\n",
    "print(train_test_cross_df.shape, eval_df.shape)\n",
    "train_test_cross_df[:3]"
   ]
  },
  {
   "cell_type": "code",
   "execution_count": 7,
   "metadata": {},
   "outputs": [
    {
     "name": "stdout",
     "output_type": "stream",
     "text": [
      "(4877, 9) (759, 9)\n"
     ]
    }
   ],
   "source": [
    "# Remove NAs\n",
    "train_test_cross_df2 = train_test_cross_df[~pd.isnull(train_test_cross_df['REMARKS'])]\n",
    "eval_df2 = eval_df[~pd.isnull(eval_df['REMARKS'])]\n",
    "train_test_cross_df2.set_index(\"ID\",inplace=True)\n",
    "eval_df2.set_index(\"ID\",inplace=True)\n",
    "print(train_test_cross_df2.shape, eval_df2.shape)"
   ]
  },
  {
   "cell_type": "code",
   "execution_count": 8,
   "metadata": {
    "scrolled": false
   },
   "outputs": [
    {
     "name": "stdout",
     "output_type": "stream",
     "text": [
      "0    2772\n",
      "1    2105\n",
      "Name: BAD, dtype: int64\n",
      "0    385\n",
      "1    374\n",
      "Name: BAD, dtype: int64\n"
     ]
    }
   ],
   "source": [
    "print(train_test_cross_df2[\"BAD\"].value_counts())\n",
    "print(eval_df2[\"BAD\"].value_counts())"
   ]
  },
  {
   "cell_type": "code",
   "execution_count": 9,
   "metadata": {},
   "outputs": [
    {
     "data": {
      "text/html": [
       "<div>\n",
       "<style>\n",
       "    .dataframe thead tr:only-child th {\n",
       "        text-align: right;\n",
       "    }\n",
       "\n",
       "    .dataframe thead th {\n",
       "        text-align: left;\n",
       "    }\n",
       "\n",
       "    .dataframe tbody tr th {\n",
       "        vertical-align: top;\n",
       "    }\n",
       "</style>\n",
       "<table border=\"1\" class=\"dataframe\">\n",
       "  <thead>\n",
       "    <tr style=\"text-align: right;\">\n",
       "      <th></th>\n",
       "      <th>Unnamed: 0</th>\n",
       "      <th>REMARKS</th>\n",
       "      <th>BAD</th>\n",
       "      <th>SEX_CODE_CD</th>\n",
       "      <th>RACE_CODE_CD</th>\n",
       "      <th>DISTRICT</th>\n",
       "      <th>TRAFFIC</th>\n",
       "      <th>HOTSPOT</th>\n",
       "      <th>POST403</th>\n",
       "    </tr>\n",
       "    <tr>\n",
       "      <th>ID</th>\n",
       "      <th></th>\n",
       "      <th></th>\n",
       "      <th></th>\n",
       "      <th></th>\n",
       "      <th></th>\n",
       "      <th></th>\n",
       "      <th></th>\n",
       "      <th></th>\n",
       "      <th></th>\n",
       "    </tr>\n",
       "  </thead>\n",
       "  <tbody>\n",
       "    <tr>\n",
       "      <th>3736142</th>\n",
       "      <td>0</td>\n",
       "      <td>\"R/O's observed above subject with two other s...</td>\n",
       "      <td>1</td>\n",
       "      <td>F</td>\n",
       "      <td>BLK</td>\n",
       "      <td>02</td>\n",
       "      <td>0</td>\n",
       "      <td>1</td>\n",
       "      <td>0</td>\n",
       "    </tr>\n",
       "    <tr>\n",
       "      <th>3761761</th>\n",
       "      <td>1</td>\n",
       "      <td>\"LOITERING IN CITGO GAS STATION, FIELD INTERVI...</td>\n",
       "      <td>0</td>\n",
       "      <td>M</td>\n",
       "      <td>BLK</td>\n",
       "      <td>45</td>\n",
       "      <td>0</td>\n",
       "      <td>0</td>\n",
       "      <td>0</td>\n",
       "    </tr>\n",
       "  </tbody>\n",
       "</table>\n",
       "</div>"
      ],
      "text/plain": [
       "         Unnamed: 0                                            REMARKS  BAD  \\\n",
       "ID                                                                            \n",
       "3736142           0  \"R/O's observed above subject with two other s...    1   \n",
       "3761761           1  \"LOITERING IN CITGO GAS STATION, FIELD INTERVI...    0   \n",
       "\n",
       "        SEX_CODE_CD RACE_CODE_CD DISTRICT  TRAFFIC  HOTSPOT  POST403  \n",
       "ID                                                                    \n",
       "3736142           F          BLK       02        0        1        0  \n",
       "3761761           M          BLK       45        0        0        0  "
      ]
     },
     "execution_count": 9,
     "metadata": {},
     "output_type": "execute_result"
    }
   ],
   "source": [
    "train_test_cross_df2[:2]"
   ]
  },
  {
   "cell_type": "markdown",
   "metadata": {},
   "source": [
    "#### Split into train, test, cross_validation"
   ]
  },
  {
   "cell_type": "code",
   "execution_count": 30,
   "metadata": {},
   "outputs": [
    {
     "name": "stdout",
     "output_type": "stream",
     "text": [
      "(3901, 9) (976, 9)\n"
     ]
    }
   ],
   "source": [
    "train_test_X, cross_X, train_test_y, cross_y = train_test_split(train_test_cross_df2,train_test_cross_df2['BAD'], test_size = 0.2)\n",
    "print(train_test_X.shape, cross_X.shape)"
   ]
  },
  {
   "cell_type": "code",
   "execution_count": 31,
   "metadata": {},
   "outputs": [
    {
     "name": "stdout",
     "output_type": "stream",
     "text": [
      "(2925, 9) (976, 9) (976, 9)\n"
     ]
    }
   ],
   "source": [
    "train_X, test_X, train_y, test_y = train_test_split(train_test_X, train_test_y, test_size=0.25)\n",
    "print(train_X.shape, test_X.shape, cross_X.shape)"
   ]
  },
  {
   "cell_type": "markdown",
   "metadata": {},
   "source": [
    "#### Customize transformer"
   ]
  },
  {
   "cell_type": "code",
   "execution_count": 43,
   "metadata": {
    "collapsed": true
   },
   "outputs": [],
   "source": [
    "class RemarksExtractor(TransformerMixin, BaseEstimator):\n",
    "\n",
    "    def __init__(self, factor, replace_num=False):\n",
    "        self.factor = factor\n",
    "        self.replace_num = replace_num\n",
    "    \n",
    "    def transform(self, X, y=None, **fit_params):\n",
    "        if self.replace_num:\n",
    "            processed = X[self.factor].apply(lambda x: re.sub(\"[0-9]+\",\"numberph\",x))\n",
    "        else:\n",
    "            processed = X[self.factor]\n",
    "            \n",
    "#         print(pd.DataFrame(processed)[:3])\n",
    "        return processed\n",
    "        \n",
    "    def fit(self, X, y=None, **fit_params):\n",
    "        return self"
   ]
  },
  {
   "cell_type": "code",
   "execution_count": 47,
   "metadata": {
    "collapsed": true
   },
   "outputs": [],
   "source": [
    "class VarExtractor(TransformerMixin, BaseEstimator):\n",
    "\n",
    "    def __init__(self, factor):\n",
    "        self.factor = factor\n",
    "    \n",
    "    def transform(self, X, y=None, **fit_params):\n",
    "        return pd.DataFrame(X[self.factor])\n",
    "        \n",
    "    def fit(self, X, y=None, **fit_params):\n",
    "        return self"
   ]
  },
  {
   "cell_type": "code",
   "execution_count": 48,
   "metadata": {
    "collapsed": true
   },
   "outputs": [],
   "source": [
    "class GetTextLen(TransformerMixin, BaseEstimator):\n",
    "    def transform(self, X, y=None, **fit_params):\n",
    "#         print(X[:3])\n",
    "        text_length = pd.DataFrame(X.apply(len))\n",
    "        return text_length\n",
    "        \n",
    "    def fit(self, X, y=None, **fit_params):\n",
    "        return self"
   ]
  },
  {
   "cell_type": "code",
   "execution_count": 49,
   "metadata": {
    "collapsed": true
   },
   "outputs": [],
   "source": [
    "class DenseTransformer(TransformerMixin, BaseEstimator):  # This is to tranform tfidf sparse matrix to dense matrix to apply normalization\n",
    "\n",
    "    def transform(self, X, y=None, **fit_params):\n",
    "        return X.todense()\n",
    "\n",
    "    def fit(self, X, y=None, **fit_params):\n",
    "        return self"
   ]
  },
  {
   "cell_type": "code",
   "execution_count": 50,
   "metadata": {},
   "outputs": [],
   "source": [
    "pipeline = Pipeline([\n",
    "    \n",
    "    ('features', FeatureUnion([\n",
    "        ('unstructured_features', Pipeline([\n",
    "            (\"remarks_extractor\",RemarksExtractor('REMARKS', replace_num=True)),\n",
    "            (\"text_features\", FeatureUnion([\n",
    "                (\"ngram_tfidf\", Pipeline([            \n",
    "                    (\"vectorizer\", TfidfVectorizer(token_pattern='(?u)\\\\b[a-zA-Z]+\\\\b', min_df=2, \n",
    "                                                   stop_words=['the','a','an'], ngram_range=(1,2), use_idf=True)),\n",
    "                    (\"densetranformer\",DenseTransformer())\n",
    "                ])),\n",
    "                (\"length\", GetTextLen())\n",
    "            ])) \n",
    "        ])),\n",
    "        \n",
    "        # Structured information\n",
    "        (\"is_traffic\", VarExtractor('TRAFFIC')),\n",
    "        (\"is_hotspot\", VarExtractor('HOTSPOT')),\n",
    "        (\"post_403\"  , VarExtractor(\"POST403\"))\n",
    "\n",
    "    ]))   \n",
    "    ,\n",
    "    \n",
    "    (\"normalizer\", preprocessing.MinMaxScaler(feature_range=[0,1])),\n",
    "    (\"feature_selector\", SelectKBest(score_func=chi2, k=1000)),\n",
    "    (\"model\",SVC(kernel=\"linear\", probability=True))\n",
    "#     (\"model\",MultinomialNB(class_prior=[0.67,0.33]))\n",
    "])"
   ]
  },
  {
   "cell_type": "code",
   "execution_count": 51,
   "metadata": {},
   "outputs": [
    {
     "name": "stdout",
     "output_type": "stream",
     "text": [
      "[[481  60]\n",
      " [ 71 364]]\n",
      "precision: 0.858490566038\n",
      "recall: 0.836781609195\n",
      "Wall time: 42.9 s\n"
     ]
    }
   ],
   "source": [
    "%%time\n",
    "pipeline.fit(train_test_X, train_test_y)\n",
    "pred_y = pipeline.predict(cross_X)\n",
    "print_accuracy(cross_y, pred_y)"
   ]
  },
  {
   "cell_type": "code",
   "execution_count": 52,
   "metadata": {},
   "outputs": [
    {
     "name": "stdout",
     "output_type": "stream",
     "text": [
      "[[339  46]\n",
      " [ 95 279]]\n",
      "precision: 0.858461538462\n",
      "recall: 0.745989304813\n"
     ]
    }
   ],
   "source": [
    "pred_y = pipeline.predict(eval_df2)   # Marginally better\n",
    "print_accuracy(eval_df2['BAD'],pred_y)"
   ]
  },
  {
   "cell_type": "markdown",
   "metadata": {},
   "source": [
    "#### Seems overfitting. Check with a learning curve"
   ]
  },
  {
   "cell_type": "raw",
   "metadata": {},
   "source": [
    "%%time\n",
    "# Seems overfitting, implement a learning curve\n",
    "BATCH = 50\n",
    "learning_curve_dict = {}\n",
    "batches = len(train_test_y)//BATCH\n",
    "print(\"Total batches:\", batches)\n",
    "\n",
    "for i in range(1,batches):\n",
    "    \n",
    "    num_obs = min(i * BATCH, len(train_test_y))\n",
    "    \n",
    "    try:\n",
    "        # Train on a fraction of train\n",
    "        pipeline.fit(train_test_X[:num_obs], train_test_y[:num_obs])\n",
    "\n",
    "        # Test on the whole thing\n",
    "        pred_y_train = pipeline.predict(train_test_X[:num_obs])\n",
    "        pred_y_cross = pipeline.predict(cross_X)\n",
    "\n",
    "        learning_curve_dict[num_obs] = [accuracy_score(train_test_y[:num_obs], pred_y_train), \n",
    "                                        accuracy_score(cross_y, pred_y_cross)]\n",
    "        \n",
    "        if i % 10 == 0:\n",
    "            print(i , \"batches done\")\n",
    "        \n",
    "    except ValueError:\n",
    "        print(i*BATCH, \"obs not enough\")"
   ]
  },
  {
   "cell_type": "raw",
   "metadata": {},
   "source": [
    "learning_curve_df = pd.DataFrame.from_dict(learning_curve_dict, orient=\"index\")\n",
    "learning_curve_df.columns = ['train','test']\n",
    "learning_curve_df.plot()"
   ]
  },
  {
   "cell_type": "code",
   "execution_count": 53,
   "metadata": {},
   "outputs": [],
   "source": [
    "params = {\n",
    "    \"feature_selector__k\":(500, 750, 1000),\n",
    "    \"model__C\":(0.03, 0.1, 0.3, 1)\n",
    "}\n",
    "grid_serach = GridSearchCV(pipeline, params, cv=3, scoring = \"accuracy\", verbose = 2)"
   ]
  },
  {
   "cell_type": "code",
   "execution_count": 54,
   "metadata": {},
   "outputs": [
    {
     "name": "stdout",
     "output_type": "stream",
     "text": [
      "Fitting 3 folds for each of 12 candidates, totalling 36 fits\n",
      "[CV] feature_selector__k=500, model__C=0.03 ..........................\n",
      "[CV] ........... feature_selector__k=500, model__C=0.03, total=  15.2s\n",
      "[CV] feature_selector__k=500, model__C=0.03 ..........................\n"
     ]
    },
    {
     "name": "stderr",
     "output_type": "stream",
     "text": [
      "[Parallel(n_jobs=1)]: Done   1 out of   1 | elapsed:   18.1s remaining:    0.0s\n"
     ]
    },
    {
     "name": "stdout",
     "output_type": "stream",
     "text": [
      "[CV] ........... feature_selector__k=500, model__C=0.03, total=  15.8s\n",
      "[CV] feature_selector__k=500, model__C=0.03 ..........................\n",
      "[CV] ........... feature_selector__k=500, model__C=0.03, total=  15.8s\n",
      "[CV] feature_selector__k=500, model__C=0.1 ...........................\n",
      "[CV] ............ feature_selector__k=500, model__C=0.1, total=  12.6s\n",
      "[CV] feature_selector__k=500, model__C=0.1 ...........................\n",
      "[CV] ............ feature_selector__k=500, model__C=0.1, total=  13.5s\n",
      "[CV] feature_selector__k=500, model__C=0.1 ...........................\n",
      "[CV] ............ feature_selector__k=500, model__C=0.1, total=  13.4s\n",
      "[CV] feature_selector__k=500, model__C=0.3 ...........................\n",
      "[CV] ............ feature_selector__k=500, model__C=0.3, total=  11.0s\n",
      "[CV] feature_selector__k=500, model__C=0.3 ...........................\n",
      "[CV] ............ feature_selector__k=500, model__C=0.3, total=  12.0s\n",
      "[CV] feature_selector__k=500, model__C=0.3 ...........................\n",
      "[CV] ............ feature_selector__k=500, model__C=0.3, total=  11.7s\n",
      "[CV] feature_selector__k=500, model__C=1 .............................\n",
      "[CV] .............. feature_selector__k=500, model__C=1, total=  10.2s\n",
      "[CV] feature_selector__k=500, model__C=1 .............................\n",
      "[CV] .............. feature_selector__k=500, model__C=1, total=  11.0s\n",
      "[CV] feature_selector__k=500, model__C=1 .............................\n",
      "[CV] .............. feature_selector__k=500, model__C=1, total=  10.7s\n",
      "[CV] feature_selector__k=750, model__C=0.03 ..........................\n",
      "[CV] ........... feature_selector__k=750, model__C=0.03, total=  21.8s\n",
      "[CV] feature_selector__k=750, model__C=0.03 ..........................\n",
      "[CV] ........... feature_selector__k=750, model__C=0.03, total=  22.9s\n",
      "[CV] feature_selector__k=750, model__C=0.03 ..........................\n",
      "[CV] ........... feature_selector__k=750, model__C=0.03, total=  22.8s\n",
      "[CV] feature_selector__k=750, model__C=0.1 ...........................\n",
      "[CV] ............ feature_selector__k=750, model__C=0.1, total=  18.2s\n",
      "[CV] feature_selector__k=750, model__C=0.1 ...........................\n",
      "[CV] ............ feature_selector__k=750, model__C=0.1, total=  19.4s\n",
      "[CV] feature_selector__k=750, model__C=0.1 ...........................\n",
      "[CV] ............ feature_selector__k=750, model__C=0.1, total=  19.2s\n",
      "[CV] feature_selector__k=750, model__C=0.3 ...........................\n",
      "[CV] ............ feature_selector__k=750, model__C=0.3, total=  15.7s\n",
      "[CV] feature_selector__k=750, model__C=0.3 ...........................\n",
      "[CV] ............ feature_selector__k=750, model__C=0.3, total=  17.0s\n",
      "[CV] feature_selector__k=750, model__C=0.3 ...........................\n",
      "[CV] ............ feature_selector__k=750, model__C=0.3, total=  16.6s\n",
      "[CV] feature_selector__k=750, model__C=1 .............................\n",
      "[CV] .............. feature_selector__k=750, model__C=1, total=  14.2s\n",
      "[CV] feature_selector__k=750, model__C=1 .............................\n",
      "[CV] .............. feature_selector__k=750, model__C=1, total=  15.3s\n",
      "[CV] feature_selector__k=750, model__C=1 .............................\n",
      "[CV] .............. feature_selector__k=750, model__C=1, total=  14.9s\n",
      "[CV] feature_selector__k=1000, model__C=0.03 .........................\n",
      "[CV] .......... feature_selector__k=1000, model__C=0.03, total=  29.2s\n",
      "[CV] feature_selector__k=1000, model__C=0.03 .........................\n",
      "[CV] .......... feature_selector__k=1000, model__C=0.03, total=  30.5s\n",
      "[CV] feature_selector__k=1000, model__C=0.03 .........................\n",
      "[CV] .......... feature_selector__k=1000, model__C=0.03, total=  30.2s\n",
      "[CV] feature_selector__k=1000, model__C=0.1 ..........................\n",
      "[CV] ........... feature_selector__k=1000, model__C=0.1, total=  23.9s\n",
      "[CV] feature_selector__k=1000, model__C=0.1 ..........................\n",
      "[CV] ........... feature_selector__k=1000, model__C=0.1, total=  25.3s\n",
      "[CV] feature_selector__k=1000, model__C=0.1 ..........................\n",
      "[CV] ........... feature_selector__k=1000, model__C=0.1, total=  25.1s\n",
      "[CV] feature_selector__k=1000, model__C=0.3 ..........................\n",
      "[CV] ........... feature_selector__k=1000, model__C=0.3, total=  20.7s\n",
      "[CV] feature_selector__k=1000, model__C=0.3 ..........................\n",
      "[CV] ........... feature_selector__k=1000, model__C=0.3, total=  22.1s\n",
      "[CV] feature_selector__k=1000, model__C=0.3 ..........................\n",
      "[CV] ........... feature_selector__k=1000, model__C=0.3, total=  22.0s\n",
      "[CV] feature_selector__k=1000, model__C=1 ............................\n",
      "[CV] ............. feature_selector__k=1000, model__C=1, total=  19.0s\n",
      "[CV] feature_selector__k=1000, model__C=1 ............................\n",
      "[CV] ............. feature_selector__k=1000, model__C=1, total=  20.0s\n",
      "[CV] feature_selector__k=1000, model__C=1 ............................\n",
      "[CV] ............. feature_selector__k=1000, model__C=1, total=  19.9s\n"
     ]
    },
    {
     "name": "stderr",
     "output_type": "stream",
     "text": [
      "[Parallel(n_jobs=1)]: Done  36 out of  36 | elapsed: 13.1min finished\n"
     ]
    },
    {
     "name": "stdout",
     "output_type": "stream",
     "text": [
      "Wall time: 13min 39s\n"
     ]
    },
    {
     "data": {
      "text/plain": [
       "GridSearchCV(cv=3, error_score='raise',\n",
       "       estimator=Pipeline(memory=None,\n",
       "     steps=[('features', FeatureUnion(n_jobs=1,\n",
       "       transformer_list=[('unstructured_features', Pipeline(memory=None,\n",
       "     steps=[('remarks_extractor', RemarksExtractor(factor='REMARKS', replace_num=True)), ('text_features', FeatureUnion(n_jobs=1,\n",
       "       transformer_list=[('ngram_tfidf', Pipeline(memo...',\n",
       "  max_iter=-1, probability=True, random_state=None, shrinking=True,\n",
       "  tol=0.001, verbose=False))]),\n",
       "       fit_params=None, iid=True, n_jobs=1,\n",
       "       param_grid={'feature_selector__k': (500, 750, 1000), 'model__C': (0.03, 0.1, 0.3, 1)},\n",
       "       pre_dispatch='2*n_jobs', refit=True, return_train_score=True,\n",
       "       scoring='accuracy', verbose=2)"
      ]
     },
     "execution_count": 54,
     "metadata": {},
     "output_type": "execute_result"
    }
   ],
   "source": [
    "%%time\n",
    "grid_serach.fit(train_test_X, train_test_y)"
   ]
  },
  {
   "cell_type": "code",
   "execution_count": 55,
   "metadata": {},
   "outputs": [
    {
     "data": {
      "text/plain": [
       "{'feature_selector__k': 750, 'model__C': 0.3}"
      ]
     },
     "execution_count": 55,
     "metadata": {},
     "output_type": "execute_result"
    }
   ],
   "source": [
    "grid_serach.best_params_"
   ]
  },
  {
   "cell_type": "code",
   "execution_count": 67,
   "metadata": {},
   "outputs": [],
   "source": [
    "pipeline_reg = Pipeline([\n",
    "    \n",
    "    ('features', FeatureUnion([\n",
    "        ('unstructured_features', Pipeline([\n",
    "            (\"remarks_extractor\",RemarksExtractor('REMARKS', replace_num=True)),\n",
    "            (\"text_features\", FeatureUnion([\n",
    "                (\"ngram_tfidf\", Pipeline([            \n",
    "                    (\"vectorizer\", TfidfVectorizer(token_pattern='(?u)\\\\b[a-zA-Z]+\\\\b', min_df=2, \n",
    "                                                   stop_words=['the','a','an'], ngram_range=(1,2), use_idf=True)),\n",
    "                    (\"densetranformer\",DenseTransformer())\n",
    "                ])),\n",
    "                (\"length\", GetTextLen())\n",
    "            ])) \n",
    "        ])),\n",
    "        \n",
    "        # Structured information\n",
    "        (\"is_traffic\", VarExtractor('TRAFFIC')),\n",
    "        (\"is_hotspot\", VarExtractor('HOTSPOT')),\n",
    "        (\"post_403\"  , VarExtractor(\"POST403\"))\n",
    "\n",
    "    ]))   \n",
    "    ,\n",
    "    \n",
    "    (\"normalizer\", preprocessing.MinMaxScaler(feature_range=[0,1])),\n",
    "    (\"feature_selector\", SelectKBest(score_func=chi2, k=750)),\n",
    "    (\"model\",SVC(kernel=\"linear\", probability=True, C = 0.3))\n",
    "#     (\"model\",MultinomialNB(class_prior=[0.67,0.33]))\n",
    "])"
   ]
  },
  {
   "cell_type": "code",
   "execution_count": 68,
   "metadata": {},
   "outputs": [
    {
     "name": "stdout",
     "output_type": "stream",
     "text": [
      "[[487  54]\n",
      " [ 78 357]]\n",
      "precision: 0.868613138686\n",
      "recall: 0.820689655172\n",
      "Wall time: 34.7 s\n"
     ]
    }
   ],
   "source": [
    "%%time\n",
    "pipeline_reg.fit(train_test_X, train_test_y)\n",
    "pred_y = pipeline_reg.predict(cross_X)\n",
    "print_accuracy(cross_y, pred_y)"
   ]
  },
  {
   "cell_type": "markdown",
   "metadata": {},
   "source": [
    "#### Eval on evaluation set - see how much the model agrees with keyword serach labeling"
   ]
  },
  {
   "cell_type": "code",
   "execution_count": 79,
   "metadata": {},
   "outputs": [
    {
     "name": "stdout",
     "output_type": "stream",
     "text": [
      "[[341  44]\n",
      " [103 271]]\n",
      "precision: 0.860317460317\n",
      "recall: 0.724598930481\n"
     ]
    }
   ],
   "source": [
    "pred_y = pipeline_reg.predict(eval_df2)  \n",
    "print_accuracy(eval_df2['BAD'],pred_y)\n",
    "pred_y_proba = pipeline_reg.predict_proba(eval_df2)"
   ]
  },
  {
   "cell_type": "code",
   "execution_count": 70,
   "metadata": {},
   "outputs": [
    {
     "data": {
      "text/plain": [
       "array([ True,  True,  True,  True], dtype=bool)"
      ]
     },
     "execution_count": 70,
     "metadata": {},
     "output_type": "execute_result"
    }
   ],
   "source": [
    "feat_selected_ind = pipeline_reg.named_steps['feature_selector'].get_support()\n",
    "feat_selected_ind[-4:]"
   ]
  },
  {
   "cell_type": "code",
   "execution_count": 72,
   "metadata": {},
   "outputs": [],
   "source": [
    "tokens = pipeline_reg.named_steps['features'].transformer_list[0][1].named_steps['text_features'].transformer_list[0][1].named_steps['vectorizer'].get_feature_names()\n",
    "tokens_selected = [w for w in tokens if feat_selected_ind[tokens.index(w)]]\n",
    "feat_selected = tokens_selected + [\"char_len\",\"is_traffic\",\"is_hotspot\",\"post403\"]"
   ]
  },
  {
   "cell_type": "code",
   "execution_count": 76,
   "metadata": {},
   "outputs": [
    {
     "name": "stdout",
     "output_type": "stream",
     "text": [
      "(750, 1)\n"
     ]
    },
    {
     "data": {
      "text/html": [
       "<div>\n",
       "<style>\n",
       "    .dataframe thead tr:only-child th {\n",
       "        text-align: right;\n",
       "    }\n",
       "\n",
       "    .dataframe thead th {\n",
       "        text-align: left;\n",
       "    }\n",
       "\n",
       "    .dataframe tbody tr th {\n",
       "        vertical-align: top;\n",
       "    }\n",
       "</style>\n",
       "<table border=\"1\" class=\"dataframe\">\n",
       "  <thead>\n",
       "    <tr style=\"text-align: right;\">\n",
       "      <th></th>\n",
       "      <th>coef</th>\n",
       "    </tr>\n",
       "  </thead>\n",
       "  <tbody>\n",
       "    <tr>\n",
       "      <th>about</th>\n",
       "      <td>-0.776493</td>\n",
       "    </tr>\n",
       "    <tr>\n",
       "      <th>above</th>\n",
       "      <td>0.042093</td>\n",
       "    </tr>\n",
       "  </tbody>\n",
       "</table>\n",
       "</div>"
      ],
      "text/plain": [
       "           coef\n",
       "about -0.776493\n",
       "above  0.042093"
      ]
     },
     "execution_count": 76,
     "metadata": {},
     "output_type": "execute_result"
    }
   ],
   "source": [
    "coef_df = pd.DataFrame(pipeline_reg.named_steps['model'].coef_.T,\n",
    "                       index = feat_selected, columns = ['coef'])\n",
    "print(coef_df.shape)\n",
    "coef_df[:2]"
   ]
  },
  {
   "cell_type": "code",
   "execution_count": 77,
   "metadata": {
    "scrolled": false
   },
   "outputs": [
    {
     "data": {
      "image/png": "[encoded data removed]",
      "text/plain": [
       "<matplotlib.figure.Figure at 0xcc9f1906a0>"
      ]
     },
     "metadata": {},
     "output_type": "display_data"
    }
   ],
   "source": [
    "plot_coefs(coef_df,30)"
   ]
  },
  {
   "cell_type": "code",
   "execution_count": 83,
   "metadata": {},
   "outputs": [
    {
     "data": {
      "text/plain": [
       "array([[ 0.28884657,  0.71115343],\n",
       "       [ 0.06646967,  0.93353033],\n",
       "       [ 0.00473231,  0.99526769]])"
      ]
     },
     "execution_count": 83,
     "metadata": {},
     "output_type": "execute_result"
    }
   ],
   "source": [
    "pred_y_proba[:3]"
   ]
  },
  {
   "cell_type": "code",
   "execution_count": 84,
   "metadata": {},
   "outputs": [
    {
     "name": "stderr",
     "output_type": "stream",
     "text": [
      "C:\\ProgramData\\Anaconda3\\lib\\site-packages\\ipykernel_launcher.py:1: SettingWithCopyWarning: \n",
      "A value is trying to be set on a copy of a slice from a DataFrame.\n",
      "Try using .loc[row_indexer,col_indexer] = value instead\n",
      "\n",
      "See the caveats in the documentation: http://pandas.pydata.org/pandas-docs/stable/indexing.html#indexing-view-versus-copy\n",
      "  \"\"\"Entry point for launching an IPython kernel.\n",
      "C:\\ProgramData\\Anaconda3\\lib\\site-packages\\ipykernel_launcher.py:2: SettingWithCopyWarning: \n",
      "A value is trying to be set on a copy of a slice from a DataFrame.\n",
      "Try using .loc[row_indexer,col_indexer] = value instead\n",
      "\n",
      "See the caveats in the documentation: http://pandas.pydata.org/pandas-docs/stable/indexing.html#indexing-view-versus-copy\n",
      "  \n"
     ]
    }
   ],
   "source": [
    "eval_df2['Pred'] = pred_y\n",
    "eval_df2['Proba'] = pred_y_proba[:,1]"
   ]
  },
  {
   "cell_type": "code",
   "execution_count": 88,
   "metadata": {},
   "outputs": [],
   "source": [
    "coef_df.to_excel(r\"..\\output\\Oct 27\\Features.xlsx\")\n",
    "eval_df2.to_excel(r\"..\\output\\Oct 27\\Results.xlsx\")"
   ]
  },
  {
   "cell_type": "code",
   "execution_count": null,
   "metadata": {
    "collapsed": true
   },
   "outputs": [],
   "source": []
  }
 ],
 "metadata": {
  "kernelspec": {
   "display_name": "Python 3",
   "language": "python",
   "name": "python3"
  },
  "language_info": {
   "codemirror_mode": {
    "name": "ipython",
    "version": 3
   },
   "file_extension": ".py",
   "mimetype": "text/x-python",
   "name": "python",
   "nbconvert_exporter": "python",
   "pygments_lexer": "ipython3",
   "version": "3.6.2"
  }
 },
 "nbformat": 4,
 "nbformat_minor": 2
}
